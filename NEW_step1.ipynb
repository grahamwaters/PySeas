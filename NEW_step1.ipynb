{
 "cells": [
  {
   "cell_type": "code",
   "execution_count": 3,
   "metadata": {},
   "outputs": [
    {
     "name": "stdout",
     "output_type": "stream",
     "text": [
      "Error: could not retrieve buoy data\n"
     ]
    },
    {
     "ename": "ValueError",
     "evalue": "not enough values to unpack (expected 2, got 0)",
     "output_type": "error",
     "traceback": [
      "\u001b[0;31m---------------------------------------------------------------------------\u001b[0m",
      "\u001b[0;31mValueError\u001b[0m                                Traceback (most recent call last)",
      "Cell \u001b[0;32mIn[3], line 11\u001b[0m\n\u001b[1;32m      9\u001b[0m     exit()\n\u001b[1;32m     10\u001b[0m lines \u001b[39m=\u001b[39m response\u001b[39m.\u001b[39mcontent\u001b[39m.\u001b[39mdecode()\u001b[39m.\u001b[39msplit(\u001b[39m'\u001b[39m\u001b[39m\\n\u001b[39;00m\u001b[39m'\u001b[39m)\n\u001b[0;32m---> 11\u001b[0m lat, lon \u001b[39m=\u001b[39m [\u001b[39mfloat\u001b[39m(line\u001b[39m.\u001b[39msplit()[\u001b[39m-\u001b[39m\u001b[39m1\u001b[39m]) \u001b[39mfor\u001b[39;00m line \u001b[39min\u001b[39;00m lines \u001b[39mif\u001b[39;00m \u001b[39m'\u001b[39m\u001b[39mLat\u001b[39m\u001b[39m'\u001b[39m \u001b[39min\u001b[39;00m line \u001b[39mor\u001b[39;00m \u001b[39m'\u001b[39m\u001b[39mLon\u001b[39m\u001b[39m'\u001b[39m \u001b[39min\u001b[39;00m line]\n",
      "\u001b[0;31mValueError\u001b[0m: not enough values to unpack (expected 2, got 0)"
     ]
    },
    {
     "ename": "",
     "evalue": "",
     "output_type": "error",
     "traceback": [
      "\u001b[1;31mThe Kernel crashed while executing code in the the current cell or a previous cell. Please review the code in the cell(s) to identify a possible cause of the failure. Click <a href='https://aka.ms/vscodeJupyterKernelCrash'>here</a> for more info. View Jupyter <a href='command:jupyter.viewOutput'>log</a> for further details."
     ]
    }
   ],
   "source": [
    "import requests\n",
    "\n",
    "# Step 1: Use NOAA API to get buoy location data\n",
    "buoy_id = '46219' # example buoy ID\n",
    "url = f'https://www.ndbc.noaa.gov/data/stations/station_history_{buoy_id}.txt'\n",
    "response = requests.get(url)\n",
    "if response.status_code != 200:\n",
    "    print('Error: could not retrieve buoy data')\n",
    "    exit()\n",
    "lines = response.content.decode().split('\\n')\n",
    "lat, lon = [float(line.split()[-1]) for line in lines if 'Lat' in line or 'Lon' in line]\n"
   ]
  }
 ],
 "metadata": {
  "kernelspec": {
   "display_name": "pyseas",
   "language": "python",
   "name": "python3"
  },
  "language_info": {
   "codemirror_mode": {
    "name": "ipython",
    "version": 3
   },
   "file_extension": ".py",
   "mimetype": "text/x-python",
   "name": "python",
   "nbconvert_exporter": "python",
   "pygments_lexer": "ipython3",
   "version": "3.9.15"
  },
  "orig_nbformat": 4
 },
 "nbformat": 4,
 "nbformat_minor": 2
}
