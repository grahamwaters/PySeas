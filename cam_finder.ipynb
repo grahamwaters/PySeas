{
 "cells": [
  {
   "cell_type": "markdown",
   "metadata": {},
   "source": [
    "# Goal: determine which cameras (on buoys) from NOAA have webcams that are functional and can be used for the project.\n"
   ]
  },
  {
   "cell_type": "code",
   "execution_count": 9,
   "metadata": {},
   "outputs": [],
   "source": [
    "import requests\n",
    "import json\n",
    "import pandas as pd\n",
    "import numpy as np\n",
    "from bs4 import BeautifulSoup\n",
    "import re\n",
    "import os\n",
    "from tqdm import tqdm\n",
    "import time\n",
    "# the list of buoys to check for cameras are in the file data/buoy_ids.csv\n",
    "with open('data/buoy_ids.csv', 'r') as f:\n",
    "    buoy_ids = f.read().splitlines()\n",
    "\n",
    "# How can we know if a buoy has a camera?\n",
    "# We can check the text of the page for the buoy on the NOAA website for the word \"Camera\"\n",
    "# If the word \"Camera\" is in the text, then we know there is a camera\n",
    "\n",
    "# We can use the requests library to get the text of the page\n",
    "# We can use the BeautifulSoup library to parse the text of the page\n",
    "# We can use the re library to search for the word \"Camera\" in the text of the page\n",
    "\n",
    "# We will store the buoy ids that have cameras in the list cam_buoys\n",
    "cam_buoys = []\n"
   ]
  },
  {
   "cell_type": "markdown",
   "metadata": {},
   "source": [
    "Stage One"
   ]
  },
  {
   "cell_type": "code",
   "execution_count": 10,
   "metadata": {},
   "outputs": [],
   "source": [
    "ids = [\"21414\",\"21415\",\"21416\",\"21417\",\"21418\",\"21419\",\"32301\",\"32302\",\"32411\",\"32412\",\"32413\",\"41001\",\"41002\",\"41003\",\"41004\",\"41007\",\"41008\",\"41009\",\"41010\",\"41011\",\"41012\",\"41016\",\"41017\",\"41018\",\"41021\",\"41022\",\"41023\",\"41036\",\"41040\",\"41041\",\"41043\",\"41044\",\"41046\",\"41049\",\"41420\",\"41421\",\"41424\",\"41425\",\"42001\",\"42002\",\"42003\",\"42004\",\"42007\",\"42008\",\"42009\",\"42010\",\"42011\",\"42012\",\"42017\",\"42018\",\"42019\",\"42020\",\"42025\",\"42035\",\"42038\",\"42039\",\"42040\",\"42041\",\"42042\",\"42053\",\"42056\",\"42057\",\"42058\",\"42059\",\"42060\",\"42065\",\"42408\",\"42409\",\"42429\",\"42501\",\"42503\",\"42534\",\"44001\",\"44003\",\"44004\",\"44005\",\"44006\",\"44007\",\"44010\",\"44011\",\"44012\",\"44013\",\"44014\",\"44015\",\"44019\",\"44020\",\"44023\",\"44025\",\"44026\",\"44027\",\"44066\",\"44070\",\"44071\",\"44401\",\"44402\",\"44403\",\"45002\",\"45003\",\"45004\",\"45005\",\"45006\",\"45007\",\"45010\",\"45011\",\"45012\",\"46001\",\"46002\",\"46003\",\"46007\",\"46008\",\"46009\",\"46010\",\"46011\",\"46012\",\"46015\",\"46016\",\"46017\",\"46018\",\"46019\",\"46020\",\"46023\",\"46024\",\"46025\",\"46026\",\"46027\",\"46028\",\"46031\",\"46032\",\"46033\",\"46034\",\"46035\",\"46037\",\"46040\",\"46041\",\"46042\",\"46043\",\"46045\",\"46047\",\"46051\",\"46053\",\"46054\",\"46059\",\"46060\",\"46061\",\"46066\",\"46069\",\"46070\",\"46071\",\"46072\",\"46073\",\"46077\",\"46078\",\"46079\",\"46080\",\"46081\",\"46082\",\"46085\",\"46086\",\"46087\",\"46088\",\"46089\",\"46090\",\"46107\",\"46115\",\"46270\",\"46290\",\"46401\",\"46402\",\"46405\",\"46406\",\"46407\",\"46408\",\"46409\",\"46410\",\"46413\",\"46414\",\"46415\",\"46416\",\"46419\",\"46490\",\"46779\",\"46780\",\"46781\",\"46782\",\"46785\",\"51000\",\"51001\",\"51002\",\"51003\",\"51004\",\"51005\",\"51028\",\"51100\",\"51101\",\"51406\",\"51407\",\"51425\",\"52009\",\"52401\",\"52402\",\"52403\",\"52404\",\"52405\",\"91204\",\"91222\",\"91251\",\"91328\",\"91338\",\"91343\",\"91356\",\"91365\",\"91374\",\"91377\",\"91411\",\"91442\",\"46265\",\"41670\",\"41852\",\"41904\",\"41933\",\"48916\",\"48917\",\"52838\",\"52839\",\"52840\",\"52841\",\"52842\",\"52843\",\"52862\",\"55012\",\"55013\",\"55015\",\"55016\",\"55023\",\"55042\",\"58952\",\"31052\",\"31053\",\"41052\",\"41053\",\"41056\",\"41058\",\"41115\",\"41121\",\"41030\",\"44042\",\"44043\",\"44057\",\"44058\",\"44059\",\"44061\",\"44064\",\"44068\",\"45016\",\"45017\",\"45018\",\"45019\",\"45177\",\"45202\",\"45203\",\"45204\",\"45205\",\"45206\",\"45207\",\"46116\",\"46117\",\"46127\",\"42014\",\"42021\",\"42022\",\"42023\",\"42024\",\"42026\",\"32404\",\"41029\",\"41033\",\"41037\",\"41038\",\"41064\",\"41065\",\"41110\",\"41119\",\"41159\",\"32488\",\"41193\",\"44138\",\"44139\",\"44140\",\"44141\",\"44142\",\"44150\",\"44176\",\"44235\",\"44251\",\"44255\",\"44258\",\"44488\",\"45132\",\"45135\",\"45136\",\"45137\",\"45138\",\"45139\",\"45142\",\"45143\",\"45144\",\"45145\",\"45147\",\"45148\",\"45151\",\"45152\",\"45154\",\"45155\",\"45158\",\"45159\",\"46036\",\"46131\",\"46132\",\"46084\",\"46134\",\"46138\",\"46139\",\"46147\",\"46181\",\"46183\",\"46184\",\"46185\",\"46204\",\"46207\",\"46208\",\"46303\",\"46304\",\"48021\",\"45162\",\"45163\",\"45195\",\"23219\",\"23227\",\"32067\",\"32068\",\"42087\",\"42088\",\"42089\",\"42090\",\"46109\",\"46110\",\"46111\",\"46112\",\"21346\",\"21347\",\"21348\",\"21595\",\"21597\",\"21598\",\"21637\",\"21640\",\"22102\",\"22103\",\"22104\",\"22105\",\"22106\",\"22107\",\"45029\",\"45164\",\"45165\",\"45168\",\"45169\",\"45176\",\"46091\",\"46092\",\"62091\",\"62092\",\"62093\",\"62094\",\"41097\",\"41098\",\"41100\",\"41101\",\"41300\",\"61001\",\"45025\",\"45175\",\"44039\",\"44040\",\"44060\",\"23220\",\"23223\",\"23225\",\"46261\",\"46263\",\"48901\",\"48908\",\"48909\",\"48912\",\"44024\",\"44029\",\"44030\",\"44031\",\"44032\",\"44033\",\"44036\",\"44037\",\"45172\",\"45173\",\"46118\",\"46119\",\"46531\",\"46534\",\"46538\",\"46565\",\"44075\",\"44076\",\"44077\",\"44078\",\"46097\",\"46098\",\"51046\",\"51201\",\"51202\",\"51203\",\"51204\",\"51205\",\"51208\",\"51209\",\"51210\",\"51211\",\"51212\",\"51213\",\"52202\",\"52211\",\"13002\",\"13008\",\"13009\",\"13010\",\"15001\",\"15002\",\"31001\",\"31002\",\"31003\",\"31004\",\"31005\",\"31006\",\"62121\",\"62124\",\"62125\",\"62126\",\"62127\",\"62130\",\"62144\",\"62145\",\"62146\",\"62147\",\"62148\",\"62149\",\"62165\",\"62166\",\"63105\",\"63110\",\"63112\",\"63113\",\"14041\",\"14043\",\"14047\",\"23001\",\"23003\",\"23004\",\"23008\",\"23009\",\"23010\",\"23011\",\"23012\",\"23013\",\"23016\",\"23017\",\"53005\",\"53006\",\"53009\",\"53040\",\"56053\",\"01506\",\"01507\",\"01518\",\"01537\",\"48904\",\"48907\",\"01521\",\"01522\",\"01523\",\"01524\",\"01526\",\"01531\",\"01535\",\"01536\",\"01538\",\"01909\",\"01910\",\"31201\",\"41112\",\"41113\",\"41114\",\"41116\",\"41118\",\"41120\",\"42084\",\"42091\",\"42094\",\"42099\",\"44088\",\"44094\",\"44099\",\"44100\",\"44172\",\"46114\",\"46211\",\"46212\",\"46215\",\"46216\",\"46217\",\"46218\",\"46219\",\"46220\",\"46223\",\"46224\",\"46225\",\"46226\",\"46227\",\"46228\",\"46231\",\"46232\",\"46234\",\"46235\",\"46236\",\"46237\",\"46240\",\"46241\",\"46242\",\"46243\",\"46244\",\"46245\",\"46249\",\"46250\",\"46251\",\"46253\",\"46254\",\"46256\",\"46262\",\"46267\",\"46268\",\"46269\",\"46273\",\"46274\",\"51200\",\"48212\",\"48213\",\"48214\",\"48677\",\"48678\",\"48679\",\"48680\",\"48911\",\"42044\",\"42045\",\"42046\",\"42047\",\"42048\",\"42049\",\"42078\",\"42079\",\"42093\",\"42095\",\"42097\",\"44056\",\"45180\",\"46259\",\"46266\",\"62028\",\"62029\",\"62030\",\"62050\",\"62081\",\"62103\",\"62108\",\"62163\",\"62170\",\"62298\",\"62301\",\"62303\",\"62442\",\"64045\",\"44098\",\"46121\",\"46122\",\"46123\",\"46124\",\"28902\",\"28903\",\"28904\",\"28906\",\"28907\",\"28908\",\"58900\",\"58902\",\"58903\",\"58904\",\"58905\",\"58906\",\"58909\",\"68900\",\"78900\",\"45014\",\"45184\",\"44053\",\"01517\",\"32012\",\"41060\",\"41061\",\"21D20\",\"32D12\",\"32D13\",\"41A46\",\"41S43\",\"41S46\",\"46B35\",\"ALSN6\",\"AMAA2\",\"AUGA2\",\"BLIA2\",\"BURL1\",\"BUSL1\",\"CDRF1\",\"CHLV2\",\"CLKN7\",\"CSBF1\",\"DBLN6\",\"DESW1\",\"DRFA2\",\"DRYF1\",\"DSLN7\",\"DUCN7\",\"EB01\",\"EB10\",\"EB33\",\"EB35\",\"EB36\",\"EB43\",\"EB52\",\"EB53\",\"EB70\",\"EB90\",\"EB91\",\"EB92\",\"FARP2\",\"FBIS1\",\"FPSN7\",\"FWYF1\",\"GBCL1\",\"GDIL1\",\"GLLN6\",\"IOSN3\",\"LONF1\",\"LPOI1\",\"MDRM1\",\"MISM1\",\"MLRF1\",\"MPCL1\",\"PILA2\",\"PILM4\",\"PLSF1\",\"POTA2\",\"PTAC1\",\"PTAT2\",\"SANF1\",\"SAUF1\",\"SBIO1\",\"SGNW3\",\"SGOF1\",\"SISW1\",\"SPGF1\",\"SRST2\",\"STDM4\",\"SUPN6\",\"SVLS1\",\"THIN6\",\"VENF1\",\"HBXC1\",\"MYXC1\",\"TDPC1\",\"FSTI2\",\"DMNO3\",\"GPTW1\",\"HMNO3\",\"PRTO3\",\"SEFO3\",\"SETO3\",\"SRAW1\",\"SRFW1\",\"TANO3\",\"ANMF1\",\"ARPF1\",\"BGCF1\",\"CAMF1\",\"CLBF1\",\"EGKF1\",\"NFBF1\",\"PTRF1\",\"SHPF1\",\"MBIN7\",\"MBNN7\",\"OCPN7\",\"BSCA1\",\"CRTA1\",\"DPHA1\",\"KATA1\",\"MBLA1\",\"MHPA1\",\"SACV4\",\"BBSF1\",\"BDVF1\",\"BKYF1\",\"BNKF1\",\"BOBF1\",\"BSKF1\",\"CNBF1\",\"CWAF1\",\"DKKF1\",\"GBIF1\",\"GBTF1\",\"GKYF1\",\"JBYF1\",\"JKYF1\",\"LBRF1\",\"LBSF1\",\"LMDF1\",\"LMRF1\",\"LSNF1\",\"MDKF1\",\"MNBF1\",\"MUKF1\",\"NRRF1\",\"PKYF1\",\"TCVF1\",\"THRF1\",\"TPEF1\",\"TRRF1\",\"WIWF1\",\"WPLF1\",\"APNM4\",\"CHII2\",\"MCYI3\",\"SRLM4\",\"SVNM4\",\"TBIM4\",\"THLO1\",\"LCIY2\",\"LLBP7\",\"FWIC3\",\"MISC3\",\"MISN6\",\"NCSC3\",\"NOSC3\",\"OFPN6\",\"ILDL1\",\"MRSL1\",\"SIPM6\",\"SLPL1\",\"LUML1\",\"TAML1\",\"AKXA2\",\"APMA2\",\"BEXA2\",\"CDXA2\",\"CPXA2\",\"DHXA2\",\"DPXA2\",\"ERXA2\",\"GBXA2\",\"GEXA2\",\"GIXA2\",\"GPXA2\",\"HMSA2\",\"ICYA2\",\"JLXA2\",\"JMLA2\",\"JNGA2\",\"KEXA2\",\"KNXA2\",\"KOZA2\",\"LIXA2\",\"MIXA2\",\"MRNA2\",\"MRYA2\",\"NKLA2\",\"NKXA2\",\"NLXA2\",\"NMXA2\",\"NSXA2\",\"PAUA2\",\"PEXA2\",\"PGXA2\",\"PPXA2\",\"PTLA2\",\"RIXA2\",\"SCXA2\",\"SIXA2\",\"SKXA2\",\"SLXA2\",\"SPXA2\",\"SRXA2\",\"STXA2\",\"SXXA2\",\"TKEA2\",\"TPXA2\",\"UQXA2\",\"VDXA2\",\"WCXA2\",\"MSG10\",\"MSG12\",\"ACQS1\",\"ACXS1\",\"ANMN6\",\"ANRN6\",\"APQF1\",\"APXA2\",\"BILW3\",\"BRIM2\",\"BSLM2\",\"BVQW1\",\"CHNO3\",\"CHQO3\",\"CWQT2\",\"DBQS1\",\"DEQD1\",\"DRSD1\",\"EAZC1\",\"EHSC1\",\"EVMC1\",\"FFFC1\",\"GBHM6\",\"GBQN3\",\"GBRM6\",\"GDQM6\",\"GGGC1\",\"GTQF1\",\"GTXF1\",\"HBMN6\",\"HMRA2\",\"HUQN6\",\"JCTN4\",\"JOBP4\",\"JOQP4\",\"JOXP4\",\"KCHA2\",\"LTQM2\",\"MIST2\",\"MQMT2\",\"MWQT2\",\"NAQR1\",\"NAXR1\",\"NIQS1\",\"NOXN7\",\"NPQN6\",\"NPXN6\",\"OWDO1\",\"OWQO1\",\"OWSO1\",\"PBLW1\",\"PKBW3\",\"RKQF1\",\"RKXF1\",\"RYEC1\",\"SAQG1\",\"SCQC1\",\"SCQN6\",\"SEQA2\",\"SFXC1\",\"SKQN6\",\"SLOO3\",\"TCSV2\",\"TIQC1\",\"TIXC1\",\"TKPN6\",\"WAQM3\",\"WAXM3\",\"WELM1\",\"WEQM1\",\"WEXM1\",\"WKQA1\",\"WKXA1\",\"WYBS1\",\"NLMA3\",\"SBBN2\",\"SLMN2\",\"BAXC1\",\"BDRN4\",\"BDSP1\",\"BGNN6\",\"BKBF1\",\"BLIF1\",\"BRND1\",\"CHCM2\",\"CHYV2\",\"COVM2\",\"CPMW1\",\"CPNW1\",\"CRYV2\",\"DELD1\",\"DMSF1\",\"DOMV2\",\"DPXC1\",\"EBEF1\",\"FMOA1\",\"FRVM3\",\"FRXM3\",\"FSKM2\",\"FSNM2\",\"GCTF1\",\"LNDC1\",\"LQAT2\",\"LTJF1\",\"MBPA1\",\"MCGA1\",\"MHBT2\",\"MRCP1\",\"MTBF1\",\"MZXC1\",\"NBLP1\",\"NFDF1\",\"NWHC3\",\"OMHC1\",\"OPTF1\",\"PDVR1\",\"PEGF1\",\"PFDC1\",\"PFXC1\",\"PPTM2\",\"PPXC1\",\"PRJC1\",\"PRUR1\",\"PSBC1\",\"PSXC1\",\"PTOA1\",\"PVDR1\",\"PXAC1\",\"PXOC1\",\"PXSC1\",\"QPTR1\",\"RPLV2\",\"RTYC1\",\"SEIM1\",\"SJSN4\",\"SKCF1\",\"SWPM4\",\"TCNW1\",\"TLVT2\",\"TPAF1\",\"TSHF1\",\"TXVT2\",\"UPBC1\",\"WDSV2\",\"ACYN4\",\"ADKA2\",\"AGCM4\",\"ALIA2\",\"ALXN6\",\"AMRL1\",\"APAM2\",\"APCF1\",\"APRP7\",\"ASTO3\",\"ATGM1\",\"ATKA2\",\"BEPB6\",\"BFTN7\",\"BHBM3\",\"BISM2\",\"BKTL1\",\"BLTM2\",\"BYGL1\",\"BZBM3\",\"CAMM2\",\"CAPL1\",\"CARL1\",\"CASM1\",\"CECC1\",\"CFWM1\",\"CHAO3\",\"CHAV3\",\"CHBV2\",\"CHSV3\",\"CHYW1\",\"CLBP4\",\"CMAN4\",\"CMTI2\",\"CNDO1\",\"CRVA2\",\"DILA1\",\"DKCM6\",\"DTLM4\",\"DUKN7\",\"DULM5\",\"EBSW1\",\"ERTF1\",\"ESPP4\",\"FAIO1\",\"FCGT2\",\"FMRF1\",\"FOXR1\",\"FPTT2\",\"FRCB6\",\"FRDF1\",\"FRDW1\",\"FREL1\",\"FRPS1\",\"FTPC1\",\"GBWW3\",\"GCVF1\",\"GDMM5\",\"GISL1\",\"GNJT2\",\"GTOT2\",\"GWPM6\",\"HBYC1\",\"HCGN7\",\"HLNM4\",\"HMDO3\",\"ICAC1\",\"IIWC1\",\"ILOH1\",\"ITKA2\",\"JMPN7\",\"JNEA2\",\"KECA2\",\"KGCA2\",\"KLIH1\",\"KPTN6\",\"KPTV2\",\"KWHH1\",\"KYWF1\",\"LABL1\",\"LAMV3\",\"LAPW1\",\"LCLL1\",\"LDTM4\",\"LOPW1\",\"LPNM4\",\"LTBV3\",\"LTRM4\",\"LWSD1\",\"LWTV2\",\"MBRM4\",\"MCGM4\",\"MCYF1\",\"MEYC1\",\"MGIP4\",\"MGZP4\",\"MOKH1\",\"MQTT2\",\"MRHO1\",\"MROS1\",\"MTKN6\",\"MTYC1\",\"NEAW1\",\"NIAN6\",\"NJLC1\",\"NKTA2\",\"NLNC3\",\"NMTA2\",\"NTBC1\",\"NTKM3\",\"NUET2\",\"NWCL1\",\"NWPR1\",\"NWWH1\",\"OCIM2\",\"OHBC1\",\"OLSA2\",\"OOUH1\",\"ORIN7\",\"OSGN6\",\"PCBF1\",\"PCLF1\",\"PCOC1\",\"PGBP7\",\"PHBP1\",\"PLXA2\",\"PNLM6\",\"PORO3\",\"PRDA2\",\"PRYC1\",\"PSBM1\",\"PSLC1\",\"PTAW1\",\"PTIM4\",\"PTIT2\",\"PTWW1\",\"RARM6\",\"RCKM4\",\"RCYF1\",\"RDDA2\",\"RDYD1\",\"SAPF1\",\"SBEO3\",\"SBLF1\",\"SDBC1\",\"SDHN4\",\"SHBL1\",\"SJNP4\",\"SKTA2\",\"SLIM2\",\"SNDP5\",\"SWLA2\",\"SWPV2\",\"TESL1\",\"THRO1\",\"TLBO3\",\"TRDF1\",\"TXPT2\",\"ULAM6\",\"ULRA2\",\"UNLA2\",\"VAKF1\",\"VDZA2\",\"WAHV2\",\"WAKP8\",\"WASD2\",\"WAVM6\",\"WLON7\",\"WPTW1\",\"WYCM6\",\"YATA2\",\"BLTA2\",\"CDEA2\",\"EROA2\",\"LCNA2\",\"PBPA2\",\"PRTA2\",\"SDIA2\",\"AGMW3\",\"BHRI3\",\"BIGM4\",\"BSBM4\",\"CBRW3\",\"CLSM4\",\"FPTM4\",\"GBLW3\",\"GRMM4\",\"GSLM4\",\"GTLM4\",\"GTRM4\",\"KP53\",\"KP58\",\"KP59\",\"LSCM4\",\"MEEM4\",\"NABM4\",\"PCLM4\",\"PNGW3\",\"PRIM4\",\"PSCM4\",\"PWAW3\",\"SBLM4\",\"SPTM4\",\"SXHW3\",\"SYWW3\",\"TAWM4\",\"WFPM4\",\"BARN6\",\"CBLO1\",\"CHDS1\",\"CMPO1\",\"GELO1\",\"HHLO1\",\"LORO1\",\"NREP1\",\"OLCN6\",\"RPRN6\",\"WATS1\",\"AUDP4\",\"FRDP4\",\"PLSP4\",\"VQSP4\",\"CGCL1\",\"SKMG1\",\"SPAG1\",\"AVAN4\",\"BRBN4\",\"OCGN4\",\"AWRT2\",\"BABT2\",\"BZST2\",\"CLLT2\",\"CPNT2\",\"EMAT2\",\"GRRT2\",\"HIST2\",\"IRDT2\",\"LUIT2\",\"LYBT2\",\"MGPT2\",\"NWST2\",\"PACT2\",\"PCGT2\",\"PCNT2\",\"PMNT2\",\"PORT2\",\"RSJT2\",\"RTAT2\",\"RTOT2\",\"SDRT2\",\"SGNT2\",\"TAQT2\",\"BTHD1\",\"FRFN7\",\"JPRN7\",\"18CI3\",\"20CM4\",\"GDIV2\",\"32ST0\",\"41NT0\"]\n",
    "buoy_ids = ids\n",
    "\n",
    "buoy_ids_with_cameras = [] # blank list to store buoy ids with cameras"
   ]
  },
  {
   "cell_type": "code",
   "execution_count": 11,
   "metadata": {},
   "outputs": [
    {
     "name": "stderr",
     "output_type": "stream",
     "text": [
      "100%|██████████| 1219/1219 [00:00<00:00, 285826.06it/s]\n"
     ]
    }
   ],
   "source": [
    "# Loop through the buoy ids\n",
    "for buoy_id in tqdm(buoy_ids):\n",
    "    # if the page text needs to be retrieved then do so, else pull from the text files\n",
    "    if not os.path.exists('data/buoy_pages/{}.txt'.format(buoy_id)):\n",
    "        # get the page text\n",
    "        time.sleep(1)\n",
    "        page = requests.get('https://www.ndbc.noaa.gov/station_page.php?station={}'.format(buoy_id))\n",
    "        # write the page text to a file\n",
    "        with open('data/buoy_pages/{}.txt'.format(buoy_id), 'w+') as f:\n",
    "            f.write(page.text)\n",
    "        if 'Buoy Camera' in page.text:\n",
    "            # save the buoy id to the list of buoy ids with cameras\n",
    "            buoy_ids_with_cameras.append(buoy_id)\n",
    "            with open('data/buoy_ids_with_cameras.txt', 'a+') as f:\n",
    "                f.write(buoy_id + ',')\n",
    "    else:\n",
    "        # read the page text from a file\n",
    "        # with open('data/buoy_pages/{}.txt'.format(buoy_id), 'r') as f:\n",
    "        #     page = f.read()\n",
    "        pass"
   ]
  },
  {
   "cell_type": "code",
   "execution_count": 12,
   "metadata": {},
   "outputs": [],
   "source": [
    "# parse the page text\n",
    "cam_buoys = [] # blank list to store buoy ids with cameras"
   ]
  },
  {
   "cell_type": "code",
   "execution_count": 13,
   "metadata": {},
   "outputs": [
    {
     "name": "stderr",
     "output_type": "stream",
     "text": [
      "100%|██████████| 1219/1219 [00:57<00:00, 21.17it/s]\n"
     ]
    }
   ],
   "source": [
    "\n",
    "# open each buoy page text file in data/buoy_pages and parse the page text\n",
    "for buoy_page in tqdm(os.listdir('data/buoy_pages')):\n",
    "    with open('data/buoy_pages/{}'.format(buoy_page), 'r') as f:\n",
    "        page = f.read() # read the page text\n",
    "    soup = BeautifulSoup(page, 'html.parser')\n",
    "    # search for the word \"Camera\" in the page text\n",
    "    if re.search('Camera', soup.text):\n",
    "        # if the word \"Camera\" is in the page text, then the buoy has a camera.\n",
    "        # save the name of the file (without the .txt extension) to the list of buoy ids with cameras (cam_buoys) array.\n",
    "        cam_buoys.append(buoy_page.replace('.txt', ''))"
   ]
  },
  {
   "cell_type": "code",
   "execution_count": 14,
   "metadata": {},
   "outputs": [
    {
     "name": "stdout",
     "output_type": "stream",
     "text": [
      "Found 61 buoys with functional cameras.\n",
      "These have been saved in the cam_buoys array.\n"
     ]
    }
   ],
   "source": [
    "\n",
    "print(f'Found {len(cam_buoys)} buoys with functional cameras.')\n",
    "# save them to the file data/buoys.csv\n",
    "with open('data/buoys.csv', 'w+') as f:\n",
    "    f.write(\"'buoy_id',\\n\") # could add lat and lng later\n",
    "    for buoy_id in cam_buoys:\n",
    "        f.write('{},\\n'.format(buoy_id))\n",
    "print('These have been saved in the cam_buoys array.')\n",
    "\n",
    "#46078 is functional and very interesting as well.\n"
   ]
  },
  {
   "cell_type": "code",
   "execution_count": 15,
   "metadata": {},
   "outputs": [
    {
     "name": "stderr",
     "output_type": "stream",
     "text": [
      "100%|██████████| 61/61 [00:00<00:00, 885302.92it/s]"
     ]
    },
    {
     "name": "stdout",
     "output_type": "stream",
     "text": [
      "These have been saved in the cam_urls array.\n"
     ]
    },
    {
     "name": "stderr",
     "output_type": "stream",
     "text": [
      "\n"
     ]
    }
   ],
   "source": [
    "# building the urls for the cameras\n",
    "cam_urls = [] # blank list to store the camera urls\n",
    "for buoy_id in tqdm(cam_buoys):\n",
    "    cam_url = 'https://www.ndbc.noaa.gov/buoycam.php?station={}'.format(buoy_id)\n",
    "    cam_urls.append(cam_url) # add the camera url to the list of camera urls\n",
    "\n",
    "# save the camera urls to the file data/camera_urls.csv\n",
    "with open('data/camera_urls.csv', 'w+') as f:\n",
    "    f.write(\"'cam_url',\\n\")\n",
    "    for cam_url in cam_urls:\n",
    "        f.write('{},\\n'.format(cam_url))\n",
    "\n",
    "print('These have been saved in the cam_urls array.')"
   ]
  },
  {
   "cell_type": "code",
   "execution_count": 16,
   "metadata": {},
   "outputs": [],
   "source": [
    "import shutil"
   ]
  },
  {
   "cell_type": "code",
   "execution_count": 17,
   "metadata": {},
   "outputs": [],
   "source": [
    "def panel_sorter():\n",
    "    # Go into each panel directory and sort the images into folders by the date in their filename (if they haven't already been sorted)\n",
    "    # example unsorted directory: 'images/panels/46078/2022_11_5_15_44_panel_1.png'\n",
    "    # example sorted directory: images/panels/51000/2022_11_5_15_44/panel_1.png\n",
    "\n",
    "    for buoy_id in os.listdir('images/panels'):\n",
    "        if buoy_id != '.DS_Store' and '.' not in buoy_id:\n",
    "            for image in os.listdir('images/panels/{}'.format(buoy_id)):\n",
    "                if image != '.DS_Store' and '.' not in image:\n",
    "                    try:\n",
    "                        # find the 2022_11_5_15_44 (#_#_#_#_#) part of the filename and make a new folder with that name.\n",
    "                        # move the image that contain the matching pattern in their filename into the new folder\n",
    "                        # if the folder already exists, then move the image into the existing folder\n",
    "                        # if the folder doesn't exist, then create the folder and move the image into the new folder\n",
    "                        # if the image has already been moved into a folder, then skip it\n",
    "                        # if the image is the .DS_Store file, then skip it\n",
    "                        # if the image is None, then skip it\n",
    "                    \n",
    "                        pattern = re.compile(r'\\d{4}_\\d{1,2}_\\d{1,2}_\\d{1,2}_\\d{1,2}') # create a pattern to match the date in the filename\n",
    "                        match = pattern.search(image) # search the filename for the date\n",
    "                        if match:\n",
    "                            date = match.group() # get the date from the match\n",
    "                            if not os.path.exists('images/panels/{}/{}'.format(buoy_id, date)): # if the folder doesn't exist, then create it\n",
    "                                os.makedirs('images/panels/{}/{}'.format(buoy_id, date)) # create the folder\n",
    "                            shutil.move('images/panels/{}/{}'.format(buoy_id, image), 'images/panels/{}/{}/{}'.format(buoy_id, date, image)) # move the image into the new folder\n",
    "                        else:\n",
    "                            pass\n",
    "                    except Exception as e:\n",
    "                        pass\n",
    "            else:\n",
    "                pass\n",
    "        else:\n",
    "            pass"
   ]
  },
  {
   "cell_type": "code",
   "execution_count": 18,
   "metadata": {},
   "outputs": [],
   "source": [
    "import cv2\n",
    "import numpy as np\n",
    "import urllib.request\n",
    "import time\n",
    "\n",
    "# Image Processing Functions\n",
    "# we have the images in the images/buoys directory already downloaded.\n",
    "\n",
    "def divide_into_panels(buoy_id, image_file):\n",
    "    # divide the image into six panels, as dictated in the image processing pipeline for NOAA Buoy Cameras Comments above.\n",
    "\n",
    "    # read the image\n",
    "    img = cv2.imread(image_file)\n",
    "    # get the name of the image file\n",
    "    image_name = image_file.split('/')[-1]\n",
    "\n",
    "    # get the dimensions of the image\n",
    "    height, width, channels = img.shape\n",
    "\n",
    "    # Before dividing into panels, crop the image to remove 30 pixels from the bottom of the image.\n",
    "    # This is to remove the \"Buoy Camera\" text from the image.\n",
    "    # img = img[0:height-30, 0:width]\n",
    "\n",
    "    # divide the image into six panels named: image_name_panel_#.jpg\n",
    "    image_name = image_name.replace('.jpg', '') # remove the .jpg extension for now\n",
    "    panel_1 = img[0:height-30, 0:int(width/6)]\n",
    "    cv2.imwrite('images/panels/{}/{}_panel_1.png'.format(buoy_id, image_name), panel_1)\n",
    "    panel_2 = img[0:height-30, int(width/6):int(width/3)]\n",
    "    cv2.imwrite('images/panels/{}/{}_panel_2.png'.format(buoy_id, image_name), panel_2)\n",
    "    panel_3 = img[0:height-30, int(width/3):int(width/2)]\n",
    "    cv2.imwrite('images/panels/{}/{}_panel_3.png'.format(buoy_id, image_name), panel_3)\n",
    "    panel_4 = img[0:height-30, int(width/2):int(width*2/3)]\n",
    "    cv2.imwrite('images/panels/{}/{}_panel_4.png'.format(buoy_id, image_name), panel_4)\n",
    "    panel_5 = img[0:height-30, int(width*2/3):int(width*5/6)]\n",
    "    cv2.imwrite('images/panels/{}/{}_panel_5.png'.format(buoy_id, image_name), panel_5)\n",
    "    panel_6 = img[0:height-30, int(width*5/6):width]\n",
    "    cv2.imwrite('images/panels/{}/{}_panel_6.png'.format(buoy_id, image_name), panel_6)\n",
    "    return panel_1, panel_2, panel_3, panel_4, panel_5, panel_6\n",
    "\n"
   ]
  },
  {
   "cell_type": "code",
   "execution_count": 19,
   "metadata": {},
   "outputs": [],
   "source": [
    "import math\n",
    "from PIL import Image\n",
    "\n",
    "def is_it_daytime(image_path):\n",
    "    # This function will take an image path and return True if it is daytime and False if it is nighttime.\n",
    "    # The image path should be a string.\n",
    "    # The image path should be the path to the image that was used to create the panels.\n",
    "    # The image path should be in the format 'images/buoys/46025/2019_12_12_12_12.jpg'\n",
    "    \n",
    "    # get the image\n",
    "    img = Image.open(image_path)\n",
    "    # get the image size\n",
    "    width, height = img.size\n",
    "    # get the pixel values for the center of the image\n",
    "    pixel_values = img.getpixel((int(width/2), int(height/2)))\n",
    "    # get the red, green, and blue values\n",
    "    red, green, blue = pixel_values\n",
    "    # calculate the brightness\n",
    "    brightness = math.sqrt(0.241*(red**2) + 0.691*(green**2) + 0.068*(blue**2))\n",
    "    # if the brightness is greater than 100, it is daytime\n",
    "    if brightness > 100:\n",
    "        return True\n",
    "    else:\n",
    "        return False"
   ]
  },
  {
   "cell_type": "code",
   "execution_count": 20,
   "metadata": {},
   "outputs": [],
   "source": [
    "import datetime"
   ]
  },
  {
   "cell_type": "markdown",
   "metadata": {},
   "source": [
    "Now that we have a list of the buoys with cameras we can isolate these, create the urls, and download the latest images to the images folder. We will use the requests library to download the images and the os library to create the folder structure."
   ]
  },
  {
   "cell_type": "markdown",
   "metadata": {},
   "source": [
    "All of these photos are a series of six panels spread horizontally to create a panorama of the area around the buoy. The first step is to isolate the panels and then crop them to the size of the camera. We will use Python and CV2 to do this.\n",
    "\n",
    "# Image Processing Pipeline for NOAA Buoy Cameras\n",
    "1. Get the latest image in the buoy's folder\n",
    "2. Isolate the six panels and save them as individual images with the pattern \"original_name + panel_number\".png (e.g. 41001_2019-07-01_00:00:00_panel_1.png)\n",
    "3. The height of the cropped image should be 270 pixels (measured from the top of the image)\n",
    "4. The widths of each cropped panel should be 480 pixels (measured from the left of the image). The first panel should start at 0 pixels and the last panel should end at 2880 pixels.\n"
   ]
  },
  {
   "cell_type": "code",
   "execution_count": 21,
   "metadata": {},
   "outputs": [],
   "source": [
    "buoy_update_rates_dict = {} # blank dictionary to store the update rates for each buoy (i.e. how often the buoy takes a picture (measured in seconds))\n",
    "# fill the dictionary with blank update rate arrays for each buoy.\n",
    "# these arrays will be averaged to get the average update rate for each buoy in real time.\n",
    "\n",
    "for buoy_id in cam_buoys:\n",
    "    buoy_update_rates_dict[buoy_id] = 1 # set the initial update rate to 600 seconds (10 minutes)"
   ]
  },
  {
   "cell_type": "code",
   "execution_count": 22,
   "metadata": {},
   "outputs": [],
   "source": [
    "def image_has_changed(image_one,image_two):\n",
    "    # looks for changes between two images and returns True if there are changes and False if there are not.\n",
    "    # this function is used to determine what rate the images are being updated for each buoy.\n",
    "    # if the images are not changing, then the buoy is not updating the images.\n",
    "    # if the images are changing, then the buoy is updating the images.\n",
    "    try:\n",
    "        image_one = cv2.imread(image_one)\n",
    "        image_two = cv2.imread(image_two)\n",
    "        difference = cv2.subtract(image_one, image_two)\n",
    "        result = not np.any(difference)\n",
    "        return result\n",
    "    except:\n",
    "        return False\n",
    "\n",
    "    # difference = cv2.subtract(image_one, image_two)\n",
    "    # b, g, r = cv2.split(difference)\n",
    "    # if cv2.countNonZero(b) == 0 and cv2.countNonZero(g) == 0 and cv2.countNonZero(r) == 0:\n",
    "    #     return False # images are the same\n",
    "    # else:\n",
    "    #     return True # there are changes between the two images"
   ]
  },
  {
   "cell_type": "code",
   "execution_count": 23,
   "metadata": {},
   "outputs": [],
   "source": [
    "def check_for_updates(buoy_update_rates_dict):\n",
    "    # Check the buoy_update_rates_dict to see if any of the buoys satistfy the update rate requirements:\n",
    "    # Requirements: the current time minus the last time we downloaded an image for this buoy must be greater than the update rate for this buoy. If it is, then we will add the buoy id to the list of buoys that need to be updated and return it to the main function.\n",
    "    # If the buoy_update_rates_dict is empty, then we will return an empty list.\n",
    "    # If the buoy_update_rates_dict is not empty, then we will check the update rates for each buoy and return a list of the buoy ids that need to be updated.\n",
    "\n",
    "    if len(buoy_update_rates_dict) == 0:\n",
    "        return []\n",
    "    else:\n",
    "        buoys_to_update = []\n",
    "        for buoy_id in buoy_update_rates_dict:\n",
    "            #print(buoy_update_rates_dict[buoy_id])\n",
    "            if (datetime.datetime.now() - buoy_update_rates_dict[buoy_id][1]).seconds > buoy_update_rates_dict[buoy_id][0]:\n",
    "                # the current time minus the last time we downloaded an image for this buoy must be greater than the update rate for this buoy.\n",
    "                buoys_to_update.append(buoy_id)\n",
    "                # reset the last time we downloaded an image for this buoy to the current time.\n",
    "                buoy_update_rates_dict[buoy_id][1] = datetime.datetime.now()\n",
    "            \n",
    "        return buoys_to_update, buoy_update_rates_dict # return a list of the buoy ids that need to be updated\n"
   ]
  },
  {
   "cell_type": "code",
   "execution_count": 24,
   "metadata": {},
   "outputs": [
    {
     "name": "stdout",
     "output_type": "stream",
     "text": [
      "([], {'46025': [600, datetime.datetime(2022, 11, 5, 21, 22, 47, 657625)]})\n",
      "([], {'46025': [600, datetime.datetime(2022, 11, 5, 21, 22, 47, 657625)]})\n"
     ]
    }
   ],
   "source": [
    "# test check_for_updates function\n",
    "buoy_update_rates_dict = {'46025': [600, datetime.datetime.now()]}\n",
    "print(check_for_updates(buoy_update_rates_dict)) # should return an empty list\n",
    "# wait 10 seconds\n",
    "time.sleep(10)\n",
    "print(check_for_updates(buoy_update_rates_dict)) # should return ['46025']\n"
   ]
  },
  {
   "cell_type": "code",
   "execution_count": 25,
   "metadata": {},
   "outputs": [
    {
     "name": "stdout",
     "output_type": "stream",
     "text": [
      "DifPy preparing files: [7/7] [100%]\n",
      "DifPy comparing images: [6/6] [100%]\n",
      "Found 0 images with one or more duplicate/similar images in 0.0443 seconds.\n",
      "DifPy preparing files: [24/24] [100%]\n",
      "DifPy comparing images: [7/7] [100%]\n",
      "Found 0 images with one or more duplicate/similar images in 0.0666 seconds.\n",
      "DifPy preparing files: [7/7] [100%]\n",
      "DifPy comparing images: [6/6] [100%]\n",
      "Found 0 images with one or more duplicate/similar images in 0.0378 seconds.\n",
      "DifPy preparing files: [7/7] [100%]\n",
      "DifPy comparing images: [6/6] [100%]\n",
      "Found 0 images with one or more duplicate/similar images in 0.0385 seconds.\n",
      "DifPy preparing files: [7/7] [100%]\n",
      "DifPy comparing images: [6/6] [100%]\n",
      "Found 0 images with one or more duplicate/similar images in 0.0366 seconds.\n",
      "DifPy preparing files: [7/7] [100%]\n",
      "DifPy comparing images: [6/6] [100%]\n",
      "Found 0 images with one or more duplicate/similar images in 0.0397 seconds.\n",
      "DifPy preparing files: [6/6] [100%]\n",
      "DifPy comparing images: [5/5] [100%]\n",
      "Found 0 images with one or more duplicate/similar images in 0.0315 seconds.\n",
      "DifPy preparing files: [7/7] [100%]\n",
      "DifPy comparing images: [6/6] [100%]\n",
      "Found 0 images with one or more duplicate/similar images in 0.0303 seconds.\n",
      "DifPy preparing files: [7/7] [100%]\n",
      "DifPy comparing images: [6/6] [100%]\n",
      "Found 0 images with one or more duplicate/similar images in 0.0366 seconds.\n",
      "DifPy preparing files: [7/7] [100%]\n",
      "DifPy comparing images: [6/6] [100%]\n",
      "Found 0 images with one or more duplicate/similar images in 0.0387 seconds.\n",
      "DifPy preparing files: [7/7] [100%]\n",
      "DifPy comparing images: [6/6] [100%]\n",
      "Found 0 images with one or more duplicate/similar images in 0.0341 seconds.\n",
      "DifPy preparing files: [7/7] [100%]\n",
      "DifPy comparing images: [6/6] [100%]\n",
      "Found 0 images with one or more duplicate/similar images in 0.0368 seconds.\n",
      "DifPy preparing files: [7/7] [100%]\n",
      "DifPy comparing images: [6/6] [100%]\n",
      "Found 0 images with one or more duplicate/similar images in 0.036 seconds.\n",
      "DifPy preparing files: [5/5] [100%]\n",
      "DifPy comparing images: [4/4] [100%]\n",
      "Found 0 images with one or more duplicate/similar images in 0.0237 seconds.\n",
      "DifPy preparing files: [5/5] [100%]\n",
      "DifPy comparing images: [4/4] [100%]\n",
      "Found 0 images with one or more duplicate/similar images in 0.0171 seconds.\n",
      "DifPy preparing files: [8/8] [100%]\n",
      "DifPy comparing images: [5/5] [100%]\n",
      "Found 0 images with one or more duplicate/similar images in 0.0342 seconds.\n",
      "DifPy preparing files: [7/7] [100%]\n",
      "DifPy comparing images: [6/6] [100%]\n",
      "Found 0 images with one or more duplicate/similar images in 0.0366 seconds.\n",
      "DifPy preparing files: [23/23] [100%]\n",
      "DifPy comparing images: [7/7] [100%]\n",
      "Found 0 images with one or more duplicate/similar images in 0.0636 seconds.\n",
      "DifPy preparing files: [5/5] [100%]\n",
      "DifPy comparing images: [4/4] [100%]\n",
      "Found 0 images with one or more duplicate/similar images in 0.0226 seconds.\n",
      "DifPy preparing files: [5/5] [100%]\n",
      "DifPy comparing images: [4/4] [100%]\n",
      "Found 0 images with one or more duplicate/similar images in 0.0232 seconds.\n",
      "DifPy preparing files: [8/8] [100%]\n",
      "DifPy comparing images: [5/5] [100%]\n",
      "Found 0 images with one or more duplicate/similar images in 0.0336 seconds.\n",
      "DifPy preparing files: [7/7] [100%]\n",
      "DifPy comparing images: [6/6] [100%]\n",
      "Found 0 images with one or more duplicate/similar images in 0.0372 seconds.\n",
      "DifPy preparing files: [5/5] [100%]\n",
      "DifPy comparing images: [4/4] [100%]\n",
      "Found 0 images with one or more duplicate/similar images in 0.0235 seconds.\n",
      "DifPy preparing files: [5/5] [100%]\n",
      "DifPy comparing images: [4/4] [100%]\n",
      "Found 0 images with one or more duplicate/similar images in 0.0257 seconds.\n",
      "DifPy preparing files: [7/7] [100%]\n",
      "DifPy comparing images: [6/6] [100%]\n",
      "Found 0 images with one or more duplicate/similar images in 0.0358 seconds.\n",
      "DifPy preparing files: [5/5] [100%]\n",
      "DifPy comparing images: [4/4] [100%]\n",
      "Found 0 images with one or more duplicate/similar images in 0.023 seconds.\n",
      "DifPy preparing files: [7/7] [100%]\n",
      "DifPy comparing images: [6/6] [100%]\n",
      "Found 0 images with one or more duplicate/similar images in 0.0357 seconds.\n",
      "DifPy preparing files: [23/23] [100%]\n",
      "DifPy comparing images: [7/7] [100%]\n",
      "Found 0 images with one or more duplicate/similar images in 0.0614 seconds.\n",
      "DifPy preparing files: [7/7] [100%]\n",
      "DifPy comparing images: [6/6] [100%]\n",
      "Found 0 images with one or more duplicate/similar images in 0.0354 seconds.\n",
      "DifPy preparing files: [5/5] [100%]\n",
      "DifPy comparing images: [3/3] [100%]\n",
      "Found 0 images with one or more duplicate/similar images in 0.0175 seconds.\n",
      "DifPy preparing files: [4/4] [100%]\n",
      "DifPy comparing images: [3/3] [100%]\n",
      "Found 0 images with one or more duplicate/similar images in 0.0168 seconds.\n",
      "DifPy preparing files: [5/5] [100%]\n",
      "DifPy comparing images: [4/4] [100%]\n",
      "Found 0 images with one or more duplicate/similar images in 0.0243 seconds.\n",
      "DifPy preparing files: [8/8] [100%]\n",
      "DifPy comparing images: [5/5] [100%]\n",
      "Found 0 images with one or more duplicate/similar images in 0.0313 seconds.\n",
      "DifPy preparing files: [8/8] [100%]\n",
      "DifPy comparing images: [6/6] [100%]\n",
      "Found 0 images with one or more duplicate/similar images in 0.0346 seconds.\n",
      "DifPy preparing files: [5/5] [100%]\n",
      "DifPy comparing images: [4/4] [100%]\n",
      "Found 0 images with one or more duplicate/similar images in 0.0229 seconds.\n",
      "DifPy preparing files: [6/6] [100%]\n",
      "DifPy comparing images: [5/5] [100%]\n",
      "Found 0 images with one or more duplicate/similar images in 0.0296 seconds.\n",
      "DifPy preparing files: [3/3] [100%]\n",
      "DifPy comparing images: [2/2] [100%]\n",
      "Found 0 images with one or more duplicate/similar images in 0.0096 seconds.\n",
      "DifPy preparing files: [7/7] [100%]\n",
      "DifPy comparing images: [6/6] [100%]\n",
      "Found 0 images with one or more duplicate/similar images in 0.0366 seconds.\n",
      "DifPy preparing files: [7/7] [100%]\n",
      "DifPy comparing images: [6/6] [100%]\n",
      "Found 0 images with one or more duplicate/similar images in 0.0398 seconds.\n",
      "DifPy preparing files: [7/7] [100%]\n",
      "DifPy comparing images: [6/6] [100%]\n",
      "Found 0 images with one or more duplicate/similar images in 0.0403 seconds.\n",
      "DifPy preparing files: [7/7] [100%]\n",
      "DifPy comparing images: [6/6] [100%]\n",
      "Found 0 images with one or more duplicate/similar images in 0.0378 seconds.\n",
      "DifPy preparing files: [7/7] [100%]\n",
      "DifPy comparing images: [6/6] [100%]\n",
      "Found 0 images with one or more duplicate/similar images in 0.04 seconds.\n",
      "DifPy preparing files: [5/5] [100%]\n",
      "DifPy comparing images: [4/4] [100%]\n",
      "Found 0 images with one or more duplicate/similar images in 0.0233 seconds.\n",
      "DifPy preparing files: [6/6] [100%]\n",
      "DifPy comparing images: [5/5] [100%]\n",
      "Found 0 images with one or more duplicate/similar images in 0.0292 seconds.\n",
      "DifPy preparing files: [4/4] [100%]\n",
      "DifPy comparing images: [4/4] [100%]\n",
      "Found 0 images with one or more duplicate/similar images in 0.023 seconds.\n",
      "DifPy preparing files: [7/7] [100%]\n",
      "DifPy comparing images: [6/6] [100%]\n",
      "Found 0 images with one or more duplicate/similar images in 0.0398 seconds.\n",
      "DifPy preparing files: [7/7] [100%]\n",
      "DifPy comparing images: [6/6] [100%]\n",
      "Found 0 images with one or more duplicate/similar images in 0.041 seconds.\n",
      "DifPy preparing files: [6/6] [100%]\n",
      "DifPy comparing images: [5/5] [100%]\n",
      "Found 0 images with one or more duplicate/similar images in 0.0312 seconds.\n",
      "DifPy preparing files: [3/3] [100%]\n",
      "DifPy comparing images: [3/3] [100%]\n",
      "Found 0 images with one or more duplicate/similar images in 0.0178 seconds.\n",
      "DifPy preparing files: [5/5] [100%]\n",
      "DifPy comparing images: [4/4] [100%]\n",
      "Found 0 images with one or more duplicate/similar images in 0.0255 seconds.\n",
      "DifPy preparing files: [5/5] [100%]\n",
      "DifPy comparing images: [4/4] [100%]\n",
      "Found 0 images with one or more duplicate/similar images in 0.0226 seconds.\n",
      "DifPy preparing files: [5/5] [100%]\n",
      "DifPy comparing images: [4/4] [100%]\n",
      "Found 0 images with one or more duplicate/similar images in 0.0241 seconds.\n",
      "DifPy preparing files: [5/5] [100%]\n",
      "DifPy comparing images: [4/4] [100%]\n",
      "Found 0 images with one or more duplicate/similar images in 0.0231 seconds.\n",
      "DifPy preparing files: [7/7] [100%]\n",
      "DifPy comparing images: [6/6] [100%]\n",
      "Found 0 images with one or more duplicate/similar images in 0.0363 seconds.\n",
      "DifPy preparing files: [4/4] [100%]\n",
      "DifPy comparing images: [3/3] [100%]\n",
      "Found 0 images with one or more duplicate/similar images in 0.0167 seconds.\n",
      "DifPy preparing files: [10/10] [100%]\n",
      "DifPy comparing images: [7/7] [100%]\n",
      "Found 0 images with one or more duplicate/similar images in 0.0462 seconds.\n",
      "DifPy preparing files: [7/7] [100%]\n",
      "DifPy comparing images: [6/6] [100%]\n",
      "Found 0 images with one or more duplicate/similar images in 0.0362 seconds.\n",
      "DifPy preparing files: [4/4] [100%]\n",
      "DifPy comparing images: [3/3] [100%]\n",
      "Found 0 images with one or more duplicate/similar images in 0.0169 seconds.\n",
      "DifPy preparing files: [5/5] [100%]\n",
      "DifPy comparing images: [4/4] [100%]\n",
      "Found 0 images with one or more duplicate/similar images in 0.024 seconds.\n",
      "DifPy preparing files: [8/8] [100%]\n",
      "DifPy comparing images: [5/5] [100%]\n",
      "Found 0 images with one or more duplicate/similar images in 0.0307 seconds.\n",
      "DifPy preparing files: [6/6] [100%]\n",
      "DifPy comparing images: [5/5] [100%]\n",
      "Found 0 images with one or more duplicate/similar images in 0.0274 seconds.\n"
     ]
    }
   ],
   "source": [
    "\n",
    "import shutil\n",
    "from difPy import dif\n",
    "# go through each buoy and check if there are duplicated images in the images/buoys folder\n",
    "for folder in os.listdir('images/buoys'):\n",
    "    if folder == '.DS_Store':\n",
    "        continue\n",
    "    # get the list of images in the folder\n",
    "    # sort the images by date\n",
    "    # make folder_path variable from relative path\n",
    "    folder_path = 'images/buoys/{}'.format(folder)\n",
    "    search = dif(folder_path, similarity='normal', show_output=False, show_progress=True, silent_del=True, delete=True)\n",
    "\n"
   ]
  },
  {
   "cell_type": "code",
   "execution_count": 28,
   "metadata": {},
   "outputs": [
    {
     "name": "stdout",
     "output_type": "stream",
     "text": [
      "I can still see things! Downloading images...\n"
     ]
    },
    {
     "name": "stderr",
     "output_type": "stream",
     "text": [
      "  2%|▏         | 1/61 [00:00<00:19,  3.08it/s]"
     ]
    },
    {
     "name": "stdout",
     "output_type": "stream",
     "text": [
      "Deleting image for buoy 42001 because it is nighttime.\n"
     ]
    },
    {
     "name": "stderr",
     "output_type": "stream",
     "text": [
      "  3%|▎         | 2/61 [00:00<00:19,  3.04it/s]"
     ]
    },
    {
     "name": "stdout",
     "output_type": "stream",
     "text": [
      "Deleting image for buoy 46059 because it is nighttime.\n"
     ]
    },
    {
     "name": "stderr",
     "output_type": "stream",
     "text": [
      "  5%|▍         | 3/61 [00:00<00:19,  3.05it/s]"
     ]
    },
    {
     "name": "stdout",
     "output_type": "stream",
     "text": [
      "Deleting image for buoy 41044 because it is nighttime.\n"
     ]
    },
    {
     "name": "stderr",
     "output_type": "stream",
     "text": [
      "  7%|▋         | 4/61 [00:01<00:18,  3.01it/s]"
     ]
    },
    {
     "name": "stdout",
     "output_type": "stream",
     "text": [
      "Deleting image for buoy 46071 because it is nighttime.\n"
     ]
    },
    {
     "name": "stderr",
     "output_type": "stream",
     "text": [
      "  8%|▊         | 5/61 [00:01<00:18,  3.04it/s]"
     ]
    },
    {
     "name": "stdout",
     "output_type": "stream",
     "text": [
      "Deleting image for buoy 42002 because it is nighttime.\n"
     ]
    },
    {
     "name": "stderr",
     "output_type": "stream",
     "text": [
      " 10%|▉         | 6/61 [00:01<00:18,  2.99it/s]"
     ]
    },
    {
     "name": "stdout",
     "output_type": "stream",
     "text": [
      "Deleting image for buoy 46072 because it is nighttime.\n"
     ]
    },
    {
     "name": "stderr",
     "output_type": "stream",
     "text": [
      " 11%|█▏        | 7/61 [00:02<00:18,  2.95it/s]"
     ]
    },
    {
     "name": "stdout",
     "output_type": "stream",
     "text": [
      "Deleting image for buoy 46066 because it is nighttime.\n"
     ]
    },
    {
     "name": "stderr",
     "output_type": "stream",
     "text": [
      " 13%|█▎        | 8/61 [00:02<00:17,  2.95it/s]"
     ]
    },
    {
     "name": "stdout",
     "output_type": "stream",
     "text": [
      "Deleting image for buoy 41046 because it is nighttime.\n"
     ]
    },
    {
     "name": "stderr",
     "output_type": "stream",
     "text": [
      " 15%|█▍        | 9/61 [00:03<00:17,  2.92it/s]"
     ]
    },
    {
     "name": "stdout",
     "output_type": "stream",
     "text": [
      "Deleting image for buoy 46088 because it is nighttime.\n"
     ]
    },
    {
     "name": "stderr",
     "output_type": "stream",
     "text": [
      " 16%|█▋        | 10/61 [00:03<00:17,  2.95it/s]"
     ]
    },
    {
     "name": "stdout",
     "output_type": "stream",
     "text": [
      "Deleting image for buoy 44066 because it is nighttime.\n"
     ]
    },
    {
     "name": "stderr",
     "output_type": "stream",
     "text": [
      " 18%|█▊        | 11/61 [00:03<00:16,  2.94it/s]"
     ]
    },
    {
     "name": "stdout",
     "output_type": "stream",
     "text": [
      "Deleting image for buoy 46089 because it is nighttime.\n"
     ]
    },
    {
     "name": "stderr",
     "output_type": "stream",
     "text": [
      " 20%|█▉        | 12/61 [00:04<00:16,  2.95it/s]"
     ]
    },
    {
     "name": "stdout",
     "output_type": "stream",
     "text": [
      "Deleting image for buoy 41043 because it is nighttime.\n"
     ]
    },
    {
     "name": "stderr",
     "output_type": "stream",
     "text": [
      " 21%|██▏       | 13/61 [00:04<00:16,  2.96it/s]"
     ]
    },
    {
     "name": "stdout",
     "output_type": "stream",
     "text": [
      "Deleting image for buoy 42012 because it is nighttime.\n"
     ]
    },
    {
     "name": "stderr",
     "output_type": "stream",
     "text": [
      " 23%|██▎       | 14/61 [00:04<00:16,  2.84it/s]"
     ]
    },
    {
     "name": "stdout",
     "output_type": "stream",
     "text": [
      "Deleting image for buoy 42039 because it is nighttime.\n"
     ]
    },
    {
     "name": "stderr",
     "output_type": "stream",
     "text": [
      " 25%|██▍       | 15/61 [00:05<00:16,  2.86it/s]"
     ]
    },
    {
     "name": "stdout",
     "output_type": "stream",
     "text": [
      "Deleting image for buoy 46012 because it is nighttime.\n"
     ]
    },
    {
     "name": "stderr",
     "output_type": "stream",
     "text": [
      " 28%|██▊       | 17/61 [00:05<00:15,  2.91it/s]"
     ]
    },
    {
     "name": "stdout",
     "output_type": "stream",
     "text": [
      "Deleting image for buoy 42060 because it is nighttime.\n"
     ]
    },
    {
     "name": "stderr",
     "output_type": "stream",
     "text": [
      " 30%|██▉       | 18/61 [00:06<00:14,  2.94it/s]"
     ]
    },
    {
     "name": "stdout",
     "output_type": "stream",
     "text": [
      "Deleting image for buoy 41009 because it is nighttime.\n"
     ]
    },
    {
     "name": "stderr",
     "output_type": "stream",
     "text": [
      " 31%|███       | 19/61 [00:06<00:15,  2.73it/s]"
     ]
    },
    {
     "name": "stdout",
     "output_type": "stream",
     "text": [
      "Deleting image for buoy 46028 because it is nighttime.\n"
     ]
    },
    {
     "name": "stderr",
     "output_type": "stream",
     "text": [
      " 33%|███▎      | 20/61 [00:06<00:14,  2.83it/s]"
     ]
    },
    {
     "name": "stdout",
     "output_type": "stream",
     "text": [
      "Deleting image for buoy 44011 because it is nighttime.\n"
     ]
    },
    {
     "name": "stderr",
     "output_type": "stream",
     "text": [
      " 34%|███▍      | 21/61 [00:07<00:13,  2.89it/s]"
     ]
    },
    {
     "name": "stdout",
     "output_type": "stream",
     "text": [
      "Deleting image for buoy 41008 because it is nighttime.\n"
     ]
    },
    {
     "name": "stderr",
     "output_type": "stream",
     "text": [
      " 38%|███▊      | 23/61 [00:07<00:13,  2.92it/s]"
     ]
    },
    {
     "name": "stdout",
     "output_type": "stream",
     "text": [
      "Deleting image for buoy 42059 because it is nighttime.\n"
     ]
    },
    {
     "name": "stderr",
     "output_type": "stream",
     "text": [
      " 39%|███▉      | 24/61 [00:08<00:13,  2.85it/s]"
     ]
    },
    {
     "name": "stdout",
     "output_type": "stream",
     "text": [
      "Deleting image for buoy 44013 because it is nighttime.\n"
     ]
    },
    {
     "name": "stderr",
     "output_type": "stream",
     "text": [
      " 41%|████      | 25/61 [00:08<00:12,  2.89it/s]"
     ]
    },
    {
     "name": "stdout",
     "output_type": "stream",
     "text": [
      "Deleting image for buoy 44007 because it is nighttime.\n"
     ]
    },
    {
     "name": "stderr",
     "output_type": "stream",
     "text": [
      " 43%|████▎     | 26/61 [00:08<00:12,  2.88it/s]"
     ]
    },
    {
     "name": "stdout",
     "output_type": "stream",
     "text": [
      "Deleting image for buoy 46002 because it is nighttime.\n"
     ]
    },
    {
     "name": "stderr",
     "output_type": "stream",
     "text": [
      " 46%|████▌     | 28/61 [00:09<00:11,  2.84it/s]"
     ]
    },
    {
     "name": "stdout",
     "output_type": "stream",
     "text": [
      "Deleting image for buoy 46027 because it is nighttime.\n"
     ]
    },
    {
     "name": "stderr",
     "output_type": "stream",
     "text": [
      " 51%|█████     | 31/61 [00:10<00:10,  2.74it/s]"
     ]
    },
    {
     "name": "stdout",
     "output_type": "stream",
     "text": [
      "Deleting image for buoy 51000 because it is nighttime.\n"
     ]
    },
    {
     "name": "stderr",
     "output_type": "stream",
     "text": [
      " 52%|█████▏    | 32/61 [00:11<00:10,  2.81it/s]"
     ]
    },
    {
     "name": "stdout",
     "output_type": "stream",
     "text": [
      "Deleting image for buoy 42040 because it is nighttime.\n"
     ]
    },
    {
     "name": "stderr",
     "output_type": "stream",
     "text": [
      " 54%|█████▍    | 33/61 [00:11<00:09,  2.85it/s]"
     ]
    },
    {
     "name": "stdout",
     "output_type": "stream",
     "text": [
      "Deleting image for buoy 44020 because it is nighttime.\n"
     ]
    },
    {
     "name": "stderr",
     "output_type": "stream",
     "text": [
      " 57%|█████▋    | 35/61 [00:12<00:09,  2.87it/s]"
     ]
    },
    {
     "name": "stdout",
     "output_type": "stream",
     "text": [
      "Deleting image for buoy 41010 because it is nighttime.\n"
     ]
    },
    {
     "name": "stderr",
     "output_type": "stream",
     "text": [
      " 59%|█████▉    | 36/61 [00:12<00:08,  2.93it/s]"
     ]
    },
    {
     "name": "stdout",
     "output_type": "stream",
     "text": [
      "Deleting image for buoy 41004 because it is nighttime.\n"
     ]
    },
    {
     "name": "stderr",
     "output_type": "stream",
     "text": [
      " 62%|██████▏   | 38/61 [00:13<00:08,  2.82it/s]"
     ]
    },
    {
     "name": "stdout",
     "output_type": "stream",
     "text": [
      "Deleting image for buoy 44025 because it is nighttime.\n"
     ]
    },
    {
     "name": "stderr",
     "output_type": "stream",
     "text": [
      " 64%|██████▍   | 39/61 [00:13<00:07,  2.87it/s]"
     ]
    },
    {
     "name": "stdout",
     "output_type": "stream",
     "text": [
      "Deleting image for buoy 41001 because it is nighttime.\n"
     ]
    },
    {
     "name": "stderr",
     "output_type": "stream",
     "text": [
      " 66%|██████▌   | 40/61 [00:13<00:07,  2.84it/s]"
     ]
    },
    {
     "name": "stdout",
     "output_type": "stream",
     "text": [
      "Deleting image for buoy 51004 because it is nighttime.\n"
     ]
    },
    {
     "name": "stderr",
     "output_type": "stream",
     "text": [
      " 67%|██████▋   | 41/61 [00:14<00:06,  2.86it/s]"
     ]
    },
    {
     "name": "stdout",
     "output_type": "stream",
     "text": [
      "Deleting image for buoy 44027 because it is nighttime.\n"
     ]
    },
    {
     "name": "stderr",
     "output_type": "stream",
     "text": [
      " 69%|██████▉   | 42/61 [00:14<00:06,  2.89it/s]"
     ]
    },
    {
     "name": "stdout",
     "output_type": "stream",
     "text": [
      "Deleting image for buoy 41002 because it is nighttime.\n"
     ]
    },
    {
     "name": "stderr",
     "output_type": "stream",
     "text": [
      " 70%|███████   | 43/61 [00:14<00:06,  2.77it/s]"
     ]
    },
    {
     "name": "stdout",
     "output_type": "stream",
     "text": [
      "Deleting image for buoy 42020 because it is nighttime.\n"
     ]
    },
    {
     "name": "stderr",
     "output_type": "stream",
     "text": [
      " 72%|███████▏  | 44/61 [00:15<00:06,  2.78it/s]"
     ]
    },
    {
     "name": "stdout",
     "output_type": "stream",
     "text": [
      "Deleting image for buoy 46078 because it is nighttime.\n"
     ]
    },
    {
     "name": "stderr",
     "output_type": "stream",
     "text": [
      " 74%|███████▍  | 45/61 [00:15<00:05,  2.81it/s]"
     ]
    },
    {
     "name": "stdout",
     "output_type": "stream",
     "text": [
      "Deleting image for buoy 46087 because it is nighttime.\n"
     ]
    },
    {
     "name": "stderr",
     "output_type": "stream",
     "text": [
      " 75%|███████▌  | 46/61 [00:16<00:05,  2.80it/s]"
     ]
    },
    {
     "name": "stdout",
     "output_type": "stream",
     "text": [
      "Deleting image for buoy 51101 because it is nighttime.\n"
     ]
    },
    {
     "name": "stderr",
     "output_type": "stream",
     "text": [
      " 79%|███████▊  | 48/61 [00:16<00:04,  2.70it/s]"
     ]
    },
    {
     "name": "stdout",
     "output_type": "stream",
     "text": [
      "Deleting image for buoy 45002 because it is nighttime.\n"
     ]
    },
    {
     "name": "stderr",
     "output_type": "stream",
     "text": [
      " 80%|████████  | 49/61 [00:17<00:04,  2.75it/s]"
     ]
    },
    {
     "name": "stdout",
     "output_type": "stream",
     "text": [
      "Deleting image for buoy 46053 because it is nighttime.\n"
     ]
    },
    {
     "name": "stderr",
     "output_type": "stream",
     "text": [
      " 82%|████████▏ | 50/61 [00:17<00:03,  2.79it/s]"
     ]
    },
    {
     "name": "stdout",
     "output_type": "stream",
     "text": [
      "Deleting image for buoy 46047 because it is nighttime.\n"
     ]
    },
    {
     "name": "stderr",
     "output_type": "stream",
     "text": [
      " 84%|████████▎ | 51/61 [00:17<00:03,  2.85it/s]"
     ]
    },
    {
     "name": "stdout",
     "output_type": "stream",
     "text": [
      "Deleting image for buoy 46084 because it is nighttime.\n"
     ]
    },
    {
     "name": "stderr",
     "output_type": "stream",
     "text": [
      " 87%|████████▋ | 53/61 [00:18<00:02,  2.82it/s]"
     ]
    },
    {
     "name": "stdout",
     "output_type": "stream",
     "text": [
      "Deleting image for buoy 45003 because it is nighttime.\n"
     ]
    },
    {
     "name": "stderr",
     "output_type": "stream",
     "text": [
      " 89%|████████▊ | 54/61 [00:18<00:02,  2.85it/s]"
     ]
    },
    {
     "name": "stdout",
     "output_type": "stream",
     "text": [
      "Deleting image for buoy 45007 because it is nighttime.\n"
     ]
    },
    {
     "name": "stderr",
     "output_type": "stream",
     "text": [
      " 90%|█████████ | 55/61 [00:19<00:02,  2.85it/s]"
     ]
    },
    {
     "name": "stdout",
     "output_type": "stream",
     "text": [
      "Deleting image for buoy 46042 because it is nighttime.\n"
     ]
    },
    {
     "name": "stderr",
     "output_type": "stream",
     "text": [
      " 92%|█████████▏| 56/61 [00:19<00:01,  2.90it/s]"
     ]
    },
    {
     "name": "stdout",
     "output_type": "stream",
     "text": [
      "Deleting image for buoy 45012 because it is nighttime.\n"
     ]
    },
    {
     "name": "stderr",
     "output_type": "stream",
     "text": [
      " 93%|█████████▎| 57/61 [00:19<00:01,  2.92it/s]"
     ]
    },
    {
     "name": "stdout",
     "output_type": "stream",
     "text": [
      "Deleting image for buoy 42019 because it is nighttime.\n"
     ]
    },
    {
     "name": "stderr",
     "output_type": "stream",
     "text": [
      " 95%|█████████▌| 58/61 [00:20<00:01,  2.95it/s]"
     ]
    },
    {
     "name": "stdout",
     "output_type": "stream",
     "text": [
      "Deleting image for buoy 46069 because it is nighttime.\n"
     ]
    },
    {
     "name": "stderr",
     "output_type": "stream",
     "text": [
      " 98%|█████████▊| 60/61 [00:20<00:00,  2.83it/s]"
     ]
    },
    {
     "name": "stdout",
     "output_type": "stream",
     "text": [
      "Deleting image for buoy 41049 because it is nighttime.\n"
     ]
    },
    {
     "name": "stderr",
     "output_type": "stream",
     "text": [
      "100%|██████████| 61/61 [00:21<00:00,  2.87it/s]\n"
     ]
    },
    {
     "name": "stdout",
     "output_type": "stream",
     "text": [
      "Deleting image for buoy 45005 because it is nighttime.\n",
      "DifPy preparing files: [6/6] [100%]\n",
      "DifPy comparing images: [5/5] [100%]\n",
      "Found 0 images with one or more duplicate/similar images in 0.0323 seconds.\n"
     ]
    },
    {
     "name": "stderr",
     "output_type": "stream",
     "text": [
      "100%|██████████| 62/62 [00:00<00:00, 36087.54it/s]\n"
     ]
    },
    {
     "name": "stdout",
     "output_type": "stream",
     "text": [
      "Waiting for the remainder of the 15 minutes...\n"
     ]
    },
    {
     "name": "stderr",
     "output_type": "stream",
     "text": [
      "100%|██████████| 79/79 [01:19<00:00,  1.01s/it]\n"
     ]
    },
    {
     "name": "stdout",
     "output_type": "stream",
     "text": [
      "I can still see things! Downloading images...\n"
     ]
    },
    {
     "name": "stderr",
     "output_type": "stream",
     "text": [
      "  2%|▏         | 1/61 [00:00<00:37,  1.59it/s]"
     ]
    },
    {
     "name": "stdout",
     "output_type": "stream",
     "text": [
      "Deleting image for buoy 42001 because it is nighttime.\n"
     ]
    },
    {
     "name": "stderr",
     "output_type": "stream",
     "text": [
      "  3%|▎         | 2/61 [00:01<00:31,  1.90it/s]"
     ]
    },
    {
     "name": "stdout",
     "output_type": "stream",
     "text": [
      "Deleting image for buoy 46059 because it is nighttime.\n"
     ]
    },
    {
     "name": "stderr",
     "output_type": "stream",
     "text": [
      "  5%|▍         | 3/61 [00:01<00:30,  1.91it/s]"
     ]
    },
    {
     "name": "stdout",
     "output_type": "stream",
     "text": [
      "Deleting image for buoy 41044 because it is nighttime.\n"
     ]
    },
    {
     "name": "stderr",
     "output_type": "stream",
     "text": [
      "  7%|▋         | 4/61 [00:02<00:28,  1.98it/s]"
     ]
    },
    {
     "name": "stdout",
     "output_type": "stream",
     "text": [
      "Deleting image for buoy 46071 because it is nighttime.\n"
     ]
    },
    {
     "name": "stderr",
     "output_type": "stream",
     "text": [
      "  8%|▊         | 5/61 [00:02<00:27,  2.07it/s]"
     ]
    },
    {
     "name": "stdout",
     "output_type": "stream",
     "text": [
      "Deleting image for buoy 42002 because it is nighttime.\n"
     ]
    },
    {
     "name": "stderr",
     "output_type": "stream",
     "text": [
      " 10%|▉         | 6/61 [00:03<00:26,  2.05it/s]"
     ]
    },
    {
     "name": "stdout",
     "output_type": "stream",
     "text": [
      "Deleting image for buoy 46072 because it is nighttime.\n"
     ]
    },
    {
     "name": "stderr",
     "output_type": "stream",
     "text": [
      " 11%|█▏        | 7/61 [00:03<00:25,  2.09it/s]"
     ]
    },
    {
     "name": "stdout",
     "output_type": "stream",
     "text": [
      "Deleting image for buoy 46066 because it is nighttime.\n"
     ]
    },
    {
     "name": "stderr",
     "output_type": "stream",
     "text": [
      " 13%|█▎        | 8/61 [00:03<00:25,  2.09it/s]"
     ]
    },
    {
     "name": "stdout",
     "output_type": "stream",
     "text": [
      "Deleting image for buoy 41046 because it is nighttime.\n"
     ]
    },
    {
     "name": "stderr",
     "output_type": "stream",
     "text": [
      " 15%|█▍        | 9/61 [00:04<00:24,  2.09it/s]"
     ]
    },
    {
     "name": "stdout",
     "output_type": "stream",
     "text": [
      "Deleting image for buoy 46088 because it is nighttime.\n"
     ]
    },
    {
     "name": "stderr",
     "output_type": "stream",
     "text": [
      " 16%|█▋        | 10/61 [00:04<00:23,  2.15it/s]"
     ]
    },
    {
     "name": "stdout",
     "output_type": "stream",
     "text": [
      "Deleting image for buoy 44066 because it is nighttime.\n"
     ]
    },
    {
     "name": "stderr",
     "output_type": "stream",
     "text": [
      " 18%|█▊        | 11/61 [00:05<00:22,  2.18it/s]"
     ]
    },
    {
     "name": "stdout",
     "output_type": "stream",
     "text": [
      "Deleting image for buoy 46089 because it is nighttime.\n"
     ]
    },
    {
     "name": "stderr",
     "output_type": "stream",
     "text": [
      " 20%|█▉        | 12/61 [00:05<00:22,  2.18it/s]"
     ]
    },
    {
     "name": "stdout",
     "output_type": "stream",
     "text": [
      "Deleting image for buoy 41043 because it is nighttime.\n"
     ]
    },
    {
     "name": "stderr",
     "output_type": "stream",
     "text": [
      " 21%|██▏       | 13/61 [00:06<00:21,  2.24it/s]"
     ]
    },
    {
     "name": "stdout",
     "output_type": "stream",
     "text": [
      "Deleting image for buoy 42012 because it is nighttime.\n"
     ]
    },
    {
     "name": "stderr",
     "output_type": "stream",
     "text": [
      " 23%|██▎       | 14/61 [00:06<00:21,  2.23it/s]"
     ]
    },
    {
     "name": "stdout",
     "output_type": "stream",
     "text": [
      "Deleting image for buoy 42039 because it is nighttime.\n"
     ]
    },
    {
     "name": "stderr",
     "output_type": "stream",
     "text": [
      " 25%|██▍       | 15/61 [00:07<00:20,  2.26it/s]"
     ]
    },
    {
     "name": "stdout",
     "output_type": "stream",
     "text": [
      "Deleting image for buoy 46012 because it is nighttime.\n"
     ]
    },
    {
     "name": "stderr",
     "output_type": "stream",
     "text": [
      " 28%|██▊       | 17/61 [00:07<00:19,  2.23it/s]"
     ]
    },
    {
     "name": "stdout",
     "output_type": "stream",
     "text": [
      "Deleting image for buoy 42060 because it is nighttime.\n"
     ]
    },
    {
     "name": "stderr",
     "output_type": "stream",
     "text": [
      " 30%|██▉       | 18/61 [00:08<00:19,  2.24it/s]"
     ]
    },
    {
     "name": "stdout",
     "output_type": "stream",
     "text": [
      "Deleting image for buoy 41009 because it is nighttime.\n"
     ]
    },
    {
     "name": "stderr",
     "output_type": "stream",
     "text": [
      " 31%|███       | 19/61 [00:08<00:18,  2.27it/s]"
     ]
    },
    {
     "name": "stdout",
     "output_type": "stream",
     "text": [
      "Deleting image for buoy 46028 because it is nighttime.\n"
     ]
    },
    {
     "name": "stderr",
     "output_type": "stream",
     "text": [
      " 33%|███▎      | 20/61 [00:09<00:18,  2.26it/s]"
     ]
    },
    {
     "name": "stdout",
     "output_type": "stream",
     "text": [
      "Deleting image for buoy 44011 because it is nighttime.\n"
     ]
    },
    {
     "name": "stderr",
     "output_type": "stream",
     "text": [
      " 34%|███▍      | 21/61 [00:09<00:17,  2.26it/s]"
     ]
    },
    {
     "name": "stdout",
     "output_type": "stream",
     "text": [
      "Deleting image for buoy 41008 because it is nighttime.\n"
     ]
    },
    {
     "name": "stderr",
     "output_type": "stream",
     "text": [
      " 38%|███▊      | 23/61 [00:10<00:16,  2.24it/s]"
     ]
    },
    {
     "name": "stdout",
     "output_type": "stream",
     "text": [
      "Deleting image for buoy 42059 because it is nighttime.\n"
     ]
    },
    {
     "name": "stderr",
     "output_type": "stream",
     "text": [
      " 39%|███▉      | 24/61 [00:11<00:16,  2.28it/s]"
     ]
    },
    {
     "name": "stdout",
     "output_type": "stream",
     "text": [
      "Deleting image for buoy 44013 because it is nighttime.\n"
     ]
    },
    {
     "name": "stderr",
     "output_type": "stream",
     "text": [
      " 41%|████      | 25/61 [00:11<00:15,  2.29it/s]"
     ]
    },
    {
     "name": "stdout",
     "output_type": "stream",
     "text": [
      "Deleting image for buoy 44007 because it is nighttime.\n"
     ]
    },
    {
     "name": "stderr",
     "output_type": "stream",
     "text": [
      " 43%|████▎     | 26/61 [00:11<00:15,  2.29it/s]"
     ]
    },
    {
     "name": "stdout",
     "output_type": "stream",
     "text": [
      "Deleting image for buoy 46002 because it is nighttime.\n"
     ]
    },
    {
     "name": "stderr",
     "output_type": "stream",
     "text": [
      " 46%|████▌     | 28/61 [00:12<00:15,  2.14it/s]"
     ]
    },
    {
     "name": "stdout",
     "output_type": "stream",
     "text": [
      "Deleting image for buoy 46027 because it is nighttime.\n"
     ]
    },
    {
     "name": "stderr",
     "output_type": "stream",
     "text": [
      " 51%|█████     | 31/61 [00:14<00:14,  2.13it/s]"
     ]
    },
    {
     "name": "stdout",
     "output_type": "stream",
     "text": [
      "Deleting image for buoy 51000 because it is nighttime.\n"
     ]
    },
    {
     "name": "stderr",
     "output_type": "stream",
     "text": [
      " 52%|█████▏    | 32/61 [00:14<00:13,  2.19it/s]"
     ]
    },
    {
     "name": "stdout",
     "output_type": "stream",
     "text": [
      "Deleting image for buoy 42040 because it is nighttime.\n"
     ]
    },
    {
     "name": "stderr",
     "output_type": "stream",
     "text": [
      " 54%|█████▍    | 33/61 [00:15<00:12,  2.23it/s]"
     ]
    },
    {
     "name": "stdout",
     "output_type": "stream",
     "text": [
      "Deleting image for buoy 44020 because it is nighttime.\n"
     ]
    },
    {
     "name": "stderr",
     "output_type": "stream",
     "text": [
      " 57%|█████▋    | 35/61 [00:16<00:11,  2.22it/s]"
     ]
    },
    {
     "name": "stdout",
     "output_type": "stream",
     "text": [
      "Deleting image for buoy 41010 because it is nighttime.\n"
     ]
    },
    {
     "name": "stderr",
     "output_type": "stream",
     "text": [
      " 59%|█████▉    | 36/61 [00:16<00:11,  2.25it/s]"
     ]
    },
    {
     "name": "stdout",
     "output_type": "stream",
     "text": [
      "Deleting image for buoy 41004 because it is nighttime.\n"
     ]
    },
    {
     "name": "stderr",
     "output_type": "stream",
     "text": [
      " 62%|██████▏   | 38/61 [00:17<00:10,  2.18it/s]"
     ]
    },
    {
     "name": "stdout",
     "output_type": "stream",
     "text": [
      "Deleting image for buoy 44025 because it is nighttime.\n"
     ]
    },
    {
     "name": "stderr",
     "output_type": "stream",
     "text": [
      " 64%|██████▍   | 39/61 [00:17<00:10,  2.18it/s]"
     ]
    },
    {
     "name": "stdout",
     "output_type": "stream",
     "text": [
      "Deleting image for buoy 41001 because it is nighttime.\n"
     ]
    },
    {
     "name": "stderr",
     "output_type": "stream",
     "text": [
      " 66%|██████▌   | 40/61 [00:18<00:09,  2.18it/s]"
     ]
    },
    {
     "name": "stdout",
     "output_type": "stream",
     "text": [
      "Deleting image for buoy 51004 because it is nighttime.\n"
     ]
    },
    {
     "name": "stderr",
     "output_type": "stream",
     "text": [
      " 67%|██████▋   | 41/61 [00:18<00:09,  2.21it/s]"
     ]
    },
    {
     "name": "stdout",
     "output_type": "stream",
     "text": [
      "Deleting image for buoy 44027 because it is nighttime.\n"
     ]
    },
    {
     "name": "stderr",
     "output_type": "stream",
     "text": [
      " 69%|██████▉   | 42/61 [00:19<00:08,  2.21it/s]"
     ]
    },
    {
     "name": "stdout",
     "output_type": "stream",
     "text": [
      "Deleting image for buoy 41002 because it is nighttime.\n"
     ]
    },
    {
     "name": "stderr",
     "output_type": "stream",
     "text": [
      " 70%|███████   | 43/61 [00:19<00:08,  2.20it/s]"
     ]
    },
    {
     "name": "stdout",
     "output_type": "stream",
     "text": [
      "Deleting image for buoy 42020 because it is nighttime.\n"
     ]
    },
    {
     "name": "stderr",
     "output_type": "stream",
     "text": [
      " 72%|███████▏  | 44/61 [00:20<00:07,  2.17it/s]"
     ]
    },
    {
     "name": "stdout",
     "output_type": "stream",
     "text": [
      "Deleting image for buoy 46078 because it is nighttime.\n"
     ]
    },
    {
     "name": "stderr",
     "output_type": "stream",
     "text": [
      " 74%|███████▍  | 45/61 [00:20<00:07,  2.17it/s]"
     ]
    },
    {
     "name": "stdout",
     "output_type": "stream",
     "text": [
      "Deleting image for buoy 46087 because it is nighttime.\n"
     ]
    },
    {
     "name": "stderr",
     "output_type": "stream",
     "text": [
      " 75%|███████▌  | 46/61 [00:21<00:06,  2.14it/s]"
     ]
    },
    {
     "name": "stdout",
     "output_type": "stream",
     "text": [
      "Deleting image for buoy 51101 because it is nighttime.\n"
     ]
    },
    {
     "name": "stderr",
     "output_type": "stream",
     "text": [
      " 79%|███████▊  | 48/61 [00:22<00:06,  2.13it/s]"
     ]
    },
    {
     "name": "stdout",
     "output_type": "stream",
     "text": [
      "Deleting image for buoy 45002 because it is nighttime.\n"
     ]
    },
    {
     "name": "stderr",
     "output_type": "stream",
     "text": [
      " 80%|████████  | 49/61 [00:22<00:05,  2.17it/s]"
     ]
    },
    {
     "name": "stdout",
     "output_type": "stream",
     "text": [
      "Deleting image for buoy 46053 because it is nighttime.\n"
     ]
    },
    {
     "name": "stderr",
     "output_type": "stream",
     "text": [
      " 82%|████████▏ | 50/61 [00:23<00:05,  2.07it/s]"
     ]
    },
    {
     "name": "stdout",
     "output_type": "stream",
     "text": [
      "Deleting image for buoy 46047 because it is nighttime.\n"
     ]
    },
    {
     "name": "stderr",
     "output_type": "stream",
     "text": [
      " 84%|████████▎ | 51/61 [00:23<00:04,  2.15it/s]"
     ]
    },
    {
     "name": "stdout",
     "output_type": "stream",
     "text": [
      "Deleting image for buoy 46084 because it is nighttime.\n"
     ]
    },
    {
     "name": "stderr",
     "output_type": "stream",
     "text": [
      " 87%|████████▋ | 53/61 [00:24<00:03,  2.23it/s]"
     ]
    },
    {
     "name": "stdout",
     "output_type": "stream",
     "text": [
      "Deleting image for buoy 45003 because it is nighttime.\n"
     ]
    },
    {
     "name": "stderr",
     "output_type": "stream",
     "text": [
      " 89%|████████▊ | 54/61 [00:24<00:03,  2.27it/s]"
     ]
    },
    {
     "name": "stdout",
     "output_type": "stream",
     "text": [
      "Deleting image for buoy 45007 because it is nighttime.\n"
     ]
    },
    {
     "name": "stderr",
     "output_type": "stream",
     "text": [
      " 90%|█████████ | 55/61 [00:25<00:02,  2.27it/s]"
     ]
    },
    {
     "name": "stdout",
     "output_type": "stream",
     "text": [
      "Deleting image for buoy 46042 because it is nighttime.\n"
     ]
    },
    {
     "name": "stderr",
     "output_type": "stream",
     "text": [
      " 92%|█████████▏| 56/61 [00:25<00:02,  2.29it/s]"
     ]
    },
    {
     "name": "stdout",
     "output_type": "stream",
     "text": [
      "Deleting image for buoy 45012 because it is nighttime.\n"
     ]
    },
    {
     "name": "stderr",
     "output_type": "stream",
     "text": [
      " 93%|█████████▎| 57/61 [00:26<00:01,  2.27it/s]"
     ]
    },
    {
     "name": "stdout",
     "output_type": "stream",
     "text": [
      "Deleting image for buoy 42019 because it is nighttime.\n"
     ]
    },
    {
     "name": "stderr",
     "output_type": "stream",
     "text": [
      " 95%|█████████▌| 58/61 [00:26<00:01,  2.29it/s]"
     ]
    },
    {
     "name": "stdout",
     "output_type": "stream",
     "text": [
      "Deleting image for buoy 46069 because it is nighttime.\n"
     ]
    },
    {
     "name": "stderr",
     "output_type": "stream",
     "text": [
      " 98%|█████████▊| 60/61 [00:27<00:00,  2.27it/s]"
     ]
    },
    {
     "name": "stdout",
     "output_type": "stream",
     "text": [
      "Deleting image for buoy 41049 because it is nighttime.\n"
     ]
    },
    {
     "name": "stderr",
     "output_type": "stream",
     "text": [
      "100%|██████████| 61/61 [00:27<00:00,  2.19it/s]\n"
     ]
    },
    {
     "name": "stdout",
     "output_type": "stream",
     "text": [
      "Deleting image for buoy 45005 because it is nighttime.\n",
      "DifPy preparing files: [6/6] [100%]\n",
      "DifPy comparing images: [5/5] [100%]\n",
      "Found 0 images with one or more duplicate/similar images in 0.0407 seconds.\n"
     ]
    },
    {
     "name": "stderr",
     "output_type": "stream",
     "text": [
      "100%|██████████| 62/62 [00:00<00:00, 30738.40it/s]\n"
     ]
    },
    {
     "name": "stdout",
     "output_type": "stream",
     "text": [
      "Waiting for the remainder of the 15 minutes...\n"
     ]
    },
    {
     "name": "stderr",
     "output_type": "stream",
     "text": [
      "100%|██████████| 73/73 [01:13<00:00,  1.01s/it]\n"
     ]
    },
    {
     "name": "stdout",
     "output_type": "stream",
     "text": [
      "I can still see things! Downloading images...\n"
     ]
    },
    {
     "name": "stderr",
     "output_type": "stream",
     "text": [
      "  2%|▏         | 1/61 [00:00<00:28,  2.08it/s]"
     ]
    },
    {
     "name": "stdout",
     "output_type": "stream",
     "text": [
      "Deleting image for buoy 42001 because it is nighttime.\n"
     ]
    },
    {
     "name": "stderr",
     "output_type": "stream",
     "text": [
      "  3%|▎         | 2/61 [00:00<00:27,  2.14it/s]"
     ]
    },
    {
     "name": "stdout",
     "output_type": "stream",
     "text": [
      "Deleting image for buoy 46059 because it is nighttime.\n"
     ]
    },
    {
     "name": "stderr",
     "output_type": "stream",
     "text": [
      "  5%|▍         | 3/61 [00:01<00:26,  2.16it/s]"
     ]
    },
    {
     "name": "stdout",
     "output_type": "stream",
     "text": [
      "Deleting image for buoy 41044 because it is nighttime.\n"
     ]
    },
    {
     "name": "stderr",
     "output_type": "stream",
     "text": [
      "  7%|▋         | 4/61 [00:01<00:26,  2.17it/s]"
     ]
    },
    {
     "name": "stdout",
     "output_type": "stream",
     "text": [
      "Deleting image for buoy 46071 because it is nighttime.\n"
     ]
    },
    {
     "name": "stderr",
     "output_type": "stream",
     "text": [
      "  8%|▊         | 5/61 [00:02<00:27,  2.02it/s]"
     ]
    },
    {
     "name": "stdout",
     "output_type": "stream",
     "text": [
      "Deleting image for buoy 42002 because it is nighttime.\n"
     ]
    },
    {
     "name": "stderr",
     "output_type": "stream",
     "text": [
      " 10%|▉         | 6/61 [00:02<00:26,  2.11it/s]"
     ]
    },
    {
     "name": "stdout",
     "output_type": "stream",
     "text": [
      "Deleting image for buoy 46072 because it is nighttime.\n"
     ]
    },
    {
     "name": "stderr",
     "output_type": "stream",
     "text": [
      " 11%|█▏        | 7/61 [00:03<00:25,  2.16it/s]"
     ]
    },
    {
     "name": "stdout",
     "output_type": "stream",
     "text": [
      "Deleting image for buoy 46066 because it is nighttime.\n"
     ]
    },
    {
     "name": "stderr",
     "output_type": "stream",
     "text": [
      " 13%|█▎        | 8/61 [00:03<00:24,  2.20it/s]"
     ]
    },
    {
     "name": "stdout",
     "output_type": "stream",
     "text": [
      "Deleting image for buoy 41046 because it is nighttime.\n"
     ]
    },
    {
     "name": "stderr",
     "output_type": "stream",
     "text": [
      " 15%|█▍        | 9/61 [00:04<00:26,  1.98it/s]"
     ]
    },
    {
     "name": "stdout",
     "output_type": "stream",
     "text": [
      "Deleting image for buoy 46088 because it is nighttime.\n"
     ]
    },
    {
     "name": "stderr",
     "output_type": "stream",
     "text": [
      " 16%|█▋        | 10/61 [00:04<00:24,  2.09it/s]"
     ]
    },
    {
     "name": "stdout",
     "output_type": "stream",
     "text": [
      "Deleting image for buoy 44066 because it is nighttime.\n"
     ]
    },
    {
     "name": "stderr",
     "output_type": "stream",
     "text": [
      " 18%|█▊        | 11/61 [00:05<00:23,  2.14it/s]"
     ]
    },
    {
     "name": "stdout",
     "output_type": "stream",
     "text": [
      "Deleting image for buoy 46089 because it is nighttime.\n"
     ]
    },
    {
     "name": "stderr",
     "output_type": "stream",
     "text": [
      " 20%|█▉        | 12/61 [00:05<00:22,  2.17it/s]"
     ]
    },
    {
     "name": "stdout",
     "output_type": "stream",
     "text": [
      "Deleting image for buoy 41043 because it is nighttime.\n"
     ]
    },
    {
     "name": "stderr",
     "output_type": "stream",
     "text": [
      " 21%|██▏       | 13/61 [00:06<00:22,  2.10it/s]"
     ]
    },
    {
     "name": "stdout",
     "output_type": "stream",
     "text": [
      "Deleting image for buoy 42012 because it is nighttime.\n"
     ]
    },
    {
     "name": "stderr",
     "output_type": "stream",
     "text": [
      " 23%|██▎       | 14/61 [00:06<00:21,  2.15it/s]"
     ]
    },
    {
     "name": "stdout",
     "output_type": "stream",
     "text": [
      "Deleting image for buoy 42039 because it is nighttime.\n"
     ]
    },
    {
     "name": "stderr",
     "output_type": "stream",
     "text": [
      " 25%|██▍       | 15/61 [00:07<00:21,  2.14it/s]"
     ]
    },
    {
     "name": "stdout",
     "output_type": "stream",
     "text": [
      "Deleting image for buoy 46012 because it is nighttime.\n"
     ]
    },
    {
     "name": "stderr",
     "output_type": "stream",
     "text": [
      " 28%|██▊       | 17/61 [00:08<00:21,  2.00it/s]"
     ]
    },
    {
     "name": "stdout",
     "output_type": "stream",
     "text": [
      "Deleting image for buoy 42060 because it is nighttime.\n"
     ]
    },
    {
     "name": "stderr",
     "output_type": "stream",
     "text": [
      " 30%|██▉       | 18/61 [00:08<00:20,  2.09it/s]"
     ]
    },
    {
     "name": "stdout",
     "output_type": "stream",
     "text": [
      "Deleting image for buoy 41009 because it is nighttime.\n"
     ]
    },
    {
     "name": "stderr",
     "output_type": "stream",
     "text": [
      " 31%|███       | 19/61 [00:08<00:19,  2.15it/s]"
     ]
    },
    {
     "name": "stdout",
     "output_type": "stream",
     "text": [
      "Deleting image for buoy 46028 because it is nighttime.\n"
     ]
    },
    {
     "name": "stderr",
     "output_type": "stream",
     "text": [
      " 33%|███▎      | 20/61 [00:09<00:18,  2.21it/s]"
     ]
    },
    {
     "name": "stdout",
     "output_type": "stream",
     "text": [
      "Deleting image for buoy 44011 because it is nighttime.\n"
     ]
    },
    {
     "name": "stderr",
     "output_type": "stream",
     "text": [
      " 34%|███▍      | 21/61 [00:09<00:17,  2.26it/s]"
     ]
    },
    {
     "name": "stdout",
     "output_type": "stream",
     "text": [
      "Deleting image for buoy 41008 because it is nighttime.\n"
     ]
    },
    {
     "name": "stderr",
     "output_type": "stream",
     "text": [
      " 38%|███▊      | 23/61 [00:10<00:16,  2.26it/s]"
     ]
    },
    {
     "name": "stdout",
     "output_type": "stream",
     "text": [
      "Deleting image for buoy 42059 because it is nighttime.\n"
     ]
    },
    {
     "name": "stderr",
     "output_type": "stream",
     "text": [
      " 39%|███▉      | 24/61 [00:11<00:16,  2.29it/s]"
     ]
    },
    {
     "name": "stdout",
     "output_type": "stream",
     "text": [
      "Deleting image for buoy 44013 because it is nighttime.\n"
     ]
    },
    {
     "name": "stderr",
     "output_type": "stream",
     "text": [
      " 41%|████      | 25/61 [00:11<00:15,  2.31it/s]"
     ]
    },
    {
     "name": "stdout",
     "output_type": "stream",
     "text": [
      "Deleting image for buoy 44007 because it is nighttime.\n"
     ]
    },
    {
     "name": "stderr",
     "output_type": "stream",
     "text": [
      " 43%|████▎     | 26/61 [00:12<00:17,  2.00it/s]"
     ]
    },
    {
     "name": "stdout",
     "output_type": "stream",
     "text": [
      "Deleting image for buoy 46002 because it is nighttime.\n"
     ]
    },
    {
     "name": "stderr",
     "output_type": "stream",
     "text": [
      " 46%|████▌     | 28/61 [00:13<00:16,  2.02it/s]"
     ]
    },
    {
     "name": "stdout",
     "output_type": "stream",
     "text": [
      "Deleting image for buoy 46027 because it is nighttime.\n"
     ]
    },
    {
     "name": "stderr",
     "output_type": "stream",
     "text": [
      " 51%|█████     | 31/61 [00:14<00:16,  1.84it/s]"
     ]
    },
    {
     "name": "stdout",
     "output_type": "stream",
     "text": [
      "Deleting image for buoy 51000 because it is nighttime.\n"
     ]
    },
    {
     "name": "stderr",
     "output_type": "stream",
     "text": [
      " 52%|█████▏    | 32/61 [00:15<00:14,  1.96it/s]"
     ]
    },
    {
     "name": "stdout",
     "output_type": "stream",
     "text": [
      "Deleting image for buoy 42040 because it is nighttime.\n"
     ]
    },
    {
     "name": "stderr",
     "output_type": "stream",
     "text": [
      " 54%|█████▍    | 33/61 [00:15<00:13,  2.08it/s]"
     ]
    },
    {
     "name": "stdout",
     "output_type": "stream",
     "text": [
      "Deleting image for buoy 44020 because it is nighttime.\n"
     ]
    },
    {
     "name": "stderr",
     "output_type": "stream",
     "text": [
      " 57%|█████▋    | 35/61 [00:16<00:13,  1.95it/s]"
     ]
    },
    {
     "name": "stdout",
     "output_type": "stream",
     "text": [
      "Deleting image for buoy 41010 because it is nighttime.\n"
     ]
    },
    {
     "name": "stderr",
     "output_type": "stream",
     "text": [
      " 59%|█████▉    | 36/61 [00:17<00:12,  2.07it/s]"
     ]
    },
    {
     "name": "stdout",
     "output_type": "stream",
     "text": [
      "Deleting image for buoy 41004 because it is nighttime.\n"
     ]
    },
    {
     "name": "stderr",
     "output_type": "stream",
     "text": [
      " 62%|██████▏   | 38/61 [00:18<00:11,  1.96it/s]"
     ]
    },
    {
     "name": "stdout",
     "output_type": "stream",
     "text": [
      "Deleting image for buoy 44025 because it is nighttime.\n"
     ]
    },
    {
     "name": "stderr",
     "output_type": "stream",
     "text": [
      " 64%|██████▍   | 39/61 [00:18<00:10,  2.06it/s]"
     ]
    },
    {
     "name": "stdout",
     "output_type": "stream",
     "text": [
      "Deleting image for buoy 41001 because it is nighttime.\n"
     ]
    },
    {
     "name": "stderr",
     "output_type": "stream",
     "text": [
      " 66%|██████▌   | 40/61 [00:19<00:10,  2.06it/s]"
     ]
    },
    {
     "name": "stdout",
     "output_type": "stream",
     "text": [
      "Deleting image for buoy 51004 because it is nighttime.\n"
     ]
    },
    {
     "name": "stderr",
     "output_type": "stream",
     "text": [
      " 67%|██████▋   | 41/61 [00:19<00:09,  2.03it/s]"
     ]
    },
    {
     "name": "stdout",
     "output_type": "stream",
     "text": [
      "Deleting image for buoy 44027 because it is nighttime.\n"
     ]
    },
    {
     "name": "stderr",
     "output_type": "stream",
     "text": [
      " 69%|██████▉   | 42/61 [00:20<00:09,  2.05it/s]"
     ]
    },
    {
     "name": "stdout",
     "output_type": "stream",
     "text": [
      "Deleting image for buoy 41002 because it is nighttime.\n"
     ]
    },
    {
     "name": "stderr",
     "output_type": "stream",
     "text": [
      " 70%|███████   | 43/61 [00:20<00:08,  2.02it/s]"
     ]
    },
    {
     "name": "stdout",
     "output_type": "stream",
     "text": [
      "Deleting image for buoy 42020 because it is nighttime.\n"
     ]
    },
    {
     "name": "stderr",
     "output_type": "stream",
     "text": [
      " 72%|███████▏  | 44/61 [00:21<00:08,  1.92it/s]"
     ]
    },
    {
     "name": "stdout",
     "output_type": "stream",
     "text": [
      "Deleting image for buoy 46078 because it is nighttime.\n"
     ]
    },
    {
     "name": "stderr",
     "output_type": "stream",
     "text": [
      " 74%|███████▍  | 45/61 [00:21<00:08,  1.99it/s]"
     ]
    },
    {
     "name": "stdout",
     "output_type": "stream",
     "text": [
      "Deleting image for buoy 46087 because it is nighttime.\n"
     ]
    },
    {
     "name": "stderr",
     "output_type": "stream",
     "text": [
      " 75%|███████▌  | 46/61 [00:22<00:07,  2.04it/s]"
     ]
    },
    {
     "name": "stdout",
     "output_type": "stream",
     "text": [
      "Deleting image for buoy 51101 because it is nighttime.\n"
     ]
    },
    {
     "name": "stderr",
     "output_type": "stream",
     "text": [
      " 79%|███████▊  | 48/61 [00:23<00:06,  2.00it/s]"
     ]
    },
    {
     "name": "stdout",
     "output_type": "stream",
     "text": [
      "Deleting image for buoy 45002 because it is nighttime.\n"
     ]
    },
    {
     "name": "stderr",
     "output_type": "stream",
     "text": [
      " 80%|████████  | 49/61 [00:23<00:05,  2.06it/s]"
     ]
    },
    {
     "name": "stdout",
     "output_type": "stream",
     "text": [
      "Deleting image for buoy 46053 because it is nighttime.\n"
     ]
    },
    {
     "name": "stderr",
     "output_type": "stream",
     "text": [
      " 82%|████████▏ | 50/61 [00:24<00:05,  2.00it/s]"
     ]
    },
    {
     "name": "stdout",
     "output_type": "stream",
     "text": [
      "Deleting image for buoy 46047 because it is nighttime.\n"
     ]
    },
    {
     "name": "stderr",
     "output_type": "stream",
     "text": [
      " 84%|████████▎ | 51/61 [00:24<00:04,  2.08it/s]"
     ]
    },
    {
     "name": "stdout",
     "output_type": "stream",
     "text": [
      "Deleting image for buoy 46084 because it is nighttime.\n"
     ]
    },
    {
     "name": "stderr",
     "output_type": "stream",
     "text": [
      " 87%|████████▋ | 53/61 [00:25<00:03,  2.17it/s]"
     ]
    },
    {
     "name": "stdout",
     "output_type": "stream",
     "text": [
      "Deleting image for buoy 45003 because it is nighttime.\n"
     ]
    },
    {
     "name": "stderr",
     "output_type": "stream",
     "text": [
      " 89%|████████▊ | 54/61 [00:26<00:03,  2.18it/s]"
     ]
    },
    {
     "name": "stdout",
     "output_type": "stream",
     "text": [
      "Deleting image for buoy 45007 because it is nighttime.\n"
     ]
    },
    {
     "name": "stderr",
     "output_type": "stream",
     "text": [
      " 90%|█████████ | 55/61 [00:26<00:02,  2.23it/s]"
     ]
    },
    {
     "name": "stdout",
     "output_type": "stream",
     "text": [
      "Deleting image for buoy 46042 because it is nighttime.\n"
     ]
    },
    {
     "name": "stderr",
     "output_type": "stream",
     "text": [
      " 92%|█████████▏| 56/61 [00:26<00:02,  2.15it/s]"
     ]
    },
    {
     "name": "stdout",
     "output_type": "stream",
     "text": [
      "Deleting image for buoy 45012 because it is nighttime.\n"
     ]
    },
    {
     "name": "stderr",
     "output_type": "stream",
     "text": [
      " 93%|█████████▎| 57/61 [00:27<00:01,  2.22it/s]"
     ]
    },
    {
     "name": "stdout",
     "output_type": "stream",
     "text": [
      "Deleting image for buoy 42019 because it is nighttime.\n"
     ]
    },
    {
     "name": "stderr",
     "output_type": "stream",
     "text": [
      " 95%|█████████▌| 58/61 [00:27<00:01,  2.24it/s]"
     ]
    },
    {
     "name": "stdout",
     "output_type": "stream",
     "text": [
      "Deleting image for buoy 46069 because it is nighttime.\n"
     ]
    },
    {
     "name": "stderr",
     "output_type": "stream",
     "text": [
      " 98%|█████████▊| 60/61 [00:28<00:00,  2.28it/s]"
     ]
    },
    {
     "name": "stdout",
     "output_type": "stream",
     "text": [
      "Deleting image for buoy 41049 because it is nighttime.\n"
     ]
    },
    {
     "name": "stderr",
     "output_type": "stream",
     "text": [
      "100%|██████████| 61/61 [00:29<00:00,  2.09it/s]\n"
     ]
    },
    {
     "name": "stdout",
     "output_type": "stream",
     "text": [
      "Deleting image for buoy 45005 because it is nighttime.\n",
      "DifPy preparing files: [6/6] [100%]\n",
      "DifPy comparing images: [5/5] [100%]\n",
      "Found 0 images with one or more duplicate/similar images in 0.0336 seconds.\n"
     ]
    },
    {
     "name": "stderr",
     "output_type": "stream",
     "text": [
      "100%|██████████| 62/62 [00:00<00:00, 32755.62it/s]\n"
     ]
    },
    {
     "name": "stdout",
     "output_type": "stream",
     "text": [
      "Waiting for the remainder of the 15 minutes...\n"
     ]
    },
    {
     "name": "stderr",
     "output_type": "stream",
     "text": [
      "100%|██████████| 71/71 [01:11<00:00,  1.01s/it]\n"
     ]
    },
    {
     "name": "stdout",
     "output_type": "stream",
     "text": [
      "I can still see things! Downloading images...\n"
     ]
    },
    {
     "name": "stderr",
     "output_type": "stream",
     "text": [
      "  2%|▏         | 1/61 [00:00<00:28,  2.14it/s]"
     ]
    },
    {
     "name": "stdout",
     "output_type": "stream",
     "text": [
      "Deleting image for buoy 42001 because it is nighttime.\n"
     ]
    },
    {
     "name": "stderr",
     "output_type": "stream",
     "text": [
      "  3%|▎         | 2/61 [00:00<00:26,  2.24it/s]"
     ]
    },
    {
     "name": "stdout",
     "output_type": "stream",
     "text": [
      "Deleting image for buoy 46059 because it is nighttime.\n"
     ]
    },
    {
     "name": "stderr",
     "output_type": "stream",
     "text": [
      "  5%|▍         | 3/61 [00:01<00:25,  2.29it/s]"
     ]
    },
    {
     "name": "stdout",
     "output_type": "stream",
     "text": [
      "Deleting image for buoy 41044 because it is nighttime.\n"
     ]
    },
    {
     "name": "stderr",
     "output_type": "stream",
     "text": [
      "  7%|▋         | 4/61 [00:01<00:27,  2.10it/s]"
     ]
    },
    {
     "name": "stdout",
     "output_type": "stream",
     "text": [
      "Deleting image for buoy 46071 because it is nighttime.\n"
     ]
    },
    {
     "name": "stderr",
     "output_type": "stream",
     "text": [
      "  8%|▊         | 5/61 [00:02<00:26,  2.13it/s]"
     ]
    },
    {
     "name": "stdout",
     "output_type": "stream",
     "text": [
      "Deleting image for buoy 42002 because it is nighttime.\n"
     ]
    },
    {
     "name": "stderr",
     "output_type": "stream",
     "text": [
      " 10%|▉         | 6/61 [00:02<00:26,  2.11it/s]"
     ]
    },
    {
     "name": "stdout",
     "output_type": "stream",
     "text": [
      "Deleting image for buoy 46072 because it is nighttime.\n"
     ]
    },
    {
     "name": "stderr",
     "output_type": "stream",
     "text": [
      " 11%|█▏        | 7/61 [00:03<00:25,  2.16it/s]"
     ]
    },
    {
     "name": "stdout",
     "output_type": "stream",
     "text": [
      "Deleting image for buoy 46066 because it is nighttime.\n"
     ]
    },
    {
     "name": "stderr",
     "output_type": "stream",
     "text": [
      " 13%|█▎        | 8/61 [00:03<00:25,  2.07it/s]"
     ]
    },
    {
     "name": "stdout",
     "output_type": "stream",
     "text": [
      "Deleting image for buoy 41046 because it is nighttime.\n"
     ]
    },
    {
     "name": "stderr",
     "output_type": "stream",
     "text": [
      " 15%|█▍        | 9/61 [00:04<00:24,  2.12it/s]"
     ]
    },
    {
     "name": "stdout",
     "output_type": "stream",
     "text": [
      "Deleting image for buoy 46088 because it is nighttime.\n"
     ]
    },
    {
     "name": "stderr",
     "output_type": "stream",
     "text": [
      " 16%|█▋        | 10/61 [00:04<00:23,  2.20it/s]"
     ]
    },
    {
     "name": "stdout",
     "output_type": "stream",
     "text": [
      "Deleting image for buoy 44066 because it is nighttime.\n"
     ]
    },
    {
     "name": "stderr",
     "output_type": "stream",
     "text": [
      " 18%|█▊        | 11/61 [00:05<00:23,  2.15it/s]"
     ]
    },
    {
     "name": "stdout",
     "output_type": "stream",
     "text": [
      "Deleting image for buoy 46089 because it is nighttime.\n"
     ]
    },
    {
     "name": "stderr",
     "output_type": "stream",
     "text": [
      " 20%|█▉        | 12/61 [00:05<00:23,  2.11it/s]"
     ]
    },
    {
     "name": "stdout",
     "output_type": "stream",
     "text": [
      "Deleting image for buoy 41043 because it is nighttime.\n"
     ]
    },
    {
     "name": "stderr",
     "output_type": "stream",
     "text": [
      " 21%|██▏       | 13/61 [00:06<00:22,  2.15it/s]"
     ]
    },
    {
     "name": "stdout",
     "output_type": "stream",
     "text": [
      "Deleting image for buoy 42012 because it is nighttime.\n"
     ]
    },
    {
     "name": "stderr",
     "output_type": "stream",
     "text": [
      " 23%|██▎       | 14/61 [00:06<00:21,  2.14it/s]"
     ]
    },
    {
     "name": "stdout",
     "output_type": "stream",
     "text": [
      "Deleting image for buoy 42039 because it is nighttime.\n"
     ]
    },
    {
     "name": "stderr",
     "output_type": "stream",
     "text": [
      " 25%|██▍       | 15/61 [00:06<00:21,  2.16it/s]"
     ]
    },
    {
     "name": "stdout",
     "output_type": "stream",
     "text": [
      "Deleting image for buoy 46012 because it is nighttime.\n"
     ]
    },
    {
     "name": "stderr",
     "output_type": "stream",
     "text": [
      " 28%|██▊       | 17/61 [00:07<00:20,  2.19it/s]"
     ]
    },
    {
     "name": "stdout",
     "output_type": "stream",
     "text": [
      "Deleting image for buoy 42060 because it is nighttime.\n"
     ]
    },
    {
     "name": "stderr",
     "output_type": "stream",
     "text": [
      " 30%|██▉       | 18/61 [00:08<00:20,  2.14it/s]"
     ]
    },
    {
     "name": "stdout",
     "output_type": "stream",
     "text": [
      "Deleting image for buoy 41009 because it is nighttime.\n"
     ]
    },
    {
     "name": "stderr",
     "output_type": "stream",
     "text": [
      " 31%|███       | 19/61 [00:08<00:19,  2.20it/s]"
     ]
    },
    {
     "name": "stdout",
     "output_type": "stream",
     "text": [
      "Deleting image for buoy 46028 because it is nighttime.\n"
     ]
    },
    {
     "name": "stderr",
     "output_type": "stream",
     "text": [
      " 33%|███▎      | 20/61 [00:09<00:18,  2.24it/s]"
     ]
    },
    {
     "name": "stdout",
     "output_type": "stream",
     "text": [
      "Deleting image for buoy 44011 because it is nighttime.\n"
     ]
    },
    {
     "name": "stderr",
     "output_type": "stream",
     "text": [
      " 34%|███▍      | 21/61 [00:09<00:18,  2.13it/s]"
     ]
    },
    {
     "name": "stdout",
     "output_type": "stream",
     "text": [
      "Deleting image for buoy 41008 because it is nighttime.\n"
     ]
    },
    {
     "name": "stderr",
     "output_type": "stream",
     "text": [
      " 38%|███▊      | 23/61 [00:10<00:16,  2.24it/s]"
     ]
    },
    {
     "name": "stdout",
     "output_type": "stream",
     "text": [
      "Deleting image for buoy 42059 because it is nighttime.\n"
     ]
    },
    {
     "name": "stderr",
     "output_type": "stream",
     "text": [
      " 39%|███▉      | 24/61 [00:11<00:17,  2.15it/s]"
     ]
    },
    {
     "name": "stdout",
     "output_type": "stream",
     "text": [
      "Deleting image for buoy 44013 because it is nighttime.\n"
     ]
    },
    {
     "name": "stderr",
     "output_type": "stream",
     "text": [
      " 41%|████      | 25/61 [00:11<00:16,  2.20it/s]"
     ]
    },
    {
     "name": "stdout",
     "output_type": "stream",
     "text": [
      "Deleting image for buoy 44007 because it is nighttime.\n"
     ]
    },
    {
     "name": "stderr",
     "output_type": "stream",
     "text": [
      " 43%|████▎     | 26/61 [00:12<00:17,  2.05it/s]"
     ]
    },
    {
     "name": "stdout",
     "output_type": "stream",
     "text": [
      "Deleting image for buoy 46002 because it is nighttime.\n"
     ]
    },
    {
     "name": "stderr",
     "output_type": "stream",
     "text": [
      " 46%|████▌     | 28/61 [00:13<00:16,  2.05it/s]"
     ]
    },
    {
     "name": "stdout",
     "output_type": "stream",
     "text": [
      "Deleting image for buoy 46027 because it is nighttime.\n"
     ]
    },
    {
     "name": "stderr",
     "output_type": "stream",
     "text": [
      " 51%|█████     | 31/61 [00:14<00:13,  2.16it/s]"
     ]
    },
    {
     "name": "stdout",
     "output_type": "stream",
     "text": [
      "Deleting image for buoy 51000 because it is nighttime.\n"
     ]
    },
    {
     "name": "stderr",
     "output_type": "stream",
     "text": [
      " 52%|█████▏    | 32/61 [00:14<00:13,  2.21it/s]"
     ]
    },
    {
     "name": "stdout",
     "output_type": "stream",
     "text": [
      "Deleting image for buoy 42040 because it is nighttime.\n"
     ]
    },
    {
     "name": "stderr",
     "output_type": "stream",
     "text": [
      " 54%|█████▍    | 33/61 [00:15<00:12,  2.18it/s]"
     ]
    },
    {
     "name": "stdout",
     "output_type": "stream",
     "text": [
      "Deleting image for buoy 44020 because it is nighttime.\n"
     ]
    },
    {
     "name": "stderr",
     "output_type": "stream",
     "text": [
      " 57%|█████▋    | 35/61 [00:16<00:12,  2.08it/s]"
     ]
    },
    {
     "name": "stdout",
     "output_type": "stream",
     "text": [
      "Deleting image for buoy 41010 because it is nighttime.\n"
     ]
    },
    {
     "name": "stderr",
     "output_type": "stream",
     "text": [
      " 59%|█████▉    | 36/61 [00:16<00:11,  2.15it/s]"
     ]
    },
    {
     "name": "stdout",
     "output_type": "stream",
     "text": [
      "Deleting image for buoy 41004 because it is nighttime.\n"
     ]
    },
    {
     "name": "stderr",
     "output_type": "stream",
     "text": [
      " 62%|██████▏   | 38/61 [00:17<00:11,  2.02it/s]"
     ]
    },
    {
     "name": "stdout",
     "output_type": "stream",
     "text": [
      "Deleting image for buoy 44025 because it is nighttime.\n"
     ]
    },
    {
     "name": "stderr",
     "output_type": "stream",
     "text": [
      " 64%|██████▍   | 39/61 [00:18<00:10,  2.12it/s]"
     ]
    },
    {
     "name": "stdout",
     "output_type": "stream",
     "text": [
      "Deleting image for buoy 41001 because it is nighttime.\n"
     ]
    },
    {
     "name": "stderr",
     "output_type": "stream",
     "text": [
      " 66%|██████▌   | 40/61 [00:18<00:09,  2.15it/s]"
     ]
    },
    {
     "name": "stdout",
     "output_type": "stream",
     "text": [
      "Deleting image for buoy 51004 because it is nighttime.\n"
     ]
    },
    {
     "name": "stderr",
     "output_type": "stream",
     "text": [
      " 67%|██████▋   | 41/61 [00:19<00:09,  2.19it/s]"
     ]
    },
    {
     "name": "stdout",
     "output_type": "stream",
     "text": [
      "Deleting image for buoy 44027 because it is nighttime.\n"
     ]
    },
    {
     "name": "stderr",
     "output_type": "stream",
     "text": [
      " 69%|██████▉   | 42/61 [00:19<00:08,  2.24it/s]"
     ]
    },
    {
     "name": "stdout",
     "output_type": "stream",
     "text": [
      "Deleting image for buoy 41002 because it is nighttime.\n"
     ]
    },
    {
     "name": "stderr",
     "output_type": "stream",
     "text": [
      " 70%|███████   | 43/61 [00:20<00:08,  2.16it/s]"
     ]
    },
    {
     "name": "stdout",
     "output_type": "stream",
     "text": [
      "Deleting image for buoy 42020 because it is nighttime.\n"
     ]
    },
    {
     "name": "stderr",
     "output_type": "stream",
     "text": [
      " 72%|███████▏  | 44/61 [00:20<00:07,  2.22it/s]"
     ]
    },
    {
     "name": "stdout",
     "output_type": "stream",
     "text": [
      "Deleting image for buoy 46078 because it is nighttime.\n"
     ]
    },
    {
     "name": "stderr",
     "output_type": "stream",
     "text": [
      " 74%|███████▍  | 45/61 [00:20<00:07,  2.20it/s]"
     ]
    },
    {
     "name": "stdout",
     "output_type": "stream",
     "text": [
      "Deleting image for buoy 46087 because it is nighttime.\n"
     ]
    },
    {
     "name": "stderr",
     "output_type": "stream",
     "text": [
      " 75%|███████▌  | 46/61 [00:21<00:06,  2.15it/s]"
     ]
    },
    {
     "name": "stdout",
     "output_type": "stream",
     "text": [
      "Deleting image for buoy 51101 because it is nighttime.\n"
     ]
    },
    {
     "name": "stderr",
     "output_type": "stream",
     "text": [
      " 79%|███████▊  | 48/61 [00:22<00:06,  2.16it/s]"
     ]
    },
    {
     "name": "stdout",
     "output_type": "stream",
     "text": [
      "Deleting image for buoy 45002 because it is nighttime.\n"
     ]
    },
    {
     "name": "stderr",
     "output_type": "stream",
     "text": [
      " 80%|████████  | 49/61 [00:22<00:05,  2.20it/s]"
     ]
    },
    {
     "name": "stdout",
     "output_type": "stream",
     "text": [
      "Deleting image for buoy 46053 because it is nighttime.\n"
     ]
    },
    {
     "name": "stderr",
     "output_type": "stream",
     "text": [
      " 82%|████████▏ | 50/61 [00:23<00:05,  2.18it/s]"
     ]
    },
    {
     "name": "stdout",
     "output_type": "stream",
     "text": [
      "Deleting image for buoy 46047 because it is nighttime.\n"
     ]
    },
    {
     "name": "stderr",
     "output_type": "stream",
     "text": [
      " 84%|████████▎ | 51/61 [00:23<00:04,  2.19it/s]"
     ]
    },
    {
     "name": "stdout",
     "output_type": "stream",
     "text": [
      "Deleting image for buoy 46084 because it is nighttime.\n"
     ]
    },
    {
     "name": "stderr",
     "output_type": "stream",
     "text": [
      " 87%|████████▋ | 53/61 [00:24<00:03,  2.25it/s]"
     ]
    },
    {
     "name": "stdout",
     "output_type": "stream",
     "text": [
      "Deleting image for buoy 45003 because it is nighttime.\n"
     ]
    },
    {
     "name": "stderr",
     "output_type": "stream",
     "text": [
      " 89%|████████▊ | 54/61 [00:24<00:03,  2.26it/s]"
     ]
    },
    {
     "name": "stdout",
     "output_type": "stream",
     "text": [
      "Deleting image for buoy 45007 because it is nighttime.\n"
     ]
    },
    {
     "name": "stderr",
     "output_type": "stream",
     "text": [
      " 90%|█████████ | 55/61 [00:25<00:02,  2.28it/s]"
     ]
    },
    {
     "name": "stdout",
     "output_type": "stream",
     "text": [
      "Deleting image for buoy 46042 because it is nighttime.\n"
     ]
    },
    {
     "name": "stderr",
     "output_type": "stream",
     "text": [
      " 92%|█████████▏| 56/61 [00:25<00:02,  2.27it/s]"
     ]
    },
    {
     "name": "stdout",
     "output_type": "stream",
     "text": [
      "Deleting image for buoy 45012 because it is nighttime.\n"
     ]
    },
    {
     "name": "stderr",
     "output_type": "stream",
     "text": [
      " 93%|█████████▎| 57/61 [00:26<00:01,  2.31it/s]"
     ]
    },
    {
     "name": "stdout",
     "output_type": "stream",
     "text": [
      "Deleting image for buoy 42019 because it is nighttime.\n"
     ]
    },
    {
     "name": "stderr",
     "output_type": "stream",
     "text": [
      " 95%|█████████▌| 58/61 [00:26<00:01,  2.30it/s]"
     ]
    },
    {
     "name": "stdout",
     "output_type": "stream",
     "text": [
      "Deleting image for buoy 46069 because it is nighttime.\n"
     ]
    },
    {
     "name": "stderr",
     "output_type": "stream",
     "text": [
      " 98%|█████████▊| 60/61 [00:27<00:00,  2.31it/s]"
     ]
    },
    {
     "name": "stdout",
     "output_type": "stream",
     "text": [
      "Deleting image for buoy 41049 because it is nighttime.\n"
     ]
    },
    {
     "name": "stderr",
     "output_type": "stream",
     "text": [
      "100%|██████████| 61/61 [00:28<00:00,  2.18it/s]\n"
     ]
    },
    {
     "name": "stdout",
     "output_type": "stream",
     "text": [
      "Deleting image for buoy 45005 because it is nighttime.\n",
      "DifPy preparing files: [6/6] [100%]\n",
      "DifPy comparing images: [5/5] [100%]\n",
      "Found 0 images with one or more duplicate/similar images in 0.0362 seconds.\n"
     ]
    },
    {
     "name": "stderr",
     "output_type": "stream",
     "text": [
      "100%|██████████| 62/62 [00:00<00:00, 18363.59it/s]\n"
     ]
    },
    {
     "name": "stdout",
     "output_type": "stream",
     "text": [
      "Waiting for the remainder of the 15 minutes...\n"
     ]
    },
    {
     "name": "stderr",
     "output_type": "stream",
     "text": [
      "100%|██████████| 72/72 [01:12<00:00,  1.00s/it]\n"
     ]
    },
    {
     "name": "stdout",
     "output_type": "stream",
     "text": [
      "I can still see things! Downloading images...\n"
     ]
    },
    {
     "name": "stderr",
     "output_type": "stream",
     "text": [
      "  2%|▏         | 1/61 [00:00<00:26,  2.28it/s]"
     ]
    },
    {
     "name": "stdout",
     "output_type": "stream",
     "text": [
      "Deleting image for buoy 42001 because it is nighttime.\n"
     ]
    },
    {
     "name": "stderr",
     "output_type": "stream",
     "text": [
      "  3%|▎         | 2/61 [00:00<00:28,  2.05it/s]"
     ]
    },
    {
     "name": "stdout",
     "output_type": "stream",
     "text": [
      "Deleting image for buoy 46059 because it is nighttime.\n"
     ]
    },
    {
     "name": "stderr",
     "output_type": "stream",
     "text": [
      "  5%|▍         | 3/61 [00:01<00:27,  2.13it/s]"
     ]
    },
    {
     "name": "stdout",
     "output_type": "stream",
     "text": [
      "Deleting image for buoy 41044 because it is nighttime.\n"
     ]
    },
    {
     "name": "stderr",
     "output_type": "stream",
     "text": [
      "  7%|▋         | 4/61 [00:01<00:27,  2.09it/s]"
     ]
    },
    {
     "name": "stdout",
     "output_type": "stream",
     "text": [
      "Deleting image for buoy 46071 because it is nighttime.\n"
     ]
    },
    {
     "name": "stderr",
     "output_type": "stream",
     "text": [
      "  8%|▊         | 5/61 [00:02<00:25,  2.21it/s]"
     ]
    },
    {
     "name": "stdout",
     "output_type": "stream",
     "text": [
      "Deleting image for buoy 42002 because it is nighttime.\n"
     ]
    },
    {
     "name": "stderr",
     "output_type": "stream",
     "text": [
      " 10%|▉         | 6/61 [00:02<00:24,  2.23it/s]"
     ]
    },
    {
     "name": "stdout",
     "output_type": "stream",
     "text": [
      "Deleting image for buoy 46072 because it is nighttime.\n"
     ]
    },
    {
     "name": "stderr",
     "output_type": "stream",
     "text": [
      " 11%|█▏        | 7/61 [00:03<00:26,  2.04it/s]"
     ]
    },
    {
     "name": "stdout",
     "output_type": "stream",
     "text": [
      "Deleting image for buoy 46066 because it is nighttime.\n"
     ]
    },
    {
     "name": "stderr",
     "output_type": "stream",
     "text": [
      " 13%|█▎        | 8/61 [00:03<00:25,  2.10it/s]"
     ]
    },
    {
     "name": "stdout",
     "output_type": "stream",
     "text": [
      "Deleting image for buoy 41046 because it is nighttime.\n"
     ]
    },
    {
     "name": "stderr",
     "output_type": "stream",
     "text": [
      " 15%|█▍        | 9/61 [00:04<00:24,  2.10it/s]"
     ]
    },
    {
     "name": "stdout",
     "output_type": "stream",
     "text": [
      "Deleting image for buoy 46088 because it is nighttime.\n"
     ]
    },
    {
     "name": "stderr",
     "output_type": "stream",
     "text": [
      " 16%|█▋        | 10/61 [00:04<00:23,  2.18it/s]"
     ]
    },
    {
     "name": "stdout",
     "output_type": "stream",
     "text": [
      "Deleting image for buoy 44066 because it is nighttime.\n"
     ]
    },
    {
     "name": "stderr",
     "output_type": "stream",
     "text": [
      " 18%|█▊        | 11/61 [00:05<00:24,  2.07it/s]"
     ]
    },
    {
     "name": "stdout",
     "output_type": "stream",
     "text": [
      "Deleting image for buoy 46089 because it is nighttime.\n"
     ]
    },
    {
     "name": "stderr",
     "output_type": "stream",
     "text": [
      " 20%|█▉        | 12/61 [00:05<00:24,  1.99it/s]"
     ]
    },
    {
     "name": "stdout",
     "output_type": "stream",
     "text": [
      "Deleting image for buoy 41043 because it is nighttime.\n"
     ]
    },
    {
     "name": "stderr",
     "output_type": "stream",
     "text": [
      " 21%|██▏       | 13/61 [00:06<00:22,  2.10it/s]"
     ]
    },
    {
     "name": "stdout",
     "output_type": "stream",
     "text": [
      "Deleting image for buoy 42012 because it is nighttime.\n"
     ]
    },
    {
     "name": "stderr",
     "output_type": "stream",
     "text": [
      " 23%|██▎       | 14/61 [00:06<00:21,  2.15it/s]"
     ]
    },
    {
     "name": "stdout",
     "output_type": "stream",
     "text": [
      "Deleting image for buoy 42039 because it is nighttime.\n"
     ]
    },
    {
     "name": "stderr",
     "output_type": "stream",
     "text": [
      " 25%|██▍       | 15/61 [00:07<00:22,  2.06it/s]"
     ]
    },
    {
     "name": "stdout",
     "output_type": "stream",
     "text": [
      "Deleting image for buoy 46012 because it is nighttime.\n"
     ]
    },
    {
     "name": "stderr",
     "output_type": "stream",
     "text": [
      " 28%|██▊       | 17/61 [00:08<00:20,  2.19it/s]"
     ]
    },
    {
     "name": "stdout",
     "output_type": "stream",
     "text": [
      "Deleting image for buoy 42060 because it is nighttime.\n"
     ]
    },
    {
     "name": "stderr",
     "output_type": "stream",
     "text": [
      " 30%|██▉       | 18/61 [00:08<00:19,  2.24it/s]"
     ]
    },
    {
     "name": "stdout",
     "output_type": "stream",
     "text": [
      "Deleting image for buoy 41009 because it is nighttime.\n"
     ]
    },
    {
     "name": "stderr",
     "output_type": "stream",
     "text": [
      " 31%|███       | 19/61 [00:08<00:18,  2.25it/s]"
     ]
    },
    {
     "name": "stdout",
     "output_type": "stream",
     "text": [
      "Deleting image for buoy 46028 because it is nighttime.\n"
     ]
    },
    {
     "name": "stderr",
     "output_type": "stream",
     "text": [
      " 33%|███▎      | 20/61 [00:09<00:18,  2.20it/s]"
     ]
    },
    {
     "name": "stdout",
     "output_type": "stream",
     "text": [
      "Deleting image for buoy 44011 because it is nighttime.\n"
     ]
    },
    {
     "name": "stderr",
     "output_type": "stream",
     "text": [
      " 34%|███▍      | 21/61 [00:09<00:17,  2.26it/s]"
     ]
    },
    {
     "name": "stdout",
     "output_type": "stream",
     "text": [
      "Deleting image for buoy 41008 because it is nighttime.\n"
     ]
    },
    {
     "name": "stderr",
     "output_type": "stream",
     "text": [
      " 38%|███▊      | 23/61 [00:10<00:17,  2.12it/s]"
     ]
    },
    {
     "name": "stdout",
     "output_type": "stream",
     "text": [
      "Deleting image for buoy 42059 because it is nighttime.\n"
     ]
    },
    {
     "name": "stderr",
     "output_type": "stream",
     "text": [
      " 39%|███▉      | 24/61 [00:11<00:17,  2.14it/s]"
     ]
    },
    {
     "name": "stdout",
     "output_type": "stream",
     "text": [
      "Deleting image for buoy 44013 because it is nighttime.\n"
     ]
    },
    {
     "name": "stderr",
     "output_type": "stream",
     "text": [
      " 41%|████      | 25/61 [00:11<00:16,  2.15it/s]"
     ]
    },
    {
     "name": "stdout",
     "output_type": "stream",
     "text": [
      "Deleting image for buoy 44007 because it is nighttime.\n"
     ]
    },
    {
     "name": "stderr",
     "output_type": "stream",
     "text": [
      " 43%|████▎     | 26/61 [00:12<00:15,  2.19it/s]"
     ]
    },
    {
     "name": "stdout",
     "output_type": "stream",
     "text": [
      "Deleting image for buoy 46002 because it is nighttime.\n"
     ]
    },
    {
     "name": "stderr",
     "output_type": "stream",
     "text": [
      " 46%|████▌     | 28/61 [00:13<00:16,  2.06it/s]"
     ]
    },
    {
     "name": "stdout",
     "output_type": "stream",
     "text": [
      "Deleting image for buoy 46027 because it is nighttime.\n"
     ]
    },
    {
     "name": "stderr",
     "output_type": "stream",
     "text": [
      " 51%|█████     | 31/61 [00:14<00:14,  2.12it/s]"
     ]
    },
    {
     "name": "stdout",
     "output_type": "stream",
     "text": [
      "Deleting image for buoy 51000 because it is nighttime.\n"
     ]
    },
    {
     "name": "stderr",
     "output_type": "stream",
     "text": [
      " 52%|█████▏    | 32/61 [00:14<00:13,  2.14it/s]"
     ]
    },
    {
     "name": "stdout",
     "output_type": "stream",
     "text": [
      "Deleting image for buoy 42040 because it is nighttime.\n"
     ]
    },
    {
     "name": "stderr",
     "output_type": "stream",
     "text": [
      " 54%|█████▍    | 33/61 [00:15<00:13,  2.09it/s]"
     ]
    },
    {
     "name": "stdout",
     "output_type": "stream",
     "text": [
      "Deleting image for buoy 44020 because it is nighttime.\n"
     ]
    },
    {
     "name": "stderr",
     "output_type": "stream",
     "text": [
      " 57%|█████▋    | 35/61 [00:16<00:12,  2.09it/s]"
     ]
    },
    {
     "name": "stdout",
     "output_type": "stream",
     "text": [
      "Deleting image for buoy 41010 because it is nighttime.\n"
     ]
    },
    {
     "name": "stderr",
     "output_type": "stream",
     "text": [
      " 59%|█████▉    | 36/61 [00:16<00:12,  2.06it/s]"
     ]
    },
    {
     "name": "stdout",
     "output_type": "stream",
     "text": [
      "Deleting image for buoy 41004 because it is nighttime.\n"
     ]
    },
    {
     "name": "stderr",
     "output_type": "stream",
     "text": [
      " 62%|██████▏   | 38/61 [00:17<00:10,  2.13it/s]"
     ]
    },
    {
     "name": "stdout",
     "output_type": "stream",
     "text": [
      "Deleting image for buoy 44025 because it is nighttime.\n"
     ]
    },
    {
     "name": "stderr",
     "output_type": "stream",
     "text": [
      " 64%|██████▍   | 39/61 [00:18<00:10,  2.19it/s]"
     ]
    },
    {
     "name": "stdout",
     "output_type": "stream",
     "text": [
      "Deleting image for buoy 41001 because it is nighttime.\n"
     ]
    },
    {
     "name": "stderr",
     "output_type": "stream",
     "text": [
      " 66%|██████▌   | 40/61 [00:18<00:09,  2.23it/s]"
     ]
    },
    {
     "name": "stdout",
     "output_type": "stream",
     "text": [
      "Deleting image for buoy 51004 because it is nighttime.\n"
     ]
    },
    {
     "name": "stderr",
     "output_type": "stream",
     "text": [
      " 67%|██████▋   | 41/61 [00:19<00:09,  2.17it/s]"
     ]
    },
    {
     "name": "stdout",
     "output_type": "stream",
     "text": [
      "Deleting image for buoy 44027 because it is nighttime.\n"
     ]
    },
    {
     "name": "stderr",
     "output_type": "stream",
     "text": [
      " 69%|██████▉   | 42/61 [00:19<00:08,  2.12it/s]"
     ]
    },
    {
     "name": "stdout",
     "output_type": "stream",
     "text": [
      "Deleting image for buoy 41002 because it is nighttime.\n"
     ]
    },
    {
     "name": "stderr",
     "output_type": "stream",
     "text": [
      " 70%|███████   | 43/61 [00:20<00:08,  2.01it/s]"
     ]
    },
    {
     "name": "stdout",
     "output_type": "stream",
     "text": [
      "Deleting image for buoy 42020 because it is nighttime.\n"
     ]
    },
    {
     "name": "stderr",
     "output_type": "stream",
     "text": [
      " 72%|███████▏  | 44/61 [00:20<00:08,  2.09it/s]"
     ]
    },
    {
     "name": "stdout",
     "output_type": "stream",
     "text": [
      "Deleting image for buoy 46078 because it is nighttime.\n"
     ]
    },
    {
     "name": "stderr",
     "output_type": "stream",
     "text": [
      " 74%|███████▍  | 45/61 [00:21<00:07,  2.06it/s]"
     ]
    },
    {
     "name": "stdout",
     "output_type": "stream",
     "text": [
      "Deleting image for buoy 46087 because it is nighttime.\n"
     ]
    },
    {
     "name": "stderr",
     "output_type": "stream",
     "text": [
      " 75%|███████▌  | 46/61 [00:21<00:07,  1.97it/s]"
     ]
    },
    {
     "name": "stdout",
     "output_type": "stream",
     "text": [
      "Deleting image for buoy 51101 because it is nighttime.\n"
     ]
    },
    {
     "name": "stderr",
     "output_type": "stream",
     "text": [
      " 79%|███████▊  | 48/61 [00:22<00:06,  2.09it/s]"
     ]
    },
    {
     "name": "stdout",
     "output_type": "stream",
     "text": [
      "Deleting image for buoy 45002 because it is nighttime.\n"
     ]
    },
    {
     "name": "stderr",
     "output_type": "stream",
     "text": [
      " 80%|████████  | 49/61 [00:23<00:05,  2.08it/s]"
     ]
    },
    {
     "name": "stdout",
     "output_type": "stream",
     "text": [
      "Deleting image for buoy 46053 because it is nighttime.\n"
     ]
    },
    {
     "name": "stderr",
     "output_type": "stream",
     "text": [
      " 82%|████████▏ | 50/61 [00:23<00:05,  2.14it/s]"
     ]
    },
    {
     "name": "stdout",
     "output_type": "stream",
     "text": [
      "Deleting image for buoy 46047 because it is nighttime.\n"
     ]
    },
    {
     "name": "stderr",
     "output_type": "stream",
     "text": [
      " 84%|████████▎ | 51/61 [00:24<00:04,  2.18it/s]"
     ]
    },
    {
     "name": "stdout",
     "output_type": "stream",
     "text": [
      "Deleting image for buoy 46084 because it is nighttime.\n"
     ]
    },
    {
     "name": "stderr",
     "output_type": "stream",
     "text": [
      " 87%|████████▋ | 53/61 [00:24<00:03,  2.27it/s]"
     ]
    },
    {
     "name": "stdout",
     "output_type": "stream",
     "text": [
      "Deleting image for buoy 45003 because it is nighttime.\n"
     ]
    },
    {
     "name": "stderr",
     "output_type": "stream",
     "text": [
      " 89%|████████▊ | 54/61 [00:25<00:03,  2.18it/s]"
     ]
    },
    {
     "name": "stdout",
     "output_type": "stream",
     "text": [
      "Deleting image for buoy 45007 because it is nighttime.\n"
     ]
    },
    {
     "name": "stderr",
     "output_type": "stream",
     "text": [
      " 90%|█████████ | 55/61 [00:25<00:02,  2.23it/s]"
     ]
    },
    {
     "name": "stdout",
     "output_type": "stream",
     "text": [
      "Deleting image for buoy 46042 because it is nighttime.\n"
     ]
    },
    {
     "name": "stderr",
     "output_type": "stream",
     "text": [
      " 92%|█████████▏| 56/61 [00:26<00:02,  2.27it/s]"
     ]
    },
    {
     "name": "stdout",
     "output_type": "stream",
     "text": [
      "Deleting image for buoy 45012 because it is nighttime.\n"
     ]
    },
    {
     "name": "stderr",
     "output_type": "stream",
     "text": [
      " 93%|█████████▎| 57/61 [00:26<00:01,  2.31it/s]"
     ]
    },
    {
     "name": "stdout",
     "output_type": "stream",
     "text": [
      "Deleting image for buoy 42019 because it is nighttime.\n"
     ]
    },
    {
     "name": "stderr",
     "output_type": "stream",
     "text": [
      " 95%|█████████▌| 58/61 [00:27<00:01,  2.31it/s]"
     ]
    },
    {
     "name": "stdout",
     "output_type": "stream",
     "text": [
      "Deleting image for buoy 46069 because it is nighttime.\n"
     ]
    },
    {
     "name": "stderr",
     "output_type": "stream",
     "text": [
      " 98%|█████████▊| 60/61 [00:27<00:00,  2.36it/s]"
     ]
    },
    {
     "name": "stdout",
     "output_type": "stream",
     "text": [
      "Deleting image for buoy 41049 because it is nighttime.\n"
     ]
    },
    {
     "name": "stderr",
     "output_type": "stream",
     "text": [
      "100%|██████████| 61/61 [00:28<00:00,  2.15it/s]\n"
     ]
    },
    {
     "name": "stdout",
     "output_type": "stream",
     "text": [
      "Deleting image for buoy 45005 because it is nighttime.\n",
      "DifPy preparing files: [6/6] [100%]\n",
      "DifPy comparing images: [5/5] [100%]\n",
      "Found 0 images with one or more duplicate/similar images in 0.0352 seconds.\n"
     ]
    },
    {
     "name": "stderr",
     "output_type": "stream",
     "text": [
      "100%|██████████| 62/62 [00:00<00:00, 27480.38it/s]\n"
     ]
    },
    {
     "name": "stdout",
     "output_type": "stream",
     "text": [
      "Waiting for the remainder of the 15 minutes...\n"
     ]
    },
    {
     "name": "stderr",
     "output_type": "stream",
     "text": [
      " 56%|█████▌    | 40/72 [00:40<00:32,  1.00s/it]"
     ]
    }
   ],
   "source": [
    "# download the images\n",
    "# until the current time is 10 pm Central Standard Time (CST) Keep downloading images from the cameras every 10 minutes\n",
    "iteration_counter = 0\n",
    "# while datetime.datetime.now().hour < 22:\n",
    "while True:\n",
    "    # turn on at 4 am CST and turn off at 11 pm CST\n",
    "    if datetime.datetime.now().hour < 4 or datetime.datetime.now().hour > 22:\n",
    "        # wait to turn on until 4 am CST\n",
    "        continue\n",
    "    start_time = datetime.datetime.now() # use this to calculate the next time to download images (every ten minutes)\n",
    "    print('I can still see things! Downloading images...')\n",
    "    for cam_url in tqdm(cam_urls): #note: temporarily limiting to 5 cameras\n",
    "        # get the buoy id from the camera url\n",
    "        buoy_id = re.search('station=(.*)', cam_url).group(1)\n",
    "        # get the current time\n",
    "        now = datetime.datetime.now()\n",
    "        # create a directory for the buoy id if it doesn't already exist\n",
    "        if not os.path.exists('images/buoys/{}'.format(buoy_id)):\n",
    "            os.makedirs('images/buoys/{}'.format(buoy_id))\n",
    "        # get the image\n",
    "        if 'images/buoys/{}/{}_{}_{}_{}_{}.jpg'.format(buoy_id, now.year, now.month, now.day, now.hour, now.minute) not in os.listdir('images/buoys/{}'.format(buoy_id)): # if the image has not already been downloaded\n",
    "            time.sleep(0.25) # wait 0.25 seconds to avoid getting blocked by the server\n",
    "            img = requests.get(cam_url) # get the image\n",
    "            # save the image\n",
    "            with open('images/buoys/{}/{}_{}_{}_{}_{}.jpg'.format(buoy_id, now.year, now.month, now.day, now.hour, now.minute), 'wb+') as f:\n",
    "                f.write(img.content) # write the image to the file\n",
    "            # check if the image is daytime or nighttime\n",
    "            if not is_it_daytime('images/buoys/{}/{}_{}_{}_{}_{}.jpg'.format(buoy_id, now.year, now.month, now.day, now.hour, now.minute)): # if it is nighttime\n",
    "                # then we will delete the image\n",
    "                print(f'Deleting image for buoy {buoy_id} because it is nighttime.')\n",
    "                os.remove('images/buoys/{}/{}_{}_{}_{}_{}.jpg'.format(buoy_id, now.year, now.month, now.day, now.hour, now.minute))\n",
    "        else:\n",
    "            pass # if the image already exists, don't download it again\n",
    "\n",
    "    # Remove duplicate images before paneling\n",
    "    for folder in os.listdir('images/buoys'):\n",
    "        if folder == '.DS_Store':\n",
    "            continue\n",
    "    # get the list of images in the folder\n",
    "    # sort the images by date\n",
    "    # make folder_path variable from relative path\n",
    "    folder_path = 'images/buoys/{}'.format(folder)\n",
    "    search = dif(folder_path, similarity='high', show_output=False, show_progress=True, silent_del=True, delete=True)\n",
    "\n",
    "    # Save the panels to the images/panels directory\n",
    "    list_of_buoys = os.listdir('images/buoys') # get the list of buoy ids by their directory names\n",
    "    for buoy_id in tqdm(list_of_buoys):\n",
    "        # get the list of images for the buoy\n",
    "        if buoy_id != '.DS_Store':\n",
    "            images = os.listdir('images/buoys/{}'.format(buoy_id))\n",
    "            # if the image has not already been used to create panels, create the panels and save them to the images/panels directory\n",
    "            for image in images:\n",
    "                # if the image is not None\n",
    "                if image == '.DS_Store' or image != 'None':\n",
    "                    continue\n",
    "                # If the panels directory for the buoy doesn't exist, create it.\n",
    "                if not os.path.exists('images/panels/{}'.format(buoy_id)):\n",
    "                    os.makedirs('images/panels/{}'.format(buoy_id))\n",
    "                if 'images/buoys/{}/{}'.format(buoy_id, image) in os.listdir('images/panels/{}'.format(buoy_id)):\n",
    "                    print('This image has already been used to create panels.')\n",
    "                    continue\n",
    "                if image == '.DS_Store' and buoy_id != '.DS_Store':\n",
    "                    continue # skip the .DS_Store file\n",
    "                #print('Processing image: {}'.format(image))\n",
    "\n",
    "                # get the panels\n",
    "                panel_1, panel_2, panel_3, panel_4, panel_5, panel_6 = divide_into_panels(buoy_id, 'images/buoys/{}/{}'.format(buoy_id, image))\n",
    "                # save the panels to the images/panels directory\n",
    "\n",
    "    \n",
    "    # Stage 4: save buoy_update_rates_dict to a csv file\n",
    "    buoy_update_rates_dict_df = pd.DataFrame.from_dict(buoy_update_rates_dict, orient='index')\n",
    "    buoy_update_rates_dict_df.to_csv('data/buoy_update_rates_dict.csv')\n",
    "\n",
    "    # Stage 5: Remove any duplicate images in the images/buoys directory with DifPy\n",
    "\n",
    "\n",
    "\n",
    "    # how much time has passed since the start of the loop?\n",
    "    time_elapsed = datetime.datetime.now() - start_time\n",
    "    # wait until the time elapsed is 15 minutes from the start of the loop\n",
    "    print(\"Waiting for the remainder of the 15 minutes...\")\n",
    "    wait_period = 100 # was 900 (15 minutes)\n",
    "    for i in tqdm(range(wait_period - time_elapsed.seconds)):\n",
    "        time.sleep(1)\n",
    "    iteration_counter += 1"
   ]
  },
  {
   "cell_type": "markdown",
   "metadata": {},
   "source": [
    "This is designed to run continuously until we have a large enough dataset to train a model. We will use the time library to set the interval between downloads."
   ]
  },
  {
   "cell_type": "markdown",
   "metadata": {},
   "source": [
    "# Text Recognition Pipeline for NOAA Buoy Camera Images"
   ]
  },
  {
   "cell_type": "code",
   "execution_count": null,
   "metadata": {},
   "outputs": [],
   "source": [
    "\n"
   ]
  },
  {
   "cell_type": "code",
   "execution_count": null,
   "metadata": {},
   "outputs": [],
   "source": [
    "path = 'images/panels/46066/2022_11_5_15_45/2022_11_5_15_45_panel_1.png'\n",
    "print(is_it_daytime(path))"
   ]
  }
 ],
 "metadata": {
  "kernelspec": {
   "display_name": "Python 3.9.6 ('base')",
   "language": "python",
   "name": "python3"
  },
  "language_info": {
   "codemirror_mode": {
    "name": "ipython",
    "version": 3
   },
   "file_extension": ".py",
   "mimetype": "text/x-python",
   "name": "python",
   "nbconvert_exporter": "python",
   "pygments_lexer": "ipython3",
   "version": "3.9.6"
  },
  "orig_nbformat": 4,
  "vscode": {
   "interpreter": {
    "hash": "6e8cf12211551e1ecfb7b84827bd23b348fb076393a508e20e995a8149682546"
   }
  }
 },
 "nbformat": 4,
 "nbformat_minor": 2
}
