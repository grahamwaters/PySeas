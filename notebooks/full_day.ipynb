{
 "cells": [
  {
   "cell_type": "code",
   "execution_count": 48,
   "metadata": {},
   "outputs": [
    {
     "name": "stdout",
     "output_type": "stream",
     "text": [
      "Requirement already satisfied: icecream in /Users/grahamwaters/opt/anaconda3/envs/EmersonWriter/envs/pyseas_env/lib/python3.9/site-packages (2.1.3)\n",
      "Requirement already satisfied: pygments>=2.2.0 in /Users/grahamwaters/opt/anaconda3/envs/EmersonWriter/envs/pyseas_env/lib/python3.9/site-packages (from icecream) (2.13.0)\n",
      "Requirement already satisfied: colorama>=0.3.9 in /Users/grahamwaters/opt/anaconda3/envs/EmersonWriter/envs/pyseas_env/lib/python3.9/site-packages (from icecream) (0.4.6)\n",
      "Requirement already satisfied: asttokens>=2.0.1 in /Users/grahamwaters/opt/anaconda3/envs/EmersonWriter/envs/pyseas_env/lib/python3.9/site-packages (from icecream) (2.1.0)\n",
      "Requirement already satisfied: executing>=0.3.1 in /Users/grahamwaters/opt/anaconda3/envs/EmersonWriter/envs/pyseas_env/lib/python3.9/site-packages (from icecream) (1.2.0)\n",
      "Requirement already satisfied: six in /Users/grahamwaters/opt/anaconda3/envs/EmersonWriter/envs/pyseas_env/lib/python3.9/site-packages (from asttokens>=2.0.1->icecream) (1.16.0)\n"
     ]
    }
   ],
   "source": [
    "!pip3 install icecream;"
   ]
  },
  {
   "cell_type": "code",
   "execution_count": 49,
   "metadata": {},
   "outputs": [],
   "source": [
    "import pandas as pd\n",
    "import numpy as np\n",
    "import matplotlib.pyplot as plt\n",
    "import os\n",
    "import icecream\n",
    "from icecream import ic\n",
    "# import Image from PIL\n",
    "from PIL import Image"
   ]
  },
  {
   "cell_type": "code",
   "execution_count": 53,
   "metadata": {},
   "outputs": [],
   "source": [
    "def generate_one_full_day(buoy_id, day_number, month_number, year_number):\n",
    "    # concatenate one image for each hour of the day and save it as a new image called 'full_day.png'\n",
    "    \n",
    "    \n",
    "    if type(buoy_id) != str:\n",
    "        buoy_id = str(buoy_id)\n",
    "    if type(day_number) != str:\n",
    "        day_number = str(day_number)\n",
    "    if type(month_number) != str:   \n",
    "        month_number = str(month_number)\n",
    "    if type(year_number) != str:    \n",
    "        year_number = str(year_number)\n",
    "    # get the images from the buoy_id folder and sort them\n",
    "    buoy_path = '../images/buoys/' + buoy_id\n",
    "    images = os.listdir(buoy_path)\n",
    "    ic()\n",
    "    images.sort()\n",
    "\n",
    "    # if full_day_day_month_year.png already exists, delete it and create a new one\n",
    "    if os.path.exists(f'{buoy_path}/full_day_{day_number}_{month_number}_{year_number}.png'):\n",
    "        os.remove(f'{buoy_path}/full_day_{day_number}_{month_number}_{year_number}.png')\n",
    "    \n",
    "\n",
    "    # the names of the images are in the format: '2019-01-01_00.png'\n",
    "    # images/buoys/41004/2022_11_5_15_44.jpg\n",
    "    # where the day is the 3rd element in the list\n",
    "    # and the hour is the 4th element in the list\n",
    "    # so we can use a list comprehension to get the images for each hour of the day if we sort the images first.\n",
    "    # go through the folder and add the filenames to the list if the day is the same as the day_number\n",
    "    # and the month is the same as the month_number\n",
    "    # and the year is the same as the year_number\n",
    "    print(f'found {len(images)} images')\n",
    "    # drop .DS_Store from the list\n",
    "    images = [image for image in images if image != '.DS_Store']\n",
    "    \n",
    "    print(f' example: {images[0]}')\n",
    "    # get the images for the day\n",
    "    images_for_day = [image for image in images if image.split('_')[2] == str(day_number) and image.split('_')[1] == str(month_number) and image.split('_')[0] == str(year_number)]\n",
    "    ic()\n",
    "    # get the images for the day and sort them\n",
    "    images_for_day.sort()\n",
    "    # get one image for each hour of the day\n",
    "    images_for_day = [image for image in images_for_day if image.split('_')[3] == '00' or image.split('_')[3] == '01' or image.split('_')[3] == '02' or image.split('_')[3] == '03' or image.split('_')[3] == '04' or image.split('_')[3] == '05' or image.split('_')[3] == '06' or image.split('_')[3] == '07' or image.split('_')[3] == '08' or image.split('_')[3] == '09' or image.split('_')[3] == '10' or image.split('_')[3] == '11' or image.split('_')[3] == '12' or image.split('_')[3] == '13' or image.split('_')[3] == '14' or image.split('_')[3] == '15' or image.split('_')[3] == '16' or image.split('_')[3] == '17' or image.split('_')[3] == '18' or image.split('_')[3] == '19' or image.split('_')[3] == '20' or image.split('_')[3] == '21' or image.split('_')[3] == '22' or image.split('_')[3] == '23']\n",
    "    # get the images for the day and sort them\n",
    "    images_for_day.sort()\n",
    "    ic()\n",
    "    # add the images one after the other by concatenating them vertically and save the result as a new image called 'full_day.png' in the buoy_id folder\n",
    "    # get the first image\n",
    "    first_image = images_for_day[0]\n",
    "    ic()\n",
    "    # open the first image\n",
    "    first_image = Image.open(buoy_path + '/' + first_image)\n",
    "    # get the width and height of the first image\n",
    "    \n",
    "    # crop the bottom 20 pixels of the first image\n",
    "    # first_image = first_image.crop((0, 0, first_image.width, first_image.height - 20))\n",
    "    # get the width and height of the first image\n",
    "    width, height = first_image.size\n",
    "    ic()\n",
    "    # create a new image with the same width as the first image and the height of the first image multiplied by the number of images\n",
    "    new_image = Image.new('RGB', (width, height*len(images_for_day)))\n",
    "    # paste the first image in the new image\n",
    "    new_image.paste(first_image, (0, 0))\n",
    "    # go through the rest of the images and add them to the bottom of the new image one after the other\n",
    "    for i in range(1, len(images_for_day)):\n",
    "        ic()\n",
    "        # get the image\n",
    "        image = images_for_day[i]\n",
    "        # open the image\n",
    "        image = Image.open(buoy_path + '/' + image)\n",
    "        # crop the bottom 20 pixels of the image\n",
    "        # image = image.crop((0, 0, image.width, image.height - 20))\n",
    "        # paste the image in the new image\n",
    "        new_image.paste(image, (0, height*i))\n",
    "    # save the new image\n",
    "    new_image.save(buoy_path + '/full_day.png')"
   ]
  },
  {
   "cell_type": "code",
   "execution_count": 54,
   "metadata": {},
   "outputs": [
    {
     "name": "stderr",
     "output_type": "stream",
     "text": [
      "ic| 4060120119.py:14 in generate_one_full_day() at 18:19:57.295\n"
     ]
    },
    {
     "name": "stdout",
     "output_type": "stream",
     "text": [
      "found 159 images\n",
      " example: 2022_11_10_10_3.jpg\n"
     ]
    },
    {
     "ename": "IndexError",
     "evalue": "list index out of range",
     "output_type": "error",
     "traceback": [
      "\u001b[0;31m---------------------------------------------------------------------------\u001b[0m",
      "\u001b[0;31mIndexError\u001b[0m                                Traceback (most recent call last)",
      "Cell \u001b[0;32mIn [54], line 2\u001b[0m\n\u001b[1;32m      1\u001b[0m \u001b[38;5;66;03m# Test the function\u001b[39;00m\n\u001b[0;32m----> 2\u001b[0m \u001b[43mgenerate_one_full_day\u001b[49m\u001b[43m(\u001b[49m\u001b[38;5;124;43m'\u001b[39;49m\u001b[38;5;124;43m51101\u001b[39;49m\u001b[38;5;124;43m'\u001b[39;49m\u001b[43m,\u001b[49m\u001b[43m \u001b[49m\u001b[38;5;241;43m6\u001b[39;49m\u001b[43m,\u001b[49m\u001b[43m \u001b[49m\u001b[38;5;241;43m11\u001b[39;49m\u001b[43m,\u001b[49m\u001b[43m \u001b[49m\u001b[38;5;241;43m2022\u001b[39;49m\u001b[43m)\u001b[49m\n",
      "Cell \u001b[0;32mIn [53], line 30\u001b[0m, in \u001b[0;36mgenerate_one_full_day\u001b[0;34m(buoy_id, day_number, month_number, year_number)\u001b[0m\n\u001b[1;32m     28\u001b[0m \u001b[38;5;28mprint\u001b[39m(\u001b[38;5;124mf\u001b[39m\u001b[38;5;124m'\u001b[39m\u001b[38;5;124m example: \u001b[39m\u001b[38;5;132;01m{\u001b[39;00mimages[\u001b[38;5;241m0\u001b[39m]\u001b[38;5;132;01m}\u001b[39;00m\u001b[38;5;124m'\u001b[39m)\n\u001b[1;32m     29\u001b[0m \u001b[38;5;66;03m# get the images for the day\u001b[39;00m\n\u001b[0;32m---> 30\u001b[0m images_for_day \u001b[38;5;241m=\u001b[39m [image \u001b[38;5;28;01mfor\u001b[39;00m image \u001b[38;5;129;01min\u001b[39;00m images \u001b[38;5;28;01mif\u001b[39;00m image\u001b[38;5;241m.\u001b[39msplit(\u001b[38;5;124m'\u001b[39m\u001b[38;5;124m_\u001b[39m\u001b[38;5;124m'\u001b[39m)[\u001b[38;5;241m2\u001b[39m] \u001b[38;5;241m==\u001b[39m \u001b[38;5;28mstr\u001b[39m(day_number) \u001b[38;5;129;01mand\u001b[39;00m image\u001b[38;5;241m.\u001b[39msplit(\u001b[38;5;124m'\u001b[39m\u001b[38;5;124m_\u001b[39m\u001b[38;5;124m'\u001b[39m)[\u001b[38;5;241m1\u001b[39m] \u001b[38;5;241m==\u001b[39m \u001b[38;5;28mstr\u001b[39m(month_number) \u001b[38;5;129;01mand\u001b[39;00m image\u001b[38;5;241m.\u001b[39msplit(\u001b[38;5;124m'\u001b[39m\u001b[38;5;124m_\u001b[39m\u001b[38;5;124m'\u001b[39m)[\u001b[38;5;241m0\u001b[39m] \u001b[38;5;241m==\u001b[39m \u001b[38;5;28mstr\u001b[39m(year_number)]\n\u001b[1;32m     31\u001b[0m ic()\n\u001b[1;32m     32\u001b[0m \u001b[38;5;66;03m# get the images for the day and sort them\u001b[39;00m\n",
      "Cell \u001b[0;32mIn [53], line 30\u001b[0m, in \u001b[0;36m<listcomp>\u001b[0;34m(.0)\u001b[0m\n\u001b[1;32m     28\u001b[0m \u001b[38;5;28mprint\u001b[39m(\u001b[38;5;124mf\u001b[39m\u001b[38;5;124m'\u001b[39m\u001b[38;5;124m example: \u001b[39m\u001b[38;5;132;01m{\u001b[39;00mimages[\u001b[38;5;241m0\u001b[39m]\u001b[38;5;132;01m}\u001b[39;00m\u001b[38;5;124m'\u001b[39m)\n\u001b[1;32m     29\u001b[0m \u001b[38;5;66;03m# get the images for the day\u001b[39;00m\n\u001b[0;32m---> 30\u001b[0m images_for_day \u001b[38;5;241m=\u001b[39m [image \u001b[38;5;28;01mfor\u001b[39;00m image \u001b[38;5;129;01min\u001b[39;00m images \u001b[38;5;28;01mif\u001b[39;00m \u001b[43mimage\u001b[49m\u001b[38;5;241;43m.\u001b[39;49m\u001b[43msplit\u001b[49m\u001b[43m(\u001b[49m\u001b[38;5;124;43m'\u001b[39;49m\u001b[38;5;124;43m_\u001b[39;49m\u001b[38;5;124;43m'\u001b[39;49m\u001b[43m)\u001b[49m\u001b[43m[\u001b[49m\u001b[38;5;241;43m2\u001b[39;49m\u001b[43m]\u001b[49m \u001b[38;5;241m==\u001b[39m \u001b[38;5;28mstr\u001b[39m(day_number) \u001b[38;5;129;01mand\u001b[39;00m image\u001b[38;5;241m.\u001b[39msplit(\u001b[38;5;124m'\u001b[39m\u001b[38;5;124m_\u001b[39m\u001b[38;5;124m'\u001b[39m)[\u001b[38;5;241m1\u001b[39m] \u001b[38;5;241m==\u001b[39m \u001b[38;5;28mstr\u001b[39m(month_number) \u001b[38;5;129;01mand\u001b[39;00m image\u001b[38;5;241m.\u001b[39msplit(\u001b[38;5;124m'\u001b[39m\u001b[38;5;124m_\u001b[39m\u001b[38;5;124m'\u001b[39m)[\u001b[38;5;241m0\u001b[39m] \u001b[38;5;241m==\u001b[39m \u001b[38;5;28mstr\u001b[39m(year_number)]\n\u001b[1;32m     31\u001b[0m ic()\n\u001b[1;32m     32\u001b[0m \u001b[38;5;66;03m# get the images for the day and sort them\u001b[39;00m\n",
      "\u001b[0;31mIndexError\u001b[0m: list index out of range"
     ]
    }
   ],
   "source": [
    "# Test the function\n",
    "generate_one_full_day('51101', 6, 11, 2022)\n"
   ]
  }
 ],
 "metadata": {
  "kernelspec": {
   "display_name": "Python 3.9.6 ('pyseas_env')",
   "language": "python",
   "name": "python3"
  },
  "language_info": {
   "codemirror_mode": {
    "name": "ipython",
    "version": 3
   },
   "file_extension": ".py",
   "mimetype": "text/x-python",
   "name": "python",
   "nbconvert_exporter": "python",
   "pygments_lexer": "ipython3",
   "version": "3.9.6"
  },
  "orig_nbformat": 4,
  "vscode": {
   "interpreter": {
    "hash": "d626167f0daf48f1329c2d475d765434ba28299f98c9f4c92c2fe00e06e2119b"
   }
  }
 },
 "nbformat": 4,
 "nbformat_minor": 2
}
