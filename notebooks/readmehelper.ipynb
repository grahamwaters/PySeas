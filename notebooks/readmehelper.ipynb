{
 "cells": [
  {
   "cell_type": "code",
   "execution_count": 18,
   "metadata": {},
   "outputs": [],
   "source": [
    "import pandas as pd\n"
   ]
  },
  {
   "cell_type": "markdown",
   "metadata": {},
   "source": [
    "import the buoy list\n",
    "from data/buoy_list.csv"
   ]
  },
  {
   "cell_type": "code",
   "execution_count": 25,
   "metadata": {},
   "outputs": [
    {
     "name": "stdout",
     "output_type": "stream",
     "text": [
      "[42001, 46059, 41044, 46071, 42002, 46072, 46066, 41046, 46088, 44066]\n"
     ]
    }
   ],
   "source": [
    "buoy_list = pd.read_csv('../data/buoys.csv')\n",
    "# get the list of buoys\n",
    "buoy_list.columns\n",
    "# buoy_list = buoy_list['buoy_id'].tolist()\n",
    "# buoy_list.head()\n",
    "# drop Unnamed: 1 column\n",
    "buoy_list = buoy_list.drop(columns=['Unnamed: 1'])\n",
    "# get the list of buoys\n",
    "# define the column names\n",
    "buoy_list.columns = ['buoy_id']\n",
    "# get the list of buoys\n",
    "buoy_list = buoy_list['buoy_id'].tolist()\n",
    "print(buoy_list[0:10])"
   ]
  },
  {
   "cell_type": "code",
   "execution_count": 28,
   "metadata": {},
   "outputs": [
    {
     "data": {
      "text/html": [
       "<div>\n",
       "<style scoped>\n",
       "    .dataframe tbody tr th:only-of-type {\n",
       "        vertical-align: middle;\n",
       "    }\n",
       "\n",
       "    .dataframe tbody tr th {\n",
       "        vertical-align: top;\n",
       "    }\n",
       "\n",
       "    .dataframe thead th {\n",
       "        text-align: right;\n",
       "    }\n",
       "</style>\n",
       "<table border=\"1\" class=\"dataframe\">\n",
       "  <thead>\n",
       "    <tr style=\"text-align: right;\">\n",
       "      <th></th>\n",
       "      <th>buoy</th>\n",
       "      <th>lat</th>\n",
       "      <th>lon</th>\n",
       "    </tr>\n",
       "  </thead>\n",
       "  <tbody>\n",
       "    <tr>\n",
       "      <th>0</th>\n",
       "      <td>46072</td>\n",
       "      <td>51.666</td>\n",
       "      <td>-172.114</td>\n",
       "    </tr>\n",
       "    <tr>\n",
       "      <th>1</th>\n",
       "      <td>46088</td>\n",
       "      <td>48.332</td>\n",
       "      <td>-123.179</td>\n",
       "    </tr>\n",
       "    <tr>\n",
       "      <th>2</th>\n",
       "      <td>51000</td>\n",
       "      <td>23.528</td>\n",
       "      <td>-153.792</td>\n",
       "    </tr>\n",
       "    <tr>\n",
       "      <th>3</th>\n",
       "      <td>42020</td>\n",
       "      <td>26.968</td>\n",
       "      <td>-96.693</td>\n",
       "    </tr>\n",
       "    <tr>\n",
       "      <th>4</th>\n",
       "      <td>46028</td>\n",
       "      <td>35.770</td>\n",
       "      <td>-121.903</td>\n",
       "    </tr>\n",
       "  </tbody>\n",
       "</table>\n",
       "</div>"
      ],
      "text/plain": [
       "    buoy     lat       lon\n",
       "0  46072  51.666  -172.114\n",
       "1  46088  48.332  -123.179\n",
       "2  51000  23.528  -153.792\n",
       "3  42020  26.968   -96.693\n",
       "4  46028  35.770  -121.903"
      ]
     },
     "execution_count": 28,
     "metadata": {},
     "output_type": "execute_result"
    }
   ],
   "source": [
    "buoy_locs = pd.read_csv(\"../data/buoy_id_to_lat_lon.csv\")\n",
    "# add header to buoy_locs\n",
    "buoy_locs.columns = ['buoy', 'coords']\n",
    "\n",
    "# merge the two dataframes\n",
    "# the coords is a list of two numbers, the lat and lon\n",
    "# split the coords into two columns and add them to the buoy_locs dataframe\n",
    "# buoy_locs[['lat', 'lon']] = pd.DataFrame(buoy_locs.coords.tolist(), index=buoy_locs.index)\n",
    "# buoy_locs = buoy_locs.drop(columns=['coords'])\n",
    "# get the numbers\n",
    "# buoy_locs.head()\n",
    "import re\n",
    "buoy_locs.head()\n",
    "# for every row use regex to split the coords into two columns and add them to the buoy_locs dataframe\n",
    "for index, row in buoy_locs.iterrows():\n",
    "    # print(row['coords'])\n",
    "    lat = re.findall(r\"[-+]?\\d*\\.\\d+|\\d+\", row['coords'])[0]\n",
    "    lon = re.findall(r\"[-+]?\\d*\\.\\d+|\\d+\", row['coords'])[1]\n",
    "    buoy_locs.at[index, 'lat'] = lat\n",
    "    buoy_locs.at[index, 'lon'] = lon\n",
    "# drop the coords column\n",
    "buoy_locs = buoy_locs.drop(columns=['coords'])\n",
    "# get the numbers\n",
    "buoy_locs.head()"
   ]
  },
  {
   "cell_type": "code",
   "execution_count": 29,
   "metadata": {},
   "outputs": [
    {
     "data": {
      "text/html": [
       "<div>\n",
       "<style scoped>\n",
       "    .dataframe tbody tr th:only-of-type {\n",
       "        vertical-align: middle;\n",
       "    }\n",
       "\n",
       "    .dataframe tbody tr th {\n",
       "        vertical-align: top;\n",
       "    }\n",
       "\n",
       "    .dataframe thead th {\n",
       "        text-align: right;\n",
       "    }\n",
       "</style>\n",
       "<table border=\"1\" class=\"dataframe\">\n",
       "  <thead>\n",
       "    <tr style=\"text-align: right;\">\n",
       "      <th></th>\n",
       "      <th>Time</th>\n",
       "      <th>Buoy ID</th>\n",
       "      <th>Time.1</th>\n",
       "    </tr>\n",
       "  </thead>\n",
       "  <tbody>\n",
       "    <tr>\n",
       "      <th>0</th>\n",
       "      <td>2310</td>\n",
       "      <td>42002</td>\n",
       "      <td>11:10:10 PM</td>\n",
       "    </tr>\n",
       "    <tr>\n",
       "      <th>1</th>\n",
       "      <td>2210</td>\n",
       "      <td>42059</td>\n",
       "      <td>10:10:10 PM</td>\n",
       "    </tr>\n",
       "    <tr>\n",
       "      <th>2</th>\n",
       "      <td>2210</td>\n",
       "      <td>44007</td>\n",
       "      <td>10:10:10 PM</td>\n",
       "    </tr>\n",
       "    <tr>\n",
       "      <th>3</th>\n",
       "      <td>2210</td>\n",
       "      <td>44007</td>\n",
       "      <td>10:10:10 PM</td>\n",
       "    </tr>\n",
       "    <tr>\n",
       "      <th>4</th>\n",
       "      <td>2210</td>\n",
       "      <td>44013</td>\n",
       "      <td>10:10:10 PM</td>\n",
       "    </tr>\n",
       "  </tbody>\n",
       "</table>\n",
       "</div>"
      ],
      "text/plain": [
       "   Time  Buoy ID       Time.1\n",
       "0  2310    42002  11:10:10 PM\n",
       "1  2210    42059  10:10:10 PM\n",
       "2  2210    44007  10:10:10 PM\n",
       "3  2210    44007  10:10:10 PM\n",
       "4  2210    44013  10:10:10 PM"
      ]
     },
     "execution_count": 29,
     "metadata": {},
     "output_type": "execute_result"
    }
   ],
   "source": [
    "# load up the optimal buoy locations from optimal_shot_times.csv\n",
    "optimal_buoy_locs = pd.read_csv(\"../data/optimal_shot_times.csv\")\n",
    "# add header to optimal_buoy_locs\n",
    "optimal_buoy_locs.head()\n",
    "# column Time is in UTC time\n",
    "\n"
   ]
  },
  {
   "cell_type": "code",
   "execution_count": 31,
   "metadata": {},
   "outputs": [],
   "source": [
    "# Create a list of phrases for the main page to display on the ticker\n",
    "phrase_partone = 'Looking at Buoy {}'.format(buoy_list[index]) # where index is a random id from the list of buoys\n",
    "phrase_parttwo = 'The optimal time to shoot is {}'.format(optimal_buoy_locs['Time'][index]) # where index is a random id from the list of buoys\n",
    "phrase_partthree = 'The optimal time to shoot is {}'.format(optimal_buoy_locs['Time'][index]) # where index is a random id from the list of buoys\n",
    "import random\n",
    "phrases = [] # create an empty list\n",
    "# populate the list with 100 random phrases\n",
    "for i in range(100):\n",
    "    index = random.randint(0, len(buoy_list)-1)\n",
    "    phrase_partone = 'Looking at Buoy {}'.format(buoy_list[index]) # where index is a random id from the list of buoys\n",
    "    phrase_parttwo = 'watch {} at {}'.format(index,optimal_buoy_locs['Time'][index]) # where index is a random id from the list of buoys\n",
    "    phrase_partthree = 'sunset for {} is {}'.format(index,optimal_buoy_locs['Time'][index]) # where index is a random id from the list of buoys\n",
    "    # randomly choose one of the three phrases to add to the list\n",
    "    phrase = random.choice([phrase_partone, phrase_parttwo, phrase_partthree])\n",
    "    # replace all spaces with \"+\" and end all the phrases with a';'\n",
    "    phrase = phrase.replace(\" \", \"+\") + \";\"\n",
    "    phrases.append(phrase)\n",
    "\n",
    "\n",
    "# replace all spaces with \"+\" and end all the phrases with a';'\n",
    "# save the phrases to a file 'ticker_phrases.txt'\n",
    "\n",
    "master_phrase = \"\"\n",
    "for phrase in phrases:\n",
    "    master_phrase += phrase\n",
    "\n",
    "\n",
    "# save master_phrase to a file 'ticker_phrases.txt'\n",
    "with open('../data/ticker_phrases.txt', 'w') as f:\n",
    "    f.write(master_phrase)\n",
    "\n",
    "\n"
   ]
  }
 ],
 "metadata": {
  "kernelspec": {
   "display_name": "Python 3.9.6 ('pyseas_env')",
   "language": "python",
   "name": "python3"
  },
  "language_info": {
   "codemirror_mode": {
    "name": "ipython",
    "version": 3
   },
   "file_extension": ".py",
   "mimetype": "text/x-python",
   "name": "python",
   "nbconvert_exporter": "python",
   "pygments_lexer": "ipython3",
   "version": "3.9.6"
  },
  "orig_nbformat": 4,
  "vscode": {
   "interpreter": {
    "hash": "d626167f0daf48f1329c2d475d765434ba28299f98c9f4c92c2fe00e06e2119b"
   }
  }
 },
 "nbformat": 4,
 "nbformat_minor": 2
}
