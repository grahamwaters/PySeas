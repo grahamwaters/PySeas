{
 "cells": [
  {
   "cell_type": "code",
   "execution_count": null,
   "metadata": {},
   "outputs": [],
   "source": [
    "# import required modules\n",
    "import datetime\n",
    "from suntime import Sun\n",
    "from geopy.geocoders import Nominatim\n",
    " \n",
    "# Nominatim API to get latitude and longitude\n",
    "geolocator = Nominatim(user_agent=\"geoapiExercises\")\n",
    " \n",
    "# input place\n",
    "place = \"delhi\"\n",
    "location = geolocator.geocode(place)\n",
    " \n",
    "# latitude and longitude fetch\n",
    "latitude = location.latitude\n",
    "longitude = location.longitude\n",
    "sun = Sun(latitude, longitude)\n",
    " \n",
    "# date in your machine's local time zone\n",
    "time_zone = datetime.date(2020, 9,13)\n",
    "sun_rise = sun.get_local_sunrise_time(time_zone)\n",
    "sun_dusk = sun.get_local_sunset_time(time_zone)\n",
    " \n",
    "# display\n",
    "print(\"Sun rise at : \", sun_rise.strftime('%H:%M'))\n",
    "print(\"Dusk at : \",sun_dusk.strftime('%H:%M'))"
   ]
  }
 ],
 "metadata": {
  "language_info": {
   "name": "python"
  },
  "orig_nbformat": 4
 },
 "nbformat": 4,
 "nbformat_minor": 2
}
