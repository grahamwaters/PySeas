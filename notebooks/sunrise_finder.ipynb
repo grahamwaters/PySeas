{
 "cells": [
  {
   "cell_type": "code",
   "execution_count": 1,
   "metadata": {},
   "outputs": [
    {
     "ename": "ModuleNotFoundError",
     "evalue": "No module named 'suntime'",
     "output_type": "error",
     "traceback": [
      "\u001b[0;31m---------------------------------------------------------------------------\u001b[0m",
      "\u001b[0;31mModuleNotFoundError\u001b[0m                       Traceback (most recent call last)",
      "Cell \u001b[0;32mIn[1], line 3\u001b[0m\n\u001b[1;32m      1\u001b[0m \u001b[39m# import required modules\u001b[39;00m\n\u001b[1;32m      2\u001b[0m \u001b[39mimport\u001b[39;00m \u001b[39mdatetime\u001b[39;00m\n\u001b[0;32m----> 3\u001b[0m \u001b[39mfrom\u001b[39;00m \u001b[39msuntime\u001b[39;00m \u001b[39mimport\u001b[39;00m Sun\n\u001b[1;32m      4\u001b[0m \u001b[39mfrom\u001b[39;00m \u001b[39mgeopy\u001b[39;00m\u001b[39m.\u001b[39;00m\u001b[39mgeocoders\u001b[39;00m \u001b[39mimport\u001b[39;00m Nominatim\n\u001b[1;32m      6\u001b[0m \u001b[39m# Nominatim API to get latitude and longitude\u001b[39;00m\n",
      "\u001b[0;31mModuleNotFoundError\u001b[0m: No module named 'suntime'"
     ]
    }
   ],
   "source": [
    "# import required modules\n",
    "import datetime\n",
    "from suntime import Sun\n",
    "from geopy.geocoders import Nominatim\n",
    " \n",
    "# Nominatim API to get latitude and longitude\n",
    "geolocator = Nominatim(user_agent=\"geoapiExercises\")\n",
    " \n",
    "# input place\n",
    "place = \"delhi\"\n",
    "location = geolocator.geocode(place)\n",
    " \n",
    "# latitude and longitude fetch\n",
    "latitude = location.latitude\n",
    "longitude = location.longitude\n",
    "sun = Sun(latitude, longitude)\n",
    " \n",
    "# date in your machine's local time zone\n",
    "time_zone = datetime.date(2020, 9,13)\n",
    "sun_rise = sun.get_local_sunrise_time(time_zone)\n",
    "sun_dusk = sun.get_local_sunset_time(time_zone)\n",
    " \n",
    "# display\n",
    "print(\"Sun rise at : \", sun_rise.strftime('%H:%M'))\n",
    "print(\"Dusk at : \",sun_dusk.strftime('%H:%M'))"
   ]
  }
 ],
 "metadata": {
  "kernelspec": {
   "display_name": "Python 3",
   "language": "python",
   "name": "python3"
  },
  "language_info": {
   "codemirror_mode": {
    "name": "ipython",
    "version": 3
   },
   "file_extension": ".py",
   "mimetype": "text/x-python",
   "name": "python",
   "nbconvert_exporter": "python",
   "pygments_lexer": "ipython3",
   "version": "3.9.16"
  },
  "orig_nbformat": 4
 },
 "nbformat": 4,
 "nbformat_minor": 2
}
