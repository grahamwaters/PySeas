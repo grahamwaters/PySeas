{
 "cells": [
  {
   "cell_type": "code",
   "execution_count": 1,
   "metadata": {},
   "outputs": [
    {
     "ename": "ModuleNotFoundError",
     "evalue": "No module named 'tensorflow'",
     "output_type": "error",
     "traceback": [
      "\u001b[0;31m---------------------------------------------------------------------------\u001b[0m",
      "\u001b[0;31mModuleNotFoundError\u001b[0m                       Traceback (most recent call last)",
      "Cell \u001b[0;32mIn[1], line 13\u001b[0m\n\u001b[1;32m     11\u001b[0m \u001b[39mimport\u001b[39;00m \u001b[39mrandom\u001b[39;00m\n\u001b[1;32m     12\u001b[0m \u001b[39mimport\u001b[39;00m \u001b[39mpickle\u001b[39;00m\n\u001b[0;32m---> 13\u001b[0m \u001b[39mimport\u001b[39;00m \u001b[39mtensorflow\u001b[39;00m \u001b[39mas\u001b[39;00m \u001b[39mtf\u001b[39;00m\n\u001b[1;32m     14\u001b[0m \u001b[39m# from tensorflow.keras.models import load_model\u001b[39;00m\n\u001b[1;32m     15\u001b[0m \u001b[39m# import keras as keras\u001b[39;00m\n\u001b[1;32m     16\u001b[0m \u001b[39mfrom\u001b[39;00m \u001b[39mkeras\u001b[39;00m\u001b[39m.\u001b[39;00m\u001b[39mmodels\u001b[39;00m \u001b[39mimport\u001b[39;00m load_model\n",
      "\u001b[0;31mModuleNotFoundError\u001b[0m: No module named 'tensorflow'"
     ]
    }
   ],
   "source": [
    "# Goal:\n",
    "# Using the pretrained Keras Model in models/converted_keras/keras_model.h5\n",
    "# to predict the class of the image as it is saved in the panels folders\n",
    "\n",
    "# Importing the libraries\n",
    "import numpy as np\n",
    "import matplotlib.pyplot as plt\n",
    "import pandas as pd\n",
    "import os\n",
    "import cv2\n",
    "import random\n",
    "import pickle\n",
    "import tensorflow as tf\n",
    "# from tensorflow.keras.models import load_model\n",
    "# import keras as keras\n",
    "from keras.models import load_model\n"
   ]
  },
  {
   "cell_type": "code",
   "execution_count": null,
   "metadata": {},
   "outputs": [],
   "source": [
    "\n",
    "\n",
    "# Loading the model\n",
    "model = load_model('models/converted_keras/keras_model.h5')\n",
    "\n",
    "# Loading the image\n",
    "image_path = 'images/panels/41001/2022_11_5_19_27.jpg_panel_1.jpg'\n",
    "img = cv2.imread(image_path) # Reading the image\n",
    "img = cv2.cvtColor(img, cv2.COLOR_BGR2RGB) # Converting the image to RGB\n",
    "img = cv2.resize(img, (224, 224)) # Resizing the image\n",
    "img = img / 255 # Normalizing the image\n",
    "img = np.array(img).reshape(-1, 224, 224, 3) # Reshaping the image\n",
    "plt.imshow(img)\n",
    "plt.show()\n"
   ]
  }
 ],
 "metadata": {
  "kernelspec": {
   "display_name": "Python 3.10.2",
   "language": "python",
   "name": "python3"
  },
  "language_info": {
   "codemirror_mode": {
    "name": "ipython",
    "version": 3
   },
   "file_extension": ".py",
   "mimetype": "text/x-python",
   "name": "python",
   "nbconvert_exporter": "python",
   "pygments_lexer": "ipython3",
   "version": "3.9.16"
  },
  "orig_nbformat": 4,
  "vscode": {
   "interpreter": {
    "hash": "49fdada105cad585dd59615e994a6138dc35f4050eac7068c005fb08fff905c3"
   }
  }
 },
 "nbformat": 4,
 "nbformat_minor": 2
}
