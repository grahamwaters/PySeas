{
 "cells": [
  {
   "cell_type": "code",
   "execution_count": 23,
   "metadata": {},
   "outputs": [
    {
     "name": "stdout",
     "output_type": "stream",
     "text": [
      "   Time  Buoy ID       Time.1\n",
      "0  2310    42002  11:10:10 PM\n",
      "1  2210    42059  10:10:10 PM\n",
      "2  2210    44007  10:10:10 PM\n",
      "3  2210    44007  10:10:10 PM\n",
      "4  2210    44013  10:10:10 PM\n"
     ]
    }
   ],
   "source": [
    "import pandas as pd\n",
    "\n",
    "# read data/optimal_shot_times.csv\n",
    "df = pd.read_csv('data/optimal_shot_times.csv')\n",
    "# print the first 5 rows\n",
    "print(df.head())"
   ]
  },
  {
   "cell_type": "markdown",
   "metadata": {},
   "source": [
    "Goal: make a function that returns a list of buoy ids from df where:\n",
    " - current time is within 1 hour of the buoy's time\n"
   ]
  },
  {
   "cell_type": "code",
   "execution_count": 24,
   "metadata": {},
   "outputs": [],
   "source": [
    "def shot_time_finder(df):\n",
    "    # return all the buoy ids that have a shot time less than the current time in UTC format\n",
    "    current_time = pd.to_datetime('now').tz_localize('UTC')\n",
    "    # rename Time to shot_time\n",
    "    if 'Time' in df.columns:\n",
    "        df.rename(columns={'Time': 'shot_time'}, inplace=True)\n",
    "    if \"Buoy ID\" in df.columns:\n",
    "        df = df.rename(columns={'Buoy ID': 'buoy_id'})\n",
    "    # cast the shot time column to a tz aware datetime object\n",
    "    df['shot_time'] = pd.to_datetime(df['shot_time']).dt.tz_localize('UTC')\n",
    "    # return the buoy ids that have a shot time less than the current time in UTC format AND are within the last hour and a half (1.5 hours) of the current time. \n",
    "    print(f'Comparing {len(df)} buoy ids to the current time: {current_time} UTC')\n",
    "    # print the buoy that is closest to the current time\n",
    "    closest = df.iloc[(df['shot_time'] - current_time).abs().argsort()[:1]]\n",
    "    return df[df['shot_time'] < current_time][df['shot_time'] > current_time - pd.Timedelta('1.5 hours')]['buoy_id'].values"
   ]
  },
  {
   "cell_type": "code",
   "execution_count": 25,
   "metadata": {},
   "outputs": [
    {
     "name": "stdout",
     "output_type": "stream",
     "text": [
      "Comparing 165 buoy ids to the current time: 2022-11-10 02:41:34.353635+00:00 UTC\n",
      "[]\n"
     ]
    },
    {
     "name": "stderr",
     "output_type": "stream",
     "text": [
      "/var/folders/34/d1tlq3k91hb0lj6x90xpzb4r0000gn/T/ipykernel_65000/2207851140.py:3: FutureWarning: The parsing of 'now' in pd.to_datetime without `utc=True` is deprecated. In a future version, this will match Timestamp('now') and Timestamp.now()\n",
      "  current_time = pd.to_datetime('now').tz_localize('UTC')\n"
     ]
    }
   ],
   "source": [
    "# test the function with the dataframe\n",
    "print(shot_time_finder(df))"
   ]
  }
 ],
 "metadata": {
  "kernelspec": {
   "display_name": "Python 3.9.6 ('pyseas_env')",
   "language": "python",
   "name": "python3"
  },
  "language_info": {
   "codemirror_mode": {
    "name": "ipython",
    "version": 3
   },
   "file_extension": ".py",
   "mimetype": "text/x-python",
   "name": "python",
   "nbconvert_exporter": "python",
   "pygments_lexer": "ipython3",
   "version": "3.9.6"
  },
  "orig_nbformat": 4,
  "vscode": {
   "interpreter": {
    "hash": "d626167f0daf48f1329c2d475d765434ba28299f98c9f4c92c2fe00e06e2119b"
   }
  }
 },
 "nbformat": 4,
 "nbformat_minor": 2
}
