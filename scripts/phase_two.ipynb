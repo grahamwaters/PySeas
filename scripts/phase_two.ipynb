{
 "cells": [
  {
   "cell_type": "code",
   "execution_count": 2,
   "metadata": {},
   "outputs": [
    {
     "name": "stdout",
     "output_type": "stream",
     "text": [
      "\u001b[31mERROR: Could not find a version that satisfies the requirement tensorflow (from versions: none)\u001b[0m\u001b[31m\n",
      "\u001b[0m\u001b[31mERROR: No matching distribution found for tensorflow\u001b[0m\u001b[31m\n",
      "\u001b[0m"
     ]
    }
   ],
   "source": [
    "# !pip install tensorflow keras numpy pillow\n",
    "!python3 -m pip install tensorflow\n"
   ]
  },
  {
   "cell_type": "code",
   "execution_count": null,
   "metadata": {},
   "outputs": [],
   "source": [
    "import numpy as np\n",
    "from PIL import Image\n",
    "from tensorflow.keras.models import load_model\n",
    "from tensorflow.keras.preprocessing import image as keras_image\n",
    "\n",
    "MODEL_PATH = 'path/to/keras_model.h5'\n",
    "IMAGE_SIZE = (224, 224)\n",
    "CLASS_NAMES = ['Normal', 'Object In View', 'Storms', 'Sunset']\n",
    "\n",
    "def classify_image(image_path, model_path=MODEL_PATH):\n",
    "    model = load_model(model_path)\n",
    "    img = keras_image.load_img(image_path, target_size=IMAGE_SIZE)\n",
    "    img = keras_image.img_to_array(img)\n",
    "    img = np.expand_dims(img, axis=0)\n",
    "    img = img / 255.0\n",
    "\n",
    "    probabilities = model.predict(img)\n",
    "    class_index = np.argmax(probabilities)\n",
    "    return CLASS_NAMES[class_index]\n",
    "\n",
    "if __name__ == '__main__':\n",
    "    image_path = 'path/to/your/image.jpg'\n",
    "    classification = classify_image(image_path)\n",
    "    print(f'The image is classified as: {classification}')\n"
   ]
  }
 ],
 "metadata": {
  "kernelspec": {
   "display_name": "Python 3",
   "language": "python",
   "name": "python3"
  },
  "language_info": {
   "codemirror_mode": {
    "name": "ipython",
    "version": 3
   },
   "file_extension": ".py",
   "mimetype": "text/x-python",
   "name": "python",
   "nbconvert_exporter": "python",
   "pygments_lexer": "ipython3",
   "version": "3.10.9"
  },
  "orig_nbformat": 4
 },
 "nbformat": 4,
 "nbformat_minor": 2
}
