{
 "cells": [
  {
   "cell_type": "code",
   "execution_count": null,
   "metadata": {},
   "outputs": [
    {
     "ename": "",
     "evalue": "",
     "output_type": "error",
     "traceback": [
      "The Kernel crashed while executing code in the the current cell or a previous cell. Please review the code in the cell(s) to identify a possible cause of the failure. Click <a href='https://aka.ms/vscodeJupyterKernelCrash'>here</a> for more info. View Jupyter <a href='command:jupyter.viewOutput'>log</a> for further details."
     ]
    },
    {
     "ename": "",
     "evalue": "",
     "output_type": "error",
     "traceback": [
      "\u001b[1;31mCanceled future for execute_request message before replies were done"
     ]
    }
   ],
   "source": [
    "# Goal:\n",
    "# Using the pretrained Keras Model in models/converted_keras/keras_model.h5\n",
    "# to predict the class of the image as it is saved in the panels folders\n",
    "\n",
    "# Importing the libraries\n",
    "import numpy as np\n",
    "import matplotlib.pyplot as plt\n",
    "import pandas as pd\n",
    "import os\n",
    "import cv2\n",
    "import random\n",
    "import pickle\n",
    "import tensorflow as tf\n",
    "# from tensorflow.keras.models import load_model\n",
    "# import keras as keras\n",
    "from keras.models import load_model\n"
   ]
  },
  {
   "cell_type": "code",
   "execution_count": null,
   "metadata": {},
   "outputs": [],
   "source": [
    "\n",
    "\n",
    "# Loading the model\n",
    "model = load_model('models/converted_keras/keras_model.h5')\n",
    "\n",
    "# Loading the image\n",
    "image_path = 'images/panels/41001/2022_11_5_19_27.jpg_panel_1.jpg'\n",
    "img = cv2.imread(image_path) # Reading the image\n",
    "img = cv2.cvtColor(img, cv2.COLOR_BGR2RGB) # Converting the image to RGB\n",
    "img = cv2.resize(img, (224, 224)) # Resizing the image\n",
    "img = img / 255 # Normalizing the image\n",
    "img = np.array(img).reshape(-1, 224, 224, 3) # Reshaping the image\n",
    "plt.imshow(img)\n",
    "plt.show()\n"
   ]
  }
 ],
 "metadata": {
  "kernelspec": {
   "display_name": "Python 3.10.2",
   "language": "python",
   "name": "python3"
  },
  "language_info": {
   "codemirror_mode": {
    "name": "ipython",
    "version": 3
   },
   "file_extension": ".py",
   "mimetype": "text/x-python",
   "name": "python",
   "nbconvert_exporter": "python",
   "pygments_lexer": "ipython3",
   "version": "3.10.2"
  },
  "orig_nbformat": 4,
  "vscode": {
   "interpreter": {
    "hash": "49fdada105cad585dd59615e994a6138dc35f4050eac7068c005fb08fff905c3"
   }
  }
 },
 "nbformat": 4,
 "nbformat_minor": 2
}
