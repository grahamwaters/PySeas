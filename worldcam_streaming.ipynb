{
 "cells": [
  {
   "cell_type": "code",
   "execution_count": 12,
   "metadata": {},
   "outputs": [],
   "source": [
    "#pip install pafy\n",
    "#sudo pip install --upgrade youtube_dl\n",
    "#pip3 install git+https://github.com/Cupcakus/pafy\n",
    "import cv2, pafy\n",
    "import numpy as np\n",
    "import time\n",
    "import os\n",
    "# Use the following link to find the URL of the webcam you want to use\n",
    "url = \"https://www.youtube.com/watch?v=uh_yNAE01w8\"\n",
    "import pafy\n",
    "v = pafy.new(\"dQw4w9WgXcQ\")"
   ]
  },
  {
   "cell_type": "markdown",
   "metadata": {},
   "source": [
    "We want to quickly request the live streams that are running on each of our urls in the urls_list. We can do this by using the requests library. We will use the get() method to request the live stream from each url in the urls_list. We will then use the status_code attribute to check if the request was successful. If the request was successful, we will print the url and the status code. If the request was not successful, we will print the url and the status code.\n",
    "\n",
    "- Access the website and scrape the live stream video content with cv2 library and display the live stream video content\n",
    "- When the loop has gathered 1000 frames, it will move to the next url in the urls_list.\n",
    "- The loop will continue to run until all urls in the urls_list have been accessed and the live stream video content has been scraped and displayed.\n",
    "- Another loop will run in parallel to the first loop. This loop will scan the keyframes that are extracted from the current live stream and compare them against the model to determine if they are sunsets or not. If it is a sunset then the webcam url will be stored in the sunsets dictionary as the key with its value \"time of sunset\" as the value. The sunsets dictionary will be saved as a json file.\n"
   ]
  },
  {
   "cell_type": "code",
   "execution_count": 13,
   "metadata": {},
   "outputs": [],
   "source": [
    "import cv2\n",
    "import time\n",
    "import numpy as np\n",
    "import os\n",
    "from alive_progress import alive_bar\n",
    "import re\n",
    "\n",
    "\n",
    "\n",
    "\n",
    "def scan_stream_url(location, url):\n",
    "    try:\n",
    "        # url = \"https://www.youtube.com/watch?v=uh_yNAE01w8\"\n",
    "        location = str(location).strip().replace(\" \", \"_\").lower() # remove non-alphanumeric characters\n",
    "        # remove non-alphanumeric characters\n",
    "        location = location.replace(\" \", \"_\").lower()\n",
    "        regex_pattern = r\"[^a-zA-Z0-9_]\"\n",
    "        location = re.sub(regex_pattern, \"\", location)\n",
    "\n",
    "        # the stream id is the number after the v= in the url of the stream\n",
    "        url = str(url) # convert to string\n",
    "\n",
    "        # if the images/webcam_captures/stream_id folder does not exist, create it\n",
    "        if not os.path.exists(\"images/webcam_captures/\" + location):\n",
    "            os.makedirs(\"images/webcam_captures/\" + location)\n",
    "\n",
    "\n",
    "\n",
    "        # the stream url is the url of the stream\n",
    "\n",
    "        v = pafy.new(url)\n",
    "        play = v.getbest(preftype=\"mp4\")\n",
    "\n",
    "        cap = cv2.VideoCapture(play.url)\n",
    "        total_frames = 100\n",
    "        max_saved_frames = 1000\n",
    "        frame_count = 0\n",
    "\n",
    "        for frame_count in range(total_frames):\n",
    "            ret, frame = cap.read()\n",
    "            # show the frame\n",
    "            cv2.imshow(\"Frame\", frame)\n",
    "            key = cv2.waitKey(1) & 0xFF # press q to quit\n",
    "            if key == ord(\"q\"):\n",
    "                cv2.destroyAllWindows()\n",
    "                cap.release()\n",
    "                break\n",
    "            # if frame_count is less than 1000, continue\n",
    "            if frame_count < total_frames:\n",
    "                pass # do nothing\n",
    "            # if frame_count is greater than 1000, break\n",
    "            else:\n",
    "                cv2.destroyAllWindows() # destroy all windows\n",
    "                # close the video file pointers\n",
    "                cap.release()\n",
    "                break\n",
    "            # save the frame as an image file in the folder named after the current stream_id --> images/webcam_captures/stream_id\n",
    "            cv2.imwrite(\"images/webcam_captures/\" + location + \"/\" + str(frame_count) + \".jpg\", frame) # save frame as JPEG file\n",
    "            frame_count += 1\n",
    "\n",
    "        # check how many photos are in the folder, and compare to max_saved_frames.\n",
    "        # delete the oldest photos until the number of photos is equal to max_saved_frames\n",
    "        while len(os.listdir(\"images/webcam_captures/\" + location)) > max_saved_frames:\n",
    "            # get the list of files in the folder\n",
    "            files = os.listdir(\"images/webcam_captures/\" + location)\n",
    "            # sort the list of files by creation date\n",
    "            files.sort(key=os.path.getmtime)\n",
    "            # remove the oldest file\n",
    "            os.remove(\"images/webcam_captures/\" + location + \"/\" + files[0])\n",
    "\n",
    "        cap.release()\n",
    "\n",
    "        # We don't want to save tons of images so we need to process them as we go and decide which ones to save\n",
    "        #* insert model logic here (keras, tensorflow, etc detection of sunset/sunrise)\n",
    "\n",
    "\n",
    "\n",
    "        cv2.destroyAllWindows()\n",
    "    except Exception as e:\n",
    "        print(\"Error: \" + str(e))\n",
    "        cv2.destroyAllWindows()\n",
    "        try:\n",
    "            cap.release()\n",
    "        except:\n",
    "            pass # do nothing\n"
   ]
  },
  {
   "cell_type": "code",
   "execution_count": 14,
   "metadata": {},
   "outputs": [
    {
     "name": "stdout",
     "output_type": "stream",
     "text": [
      "Scanning stream url:   https://www.youtube.com/watch?v=xwAWSh35uuw\n",
      "Scanning stream url: nan\n",
      "Error: Need 11 character video id or the URL of the video. Got //nan\n",
      "Scanning stream url:  https://www.youtube.com/watch?v=-srNHTE-Nf0\n",
      "Scanning stream url:  https://www.youtube.com/watch?v=uh_yNAE01w8\n",
      "Scanning stream url:  http://www.chale-eye.com/\n",
      "Error: Need 11 character video id or the URL of the video. Got http://www.chale-eye.com/\n",
      "Scanning stream url:  http://www.dianieye.com/\n",
      "Error: Need 11 character video id or the URL of the video. Got http://www.dianieye.com/\n",
      "Scanning stream url:  https://www.earthcam.com/world/russia/moscow/?cam=moscow_hd\n",
      "Error: Need 11 character video id or the URL of the video. Got https://www.earthcam.com/world/russia/moscow/?cam=moscow_hd\n",
      "Scanning stream url:  https://www.earthcam.com/world/thailand/pattaya/?cam=pattaya\n",
      "Error: Need 11 character video id or the URL of the video. Got https://www.earthcam.com/world/thailand/pattaya/?cam=pattaya\n",
      "Scanning stream url:  https://www.earthcam.com/usa/hawaii/kauai/?cam=kauai\n",
      "Error: Need 11 character video id or the URL of the video. Got https://www.earthcam.com/usa/hawaii/kauai/?cam=kauai\n",
      "Scanning stream url:  https://www.earthcam.com/world/anguilla/meadsbay/?cam=meadsbay_hd\n",
      "Error: Need 11 character video id or the URL of the video. Got https://www.earthcam.com/world/anguilla/meadsbay/?cam=meadsbay_hd\n",
      "Scanning stream url: https://www.youtube.com/watch?v=doqBgKIBBh8\n",
      "Scanning stream url: https://www.youtube.com/watch?v=_gG-_mNaVno\n"
     ]
    },
    {
     "name": "stderr",
     "output_type": "stream",
     "text": [
      "[tls @ 0x7fbb2b840b80] Error in the pull function.\n",
      "OpenCV: Couldn't read video stream from file \"https://manifest.googlevideo.com/api/manifest/hls_playlist/expire/1667904072/ei/6N1pY4SlHPGhir4P2pKqwAQ/ip/45.27.207.41/id/_gG-_mNaVno.3/itag/96/source/yt_live_broadcast/requiressl/yes/ratebypass/yes/live/1/sgoap/gir%3Dyes%3Bitag%3D140/sgovp/gir%3Dyes%3Bitag%3D137/hls_chunk_host/rr5---sn-q4flrner.googlevideo.com/playlist_duration/30/manifest_duration/30/vprv/1/playlist_type/DVR/initcwndbps/1237500/mh/It/mm/44/mn/sn-q4flrner/ms/lva/mv/m/mvi/5/pl/18/dover/11/pacing/0/keepalive/yes/fexp/24001373,24007246/mt/1667882197/sparams/expire,ei,ip,id,itag,source,requiressl,ratebypass,live,sgoap,sgovp,playlist_duration,manifest_duration,vprv,playlist_type/sig/AOq0QJ8wRAIgCbymNXKGENHabjxuk3oZZMyk9LCl3CodJi9U0BIiVo8CIHEqWA6abOxDreQVJywB-BHbOcF6olVBRYo0OCmRNTyO/lsparams/hls_chunk_host,initcwndbps,mh,mm,mn,ms,mv,mvi,pl/lsig/AG3C_xAwRQIhAOrTv8m4iua0E_YwxNrddtDX4KvC59xgGPWIWF2nGYWhAiBTMQBlBLI1klcFgD2d08y-6AUdyNsUoMUq_bomPm6GxA%3D%3D/playlist/index.m3u8\"\n",
      "[ERROR:0@265.930] global /Users/runner/work/opencv-python/opencv-python/opencv/modules/videoio/src/cap.cpp (166) open VIDEOIO(CV_IMAGES): raised OpenCV exception:\n",
      "\n",
      "OpenCV(4.6.0) /Users/runner/work/opencv-python/opencv-python/opencv/modules/videoio/src/cap_images.cpp:235: error: (-5:Bad argument) CAP_IMAGES: error, expected '0?[1-9][du]' pattern, got: https://manifest.googlevideo.com/api/manifest/hls_playlist/expire/1667904072/ei/6N1pY4SlHPGhir4P2pKqwAQ/ip/45.27.207.41/id/_gG-_mNaVno.3/itag/96/source/yt_live_broadcast/requiressl/yes/ratebypass/yes/live/1/sgoap/gir%3Dyes%3Bitag%3D140/sgovp/gir%3Dyes%3Bitag%3D137/hls_chunk_host/rr5---sn-q4flrner.googlevideo.com/playlist_duration/30/manifest_duration/30/vprv/1/playlist_type/DVR/initcwndbps/1237500/mh/It/mm/44/mn/sn-q4flrner/ms/lva/mv/m/mvi/5/pl/18/dover/11/pacing/0/keepalive/yes/fexp/24001373,24007246/mt/1667882197/sparams/expire,ei,ip,id,itag,source,requiressl,ratebypass,live,sgoap,sgovp,playlist_duration,manifest_duration,vprv,playlist_type/sig/AOq0QJ8wRAIgCbymNXKGENHabjxuk3oZZMyk9LCl3CodJi9U0BIiVo8CIHEqWA6abOxDreQVJywB-BHbOcF6olVBRYo0OCmRNTyO/lsparams/hls_chunk_host,initcwndbps,mh,mm,mn,ms,mv,mvi,pl/lsig/AG3C_xAwRQIhAOrTv8m4iua0E_YwxNrddtDX4KvC59xgGPWIWF2nGYWhAiBTMQBlBLI1klcFgD2d08y-6AUdyNsUoMUq_bomPm6GxA%3D%3D/playlist/index.m3u8 in function 'icvExtractPattern'\n",
      "\n",
      "\n"
     ]
    },
    {
     "name": "stdout",
     "output_type": "stream",
     "text": [
      "Error: OpenCV(4.6.0) /Users/runner/work/opencv-python/opencv-python/opencv/modules/highgui/src/window.cpp:967: error: (-215:Assertion failed) size.width>0 && size.height>0 in function 'imshow'\n",
      "\n",
      "Scanning stream url: https://www.youtube.com/watch?v=n3B8fp-Henc\n",
      "Scanning stream url: https://www.youtube.com/watch?v=9k_sg8rhsgk\n",
      "Scanning stream url: https://www.youtube.com/watch?v=Jc4LpjP67Nw\n",
      "Scanning stream url:  https://www.youtube.com/watch?v=9k_sg8rhsgk&t=0s\n",
      "Scanning stream url:  https://www.youtube.com/watch?v=BzwWjdZXymc&t=0s\n",
      "Scanning stream url:  https://www.youtube.com/watch?v=nCf7X2cPDAY&t=0s\n",
      "Scanning stream url:  https://www.youtube.com/watch?v=m2wWzo9GmwY&t=0s\n",
      "Scanning stream url:  https://www.youtube.com/watch?v=T1Dm51TaWMY&t=0s\n",
      "Scanning stream url:  https://www.youtube.com/watch?v=vCBaTTC7FHs&t=0s\n",
      "Scanning stream url:  https://www.youtube.com/watch?v=Jc4LpjP67Nw&t=0s\n",
      "Scanning stream url:  https://www.youtube.com/watch?v=G7u1XXLBbrY&t=0s\n",
      "Scanning stream url:  https://www.youtube.com/watch?v=vqCD00PD5pk&t=0s\n",
      "Scanning stream url: https://www.youtube.com/watch?v=_L0u39B732I&t=0s\n",
      "Scanning stream url: https://www.youtube.com/watch?v=Arf54yKFp2Y&t=0s\n",
      "Scanning stream url: https://www.youtube.com/watch?v=i2rSgt5t_p4&t=0s\n",
      "Scanning stream url: https://www.youtube.com/watch?v=8NlISOaq6jg&t=0s\n",
      "Scanning stream url: https://www.youtube.com/watch?v=rCec9HDbFwA&t=0s\n",
      "Scanning stream url: https://www.youtube.com/watch?v=zTVWJ3Mc0Ag&t=0s\n",
      "Scanning stream url:  https://www.youtube.com/watch?v=8VOZJhA-T1g\n",
      "Scanning stream url: nan\n",
      "Error: Need 11 character video id or the URL of the video. Got //nan\n",
      "Scanning stream url: https://www.youtube.com/watch?v=CDK_bneGuvw\n",
      "Scanning stream url: https://www.youtube.com/watch?v=vCYD6jNcisg\n",
      "Scanning stream url:  https://www.youtube.com/watch?v=zLIFGvFZHic\n",
      "Scanning stream url:  https://www.youtube.com/watch?v=h1h8GqED1jA\n",
      "Scanning stream url:  https://www.youtube.com/watch?v=mr-O8qqLqeM\n"
     ]
    }
   ],
   "source": [
    "\n",
    "# read in the locations_with_cameras.csv file and get the list of urls\n",
    "import pandas as pd\n",
    "df = pd.read_csv(\"locations_with_cameras.csv\")\n",
    "urls = df[\"url\"].tolist()\n",
    "locations = df[\"location\"].tolist()\n",
    "# scan each url and save the images to the appropriate folder\n",
    "for i in range(len(urls)):\n",
    "    print(\"Scanning stream url: \" + str(urls[i]))\n",
    "    scan_stream_url(locations[i], urls[i])\n",
    "\n"
   ]
  },
  {
   "cell_type": "code",
   "execution_count": null,
   "metadata": {},
   "outputs": [],
   "source": [
    "# close all the windows\n",
    "cv2.destroyAllWindows()\n"
   ]
  },
  {
   "cell_type": "code",
   "execution_count": null,
   "metadata": {},
   "outputs": [],
   "source": []
  }
 ],
 "metadata": {
  "kernelspec": {
   "display_name": "Python 3.9.6 ('pyseas_env')",
   "language": "python",
   "name": "python3"
  },
  "language_info": {
   "codemirror_mode": {
    "name": "ipython",
    "version": 3
   },
   "file_extension": ".py",
   "mimetype": "text/x-python",
   "name": "python",
   "nbconvert_exporter": "python",
   "pygments_lexer": "ipython3",
   "version": "3.9.6"
  },
  "orig_nbformat": 4,
  "vscode": {
   "interpreter": {
    "hash": "d626167f0daf48f1329c2d475d765434ba28299f98c9f4c92c2fe00e06e2119b"
   }
  }
 },
 "nbformat": 4,
 "nbformat_minor": 2
}
